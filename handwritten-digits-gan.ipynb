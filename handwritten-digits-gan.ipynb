{
 "cells": [
  {
   "cell_type": "code",
   "execution_count": 1,
   "id": "f8ac47b0",
   "metadata": {
    "execution": {
     "iopub.execute_input": "2024-11-24T03:22:04.164480Z",
     "iopub.status.busy": "2024-11-24T03:22:04.164061Z",
     "iopub.status.idle": "2024-11-24T03:22:04.170041Z",
     "shell.execute_reply": "2024-11-24T03:22:04.168655Z"
    },
    "executionInfo": {
     "elapsed": 661,
     "status": "ok",
     "timestamp": 1727876233529,
     "user": {
      "displayName": "amar raj",
      "userId": "10123611219547020528"
     },
     "user_tz": -330
    },
    "id": "kZhKOl8myv0Z",
    "papermill": {
     "duration": 0.021611,
     "end_time": "2024-11-24T03:22:04.173435",
     "exception": false,
     "start_time": "2024-11-24T03:22:04.151824",
     "status": "completed"
    },
    "tags": []
   },
   "outputs": [],
   "source": [
    "#Mount the Google Drive\n",
    "# from google.colab import drive\n",
    "# drive.mount('/content/drive')"
   ]
  },
  {
   "cell_type": "markdown",
   "id": "b998082f",
   "metadata": {
    "id": "S3k_9nU9xh88",
    "papermill": {
     "duration": 0.00776,
     "end_time": "2024-11-24T03:22:04.188382",
     "exception": false,
     "start_time": "2024-11-24T03:22:04.180622",
     "status": "completed"
    },
    "tags": []
   },
   "source": [
    "# Handwritten Digits GAN - Genrative Adversarial Network\n"
   ]
  },
  {
   "cell_type": "markdown",
   "id": "15e2fade",
   "metadata": {
    "id": "aRYt9-_V78aR",
    "papermill": {
     "duration": 0.005106,
     "end_time": "2024-11-24T03:22:04.199459",
     "exception": false,
     "start_time": "2024-11-24T03:22:04.194353",
     "status": "completed"
    },
    "tags": []
   },
   "source": [
    "## Summary\n",
    "- Problem Statement\n",
    "- Import the required libraries - tensorflow\n",
    "- Pre-process the dataset\n",
    "- Generator\n",
    "- Discriminator\n",
    "- Combining Generator and Discriminator\n",
    "- Training the Model & Output Visualization"
   ]
  },
  {
   "cell_type": "markdown",
   "id": "bc66d514",
   "metadata": {
    "id": "K9S6MB8pyRBm",
    "papermill": {
     "duration": 0.008938,
     "end_time": "2024-11-24T03:22:04.217557",
     "exception": false,
     "start_time": "2024-11-24T03:22:04.208619",
     "status": "completed"
    },
    "tags": []
   },
   "source": [
    "## Problem Statement\n",
    "- MNIST  - Modified National Institute of Standards and Technology dataset.\n",
    "- 60,000 training images and 10,000 testing images.\n",
    "- Each image is 28x28 pixels , a total of 784 pixels.\n",
    "- Pixel-value is an integer between 0 and 255, inclusive.\n",
    "- Goal is to correctly differenciate  digits from a dataset of thousands of handwritten images and fake generated image.\n",
    "\n",
    "![alt text](https://i.imgur.com/Su00XUA.png)"
   ]
  },
  {
   "cell_type": "markdown",
   "id": "55cd4c84",
   "metadata": {
    "id": "y9WbODMn_pIl",
    "papermill": {
     "duration": 0.007082,
     "end_time": "2024-11-24T03:22:04.234461",
     "exception": false,
     "start_time": "2024-11-24T03:22:04.227379",
     "status": "completed"
    },
    "tags": []
   },
   "source": [
    "## Import the required libraries - tensorflow"
   ]
  },
  {
   "cell_type": "code",
   "execution_count": 2,
   "id": "6831af73",
   "metadata": {
    "execution": {
     "iopub.execute_input": "2024-11-24T03:22:04.247760Z",
     "iopub.status.busy": "2024-11-24T03:22:04.247377Z",
     "iopub.status.idle": "2024-11-24T03:22:21.652205Z",
     "shell.execute_reply": "2024-11-24T03:22:21.651095Z"
    },
    "executionInfo": {
     "elapsed": 5869,
     "status": "ok",
     "timestamp": 1727876240025,
     "user": {
      "displayName": "amar raj",
      "userId": "10123611219547020528"
     },
     "user_tz": -330
    },
    "id": "eSkAYjA2a8Au",
    "papermill": {
     "duration": 17.415024,
     "end_time": "2024-11-24T03:22:21.654748",
     "exception": false,
     "start_time": "2024-11-24T03:22:04.239724",
     "status": "completed"
    },
    "tags": []
   },
   "outputs": [],
   "source": [
    "# for data analysis\n",
    "import pandas as pd\n",
    "import numpy as np\n",
    "\n",
    "# for data visualization\n",
    "import matplotlib.pyplot as plt\n",
    "import seaborn as sns\n",
    "from tqdm import tqdm # for progress bar\n",
    "\n",
    "# for model training\n",
    "import tensorflow as tf # Importing Tensorflow Library\n",
    "from tensorflow.keras.datasets import mnist # Importing MNIST Dataset\n",
    "from tensorflow.keras.models import Sequential,Model\n",
    "from tensorflow.keras.layers import Dense,Activation,Input\n",
    "from tensorflow.keras.optimizers import Adam\n"
   ]
  },
  {
   "cell_type": "markdown",
   "id": "7d616f31",
   "metadata": {
    "id": "_lW_AxL-Ae1w",
    "papermill": {
     "duration": 0.004892,
     "end_time": "2024-11-24T03:22:21.665063",
     "exception": false,
     "start_time": "2024-11-24T03:22:21.660171",
     "status": "completed"
    },
    "tags": []
   },
   "source": [
    "## Pre-process the dataset"
   ]
  },
  {
   "cell_type": "code",
   "execution_count": 3,
   "id": "34cc06a2",
   "metadata": {
    "execution": {
     "iopub.execute_input": "2024-11-24T03:22:21.677682Z",
     "iopub.status.busy": "2024-11-24T03:22:21.677002Z",
     "iopub.status.idle": "2024-11-24T03:22:22.369424Z",
     "shell.execute_reply": "2024-11-24T03:22:22.368113Z"
    },
    "executionInfo": {
     "elapsed": 3319,
     "status": "ok",
     "timestamp": 1727876243321,
     "user": {
      "displayName": "amar raj",
      "userId": "10123611219547020528"
     },
     "user_tz": -330
    },
    "id": "w_1Z4U35GkhE",
    "outputId": "0c5e79e7-2a1b-4822-869b-bd578507a9a3",
    "papermill": {
     "duration": 0.702541,
     "end_time": "2024-11-24T03:22:22.372840",
     "exception": false,
     "start_time": "2024-11-24T03:22:21.670299",
     "status": "completed"
    },
    "tags": []
   },
   "outputs": [
    {
     "name": "stdout",
     "output_type": "stream",
     "text": [
      "Downloading data from https://storage.googleapis.com/tensorflow/tf-keras-datasets/mnist.npz\n",
      "\u001b[1m11490434/11490434\u001b[0m \u001b[32m━━━━━━━━━━━━━━━━━━━━\u001b[0m\u001b[37m\u001b[0m \u001b[1m0s\u001b[0m 0us/step\n",
      "Train data shape :(60000, 28, 28)\n",
      "Test data shape :(10000, 28, 28)\n",
      "Train data shape after reshape  :(60000, 784)\n",
      "Test data shape after reshape :(10000, 784)\n",
      "[-1.         -1.         -1.         -1.         -1.         -1.\n",
      " -1.         -1.         -1.         -1.         -1.         -1.\n",
      " -1.         -1.         -1.         -1.         -1.         -1.\n",
      " -1.         -1.         -1.         -1.         -1.         -1.\n",
      " -1.         -1.         -1.         -1.         -1.         -1.\n",
      " -1.         -1.         -1.         -1.         -1.         -1.\n",
      " -1.         -1.         -1.         -1.         -1.         -1.\n",
      " -1.         -1.         -1.         -1.         -1.         -1.\n",
      " -1.         -1.         -1.         -1.         -1.         -1.\n",
      " -1.         -1.         -1.         -1.         -1.         -1.\n",
      " -1.         -1.         -1.         -1.         -1.         -1.\n",
      " -1.         -1.         -1.         -1.         -1.         -1.\n",
      " -1.         -1.         -1.         -1.         -1.         -1.\n",
      " -1.         -1.         -1.         -1.         -1.         -1.\n",
      " -1.         -1.         -1.         -1.         -1.         -1.\n",
      " -1.         -1.         -1.         -1.         -1.         -1.\n",
      " -1.         -1.         -1.         -1.         -1.         -1.\n",
      " -1.         -1.         -1.         -1.         -1.         -1.\n",
      " -1.         -1.         -1.         -1.         -1.         -1.\n",
      " -1.         -1.         -1.         -1.         -1.         -1.\n",
      " -1.         -1.         -1.         -1.         -1.         -1.\n",
      " -1.         -1.         -1.         -1.         -1.         -1.\n",
      " -1.         -1.         -1.         -1.         -1.         -1.\n",
      " -1.         -1.         -1.         -1.         -1.         -1.\n",
      " -1.         -1.         -1.         -1.         -1.         -1.\n",
      " -1.         -1.         -0.9764706  -0.85882354 -0.85882354 -0.85882354\n",
      " -0.01176471  0.06666667  0.37254903 -0.79607844  0.3019608   1.\n",
      "  0.9372549  -0.00392157 -1.         -1.         -1.         -1.\n",
      " -1.         -1.         -1.         -1.         -1.         -1.\n",
      " -1.         -1.         -0.7647059  -0.7176471  -0.2627451   0.20784314\n",
      "  0.33333334  0.9843137   0.9843137   0.9843137   0.9843137   0.9843137\n",
      "  0.7647059   0.34901962  0.9843137   0.8980392   0.5294118  -0.49803922\n",
      " -1.         -1.         -1.         -1.         -1.         -1.\n",
      " -1.         -1.         -1.         -1.         -1.         -0.6156863\n",
      "  0.8666667   0.9843137   0.9843137   0.9843137   0.9843137   0.9843137\n",
      "  0.9843137   0.9843137   0.9843137   0.96862745 -0.27058825 -0.35686275\n",
      " -0.35686275 -0.56078434 -0.69411767 -1.         -1.         -1.\n",
      " -1.         -1.         -1.         -1.         -1.         -1.\n",
      " -1.         -1.         -1.         -0.85882354  0.7176471   0.9843137\n",
      "  0.9843137   0.9843137   0.9843137   0.9843137   0.5529412   0.42745098\n",
      "  0.9372549   0.8901961  -1.         -1.         -1.         -1.\n",
      " -1.         -1.         -1.         -1.         -1.         -1.\n",
      " -1.         -1.         -1.         -1.         -1.         -1.\n",
      " -1.         -1.         -0.37254903  0.22352941 -0.16078432  0.9843137\n",
      "  0.9843137   0.60784316 -0.9137255  -1.         -0.6627451   0.20784314\n",
      " -1.         -1.         -1.         -1.         -1.         -1.\n",
      " -1.         -1.         -1.         -1.         -1.         -1.\n",
      " -1.         -1.         -1.         -1.         -1.         -1.\n",
      " -1.         -0.8901961  -0.99215686  0.20784314  0.9843137  -0.29411766\n",
      " -1.         -1.         -1.         -1.         -1.         -1.\n",
      " -1.         -1.         -1.         -1.         -1.         -1.\n",
      " -1.         -1.         -1.         -1.         -1.         -1.\n",
      " -1.         -1.         -1.         -1.         -1.         -1.\n",
      " -1.          0.09019608  0.9843137   0.49019608 -0.9843137  -1.\n",
      " -1.         -1.         -1.         -1.         -1.         -1.\n",
      " -1.         -1.         -1.         -1.         -1.         -1.\n",
      " -1.         -1.         -1.         -1.         -1.         -1.\n",
      " -1.         -1.         -1.         -1.         -1.         -0.9137255\n",
      "  0.49019608  0.9843137  -0.4509804  -1.         -1.         -1.\n",
      " -1.         -1.         -1.         -1.         -1.         -1.\n",
      " -1.         -1.         -1.         -1.         -1.         -1.\n",
      " -1.         -1.         -1.         -1.         -1.         -1.\n",
      " -1.         -1.         -1.         -1.         -0.7254902   0.8901961\n",
      "  0.7647059   0.25490198 -0.15294118 -0.99215686 -1.         -1.\n",
      " -1.         -1.         -1.         -1.         -1.         -1.\n",
      " -1.         -1.         -1.         -1.         -1.         -1.\n",
      " -1.         -1.         -1.         -1.         -1.         -1.\n",
      " -1.         -1.         -1.         -0.3647059   0.88235295  0.9843137\n",
      "  0.9843137  -0.06666667 -0.8039216  -1.         -1.         -1.\n",
      " -1.         -1.         -1.         -1.         -1.         -1.\n",
      " -1.         -1.         -1.         -1.         -1.         -1.\n",
      " -1.         -1.         -1.         -1.         -1.         -1.\n",
      " -1.         -1.         -0.64705884  0.45882353  0.9843137   0.9843137\n",
      "  0.1764706  -0.7882353  -1.         -1.         -1.         -1.\n",
      " -1.         -1.         -1.         -1.         -1.         -1.\n",
      " -1.         -1.         -1.         -1.         -1.         -1.\n",
      " -1.         -1.         -1.         -1.         -1.         -1.\n",
      " -1.         -0.8745098  -0.27058825  0.9764706   0.9843137   0.46666667\n",
      " -1.         -1.         -1.         -1.         -1.         -1.\n",
      " -1.         -1.         -1.         -1.         -1.         -1.\n",
      " -1.         -1.         -1.         -1.         -1.         -1.\n",
      " -1.         -1.         -1.         -1.         -1.         -1.\n",
      " -1.          0.9529412   0.9843137   0.9529412  -0.49803922 -1.\n",
      " -1.         -1.         -1.         -1.         -1.         -1.\n",
      " -1.         -1.         -1.         -1.         -1.         -1.\n",
      " -1.         -1.         -1.         -1.         -1.         -1.\n",
      " -1.         -1.         -0.6392157   0.01960784  0.43529412  0.9843137\n",
      "  0.9843137   0.62352943 -0.9843137  -1.         -1.         -1.\n",
      " -1.         -1.         -1.         -1.         -1.         -1.\n",
      " -1.         -1.         -1.         -1.         -1.         -1.\n",
      " -1.         -1.         -1.         -1.         -0.69411767  0.16078432\n",
      "  0.79607844  0.9843137   0.9843137   0.9843137   0.9607843   0.42745098\n",
      " -1.         -1.         -1.         -1.         -1.         -1.\n",
      " -1.         -1.         -1.         -1.         -1.         -1.\n",
      " -1.         -1.         -1.         -1.         -1.         -1.\n",
      " -0.8117647  -0.10588235  0.73333335  0.9843137   0.9843137   0.9843137\n",
      "  0.9843137   0.5764706  -0.3882353  -1.         -1.         -1.\n",
      " -1.         -1.         -1.         -1.         -1.         -1.\n",
      " -1.         -1.         -1.         -1.         -1.         -1.\n",
      " -1.         -1.         -0.81960785 -0.48235294  0.67058825  0.9843137\n",
      "  0.9843137   0.9843137   0.9843137   0.5529412  -0.3647059  -0.9843137\n",
      " -1.         -1.         -1.         -1.         -1.         -1.\n",
      " -1.         -1.         -1.         -1.         -1.         -1.\n",
      " -1.         -1.         -1.         -1.         -0.85882354  0.34117648\n",
      "  0.7176471   0.9843137   0.9843137   0.9843137   0.9843137   0.5294118\n",
      " -0.37254903 -0.92941177 -1.         -1.         -1.         -1.\n",
      " -1.         -1.         -1.         -1.         -1.         -1.\n",
      " -1.         -1.         -1.         -1.         -1.         -1.\n",
      " -0.5686275   0.34901962  0.77254903  0.9843137   0.9843137   0.9843137\n",
      "  0.9843137   0.9137255   0.04313726 -0.9137255  -1.         -1.\n",
      " -1.         -1.         -1.         -1.         -1.         -1.\n",
      " -1.         -1.         -1.         -1.         -1.         -1.\n",
      " -1.         -1.         -1.         -1.          0.06666667  0.9843137\n",
      "  0.9843137   0.9843137   0.6627451   0.05882353  0.03529412 -0.8745098\n",
      " -1.         -1.         -1.         -1.         -1.         -1.\n",
      " -1.         -1.         -1.         -1.         -1.         -1.\n",
      " -1.         -1.         -1.         -1.         -1.         -1.\n",
      " -1.         -1.         -1.         -1.         -1.         -1.\n",
      " -1.         -1.         -1.         -1.         -1.         -1.\n",
      " -1.         -1.         -1.         -1.         -1.         -1.\n",
      " -1.         -1.         -1.         -1.         -1.         -1.\n",
      " -1.         -1.         -1.         -1.         -1.         -1.\n",
      " -1.         -1.         -1.         -1.         -1.         -1.\n",
      " -1.         -1.         -1.         -1.         -1.         -1.\n",
      " -1.         -1.         -1.         -1.         -1.         -1.\n",
      " -1.         -1.         -1.         -1.         -1.         -1.\n",
      " -1.         -1.         -1.         -1.         -1.         -1.\n",
      " -1.         -1.         -1.         -1.         -1.         -1.\n",
      " -1.         -1.         -1.         -1.         -1.         -1.\n",
      " -1.         -1.         -1.         -1.         -1.         -1.\n",
      " -1.         -1.         -1.         -1.        ]\n"
     ]
    }
   ],
   "source": [
    "class PreProcess:\n",
    "  def __init__(self):\n",
    "    self.X_train = None\n",
    "    self.X_test = None\n",
    "    self.y_train = None\n",
    "    self.y_test = None\n",
    "\n",
    "  def load_data(self):\n",
    "    try :\n",
    "      # Loading MNIST dataset\n",
    "      (self.X_train, self.y_train), (self.X_test, self.y_test) = mnist.load_data()\n",
    "      # Data Exploration\n",
    "      print(f\"Train data shape :{self.X_train.shape}\")\n",
    "      print(f\"Test data shape :{self.X_test.shape}\")\n",
    "    except Exception as e:\n",
    "      print(f\"Failed to load MNIST data : {str(e)}\")\n",
    "\n",
    "  def  reshape_scale(self):\n",
    "    try :\n",
    "      #convert data to floating pint and scale to -1 to 1\n",
    "      # data range - 0 to 255 , (0-127.5)/127.5 = -1 ,(255-127.5)/127.5 = +1\n",
    "      # we can select scaling parameter any . -1 to +1 is use to tanh activation function instead sigmoid\n",
    "        self.X_train =(self.X_train.astype('float32') -127.5)/127.5\n",
    "        self.X_test =(self.X_test.astype('float32') -127.5)/127.5\n",
    "\n",
    "      #now datasize is 60000 * 28*28 or 10000*28*28\n",
    "      #reshaping -  we need dataset in 784 pixel.\n",
    "        self.X_train = self.X_train.reshape(60000, 784)\n",
    "        self.X_test = self.X_test.reshape(10000, 784)\n",
    "        print(f\"Train data shape after reshape  :{self.X_train.shape}\")\n",
    "        print(f\"Test data shape after reshape :{self.X_test.shape}\")\n",
    "        return self.X_train, self.X_test, self.y_train, self.y_test\n",
    "    except ValueError as ve:\n",
    "        raise ValueError(f\"Reshaping or scaling failed :{str(ve)}\")\n",
    "    except AttributeError as ae:\n",
    "       raise AttributeError(f\"Data not loaded. Call load_data() first: {str(ae)}\")\n",
    "    except Exception as e:\n",
    "        raise RuntimeError (f\"An unexpected error occurred during reshape_scale : {str(e)}\")\n",
    "\n",
    "\n",
    "try:\n",
    "  pre_process= PreProcess()\n",
    "  pre_process.load_data()\n",
    "  X_train, X_test, y_train, y_test = pre_process.reshape_scale()\n",
    "  print(X_train[0])\n",
    "except Exception as e:\n",
    "  print(f\"An error occured : {str(e)}\")"
   ]
  },
  {
   "cell_type": "markdown",
   "id": "ecaf8416",
   "metadata": {
    "id": "9IZaQ-Hb_L7X",
    "papermill": {
     "duration": 0.006001,
     "end_time": "2024-11-24T03:22:22.385177",
     "exception": false,
     "start_time": "2024-11-24T03:22:22.379176",
     "status": "completed"
    },
    "tags": []
   },
   "source": [
    "#  GAN - Genrative Adversarial Network - Vanilla GAN Model\n",
    "![alt text](https://i.imgur.com/Fg891TJ.png)"
   ]
  },
  {
   "cell_type": "markdown",
   "id": "72fb9943",
   "metadata": {
    "id": "QP5E7XkcephI",
    "papermill": {
     "duration": 0.005575,
     "end_time": "2024-11-24T03:22:22.397102",
     "exception": false,
     "start_time": "2024-11-24T03:22:22.391527",
     "status": "completed"
    },
    "tags": []
   },
   "source": [
    "## Generator"
   ]
  },
  {
   "cell_type": "code",
   "execution_count": 4,
   "id": "4a3a4673",
   "metadata": {
    "execution": {
     "iopub.execute_input": "2024-11-24T03:22:22.411166Z",
     "iopub.status.busy": "2024-11-24T03:22:22.410733Z",
     "iopub.status.idle": "2024-11-24T03:22:22.418317Z",
     "shell.execute_reply": "2024-11-24T03:22:22.417243Z"
    },
    "executionInfo": {
     "elapsed": 12,
     "status": "ok",
     "timestamp": 1727876243321,
     "user": {
      "displayName": "amar raj",
      "userId": "10123611219547020528"
     },
     "user_tz": -330
    },
    "id": "djCIx3rbenYu",
    "papermill": {
     "duration": 0.016848,
     "end_time": "2024-11-24T03:22:22.420546",
     "exception": false,
     "start_time": "2024-11-24T03:22:22.403698",
     "status": "completed"
    },
    "tags": []
   },
   "outputs": [],
   "source": [
    "class Generaor:\n",
    "  def __init__(self):\n",
    "    self.model = None\n",
    "  def build_generator(self):\n",
    "    try :\n",
    "      self.model = Sequential()\n",
    "    # first layer\n",
    "      self.model.add(Dense(256,input_dim = 100)) # 100 random samples\n",
    "      self.model.add(Activation('relu'))\n",
    "    # second layer\n",
    "      self.model.add(Dense(512))\n",
    "      self.model.add(Activation('relu'))\n",
    "    # third layer\n",
    "      self.model.add(Dense(1024))\n",
    "      self.model.add(Activation('relu'))\n",
    "      #output layer\n",
    "      self.model.add(Dense(784))\n",
    "      self.model.add(Activation('tanh')) # as all input has converted -1 to 1 for that reason chosen tan hyperbolic acivation function in last layer.\n",
    "      # model compilation - 100-256-512-1024-784\n",
    "      self.model.compile(loss='binary_crossentropy', optimizer='adam')\n",
    "      return self.model\n",
    "    except Exception as e:\n",
    "      print(f\"An error occured : {str(e)}\")"
   ]
  },
  {
   "cell_type": "code",
   "execution_count": 5,
   "id": "ace43400",
   "metadata": {
    "execution": {
     "iopub.execute_input": "2024-11-24T03:22:22.434587Z",
     "iopub.status.busy": "2024-11-24T03:22:22.434192Z",
     "iopub.status.idle": "2024-11-24T03:22:22.609154Z",
     "shell.execute_reply": "2024-11-24T03:22:22.607982Z"
    },
    "executionInfo": {
     "elapsed": 1578,
     "status": "ok",
     "timestamp": 1727876245513,
     "user": {
      "displayName": "amar raj",
      "userId": "10123611219547020528"
     },
     "user_tz": -330
    },
    "id": "WIEk_NS6umUZ",
    "outputId": "6d582713-7647-4a5c-ae25-7365fd23d06c",
    "papermill": {
     "duration": 0.184401,
     "end_time": "2024-11-24T03:22:22.611544",
     "exception": false,
     "start_time": "2024-11-24T03:22:22.427143",
     "status": "completed"
    },
    "tags": []
   },
   "outputs": [
    {
     "name": "stderr",
     "output_type": "stream",
     "text": [
      "/opt/conda/lib/python3.10/site-packages/keras/src/layers/core/dense.py:87: UserWarning: Do not pass an `input_shape`/`input_dim` argument to a layer. When using Sequential models, prefer using an `Input(shape)` object as the first layer in the model instead.\n",
      "  super().__init__(activity_regularizer=activity_regularizer, **kwargs)\n"
     ]
    },
    {
     "data": {
      "text/html": [
       "<pre style=\"white-space:pre;overflow-x:auto;line-height:normal;font-family:Menlo,'DejaVu Sans Mono',consolas,'Courier New',monospace\"><span style=\"font-weight: bold\">Model: \"sequential\"</span>\n",
       "</pre>\n"
      ],
      "text/plain": [
       "\u001b[1mModel: \"sequential\"\u001b[0m\n"
      ]
     },
     "metadata": {},
     "output_type": "display_data"
    },
    {
     "data": {
      "text/html": [
       "<pre style=\"white-space:pre;overflow-x:auto;line-height:normal;font-family:Menlo,'DejaVu Sans Mono',consolas,'Courier New',monospace\">┏━━━━━━━━━━━━━━━━━━━━━━━━━━━━━━━━━┳━━━━━━━━━━━━━━━━━━━━━━━━┳━━━━━━━━━━━━━━━┓\n",
       "┃<span style=\"font-weight: bold\"> Layer (type)                    </span>┃<span style=\"font-weight: bold\"> Output Shape           </span>┃<span style=\"font-weight: bold\">       Param # </span>┃\n",
       "┡━━━━━━━━━━━━━━━━━━━━━━━━━━━━━━━━━╇━━━━━━━━━━━━━━━━━━━━━━━━╇━━━━━━━━━━━━━━━┩\n",
       "│ dense (<span style=\"color: #0087ff; text-decoration-color: #0087ff\">Dense</span>)                   │ (<span style=\"color: #00d7ff; text-decoration-color: #00d7ff\">None</span>, <span style=\"color: #00af00; text-decoration-color: #00af00\">256</span>)            │        <span style=\"color: #00af00; text-decoration-color: #00af00\">25,856</span> │\n",
       "├─────────────────────────────────┼────────────────────────┼───────────────┤\n",
       "│ activation (<span style=\"color: #0087ff; text-decoration-color: #0087ff\">Activation</span>)         │ (<span style=\"color: #00d7ff; text-decoration-color: #00d7ff\">None</span>, <span style=\"color: #00af00; text-decoration-color: #00af00\">256</span>)            │             <span style=\"color: #00af00; text-decoration-color: #00af00\">0</span> │\n",
       "├─────────────────────────────────┼────────────────────────┼───────────────┤\n",
       "│ dense_1 (<span style=\"color: #0087ff; text-decoration-color: #0087ff\">Dense</span>)                 │ (<span style=\"color: #00d7ff; text-decoration-color: #00d7ff\">None</span>, <span style=\"color: #00af00; text-decoration-color: #00af00\">512</span>)            │       <span style=\"color: #00af00; text-decoration-color: #00af00\">131,584</span> │\n",
       "├─────────────────────────────────┼────────────────────────┼───────────────┤\n",
       "│ activation_1 (<span style=\"color: #0087ff; text-decoration-color: #0087ff\">Activation</span>)       │ (<span style=\"color: #00d7ff; text-decoration-color: #00d7ff\">None</span>, <span style=\"color: #00af00; text-decoration-color: #00af00\">512</span>)            │             <span style=\"color: #00af00; text-decoration-color: #00af00\">0</span> │\n",
       "├─────────────────────────────────┼────────────────────────┼───────────────┤\n",
       "│ dense_2 (<span style=\"color: #0087ff; text-decoration-color: #0087ff\">Dense</span>)                 │ (<span style=\"color: #00d7ff; text-decoration-color: #00d7ff\">None</span>, <span style=\"color: #00af00; text-decoration-color: #00af00\">1024</span>)           │       <span style=\"color: #00af00; text-decoration-color: #00af00\">525,312</span> │\n",
       "├─────────────────────────────────┼────────────────────────┼───────────────┤\n",
       "│ activation_2 (<span style=\"color: #0087ff; text-decoration-color: #0087ff\">Activation</span>)       │ (<span style=\"color: #00d7ff; text-decoration-color: #00d7ff\">None</span>, <span style=\"color: #00af00; text-decoration-color: #00af00\">1024</span>)           │             <span style=\"color: #00af00; text-decoration-color: #00af00\">0</span> │\n",
       "├─────────────────────────────────┼────────────────────────┼───────────────┤\n",
       "│ dense_3 (<span style=\"color: #0087ff; text-decoration-color: #0087ff\">Dense</span>)                 │ (<span style=\"color: #00d7ff; text-decoration-color: #00d7ff\">None</span>, <span style=\"color: #00af00; text-decoration-color: #00af00\">784</span>)            │       <span style=\"color: #00af00; text-decoration-color: #00af00\">803,600</span> │\n",
       "├─────────────────────────────────┼────────────────────────┼───────────────┤\n",
       "│ activation_3 (<span style=\"color: #0087ff; text-decoration-color: #0087ff\">Activation</span>)       │ (<span style=\"color: #00d7ff; text-decoration-color: #00d7ff\">None</span>, <span style=\"color: #00af00; text-decoration-color: #00af00\">784</span>)            │             <span style=\"color: #00af00; text-decoration-color: #00af00\">0</span> │\n",
       "└─────────────────────────────────┴────────────────────────┴───────────────┘\n",
       "</pre>\n"
      ],
      "text/plain": [
       "┏━━━━━━━━━━━━━━━━━━━━━━━━━━━━━━━━━┳━━━━━━━━━━━━━━━━━━━━━━━━┳━━━━━━━━━━━━━━━┓\n",
       "┃\u001b[1m \u001b[0m\u001b[1mLayer (type)                   \u001b[0m\u001b[1m \u001b[0m┃\u001b[1m \u001b[0m\u001b[1mOutput Shape          \u001b[0m\u001b[1m \u001b[0m┃\u001b[1m \u001b[0m\u001b[1m      Param #\u001b[0m\u001b[1m \u001b[0m┃\n",
       "┡━━━━━━━━━━━━━━━━━━━━━━━━━━━━━━━━━╇━━━━━━━━━━━━━━━━━━━━━━━━╇━━━━━━━━━━━━━━━┩\n",
       "│ dense (\u001b[38;5;33mDense\u001b[0m)                   │ (\u001b[38;5;45mNone\u001b[0m, \u001b[38;5;34m256\u001b[0m)            │        \u001b[38;5;34m25,856\u001b[0m │\n",
       "├─────────────────────────────────┼────────────────────────┼───────────────┤\n",
       "│ activation (\u001b[38;5;33mActivation\u001b[0m)         │ (\u001b[38;5;45mNone\u001b[0m, \u001b[38;5;34m256\u001b[0m)            │             \u001b[38;5;34m0\u001b[0m │\n",
       "├─────────────────────────────────┼────────────────────────┼───────────────┤\n",
       "│ dense_1 (\u001b[38;5;33mDense\u001b[0m)                 │ (\u001b[38;5;45mNone\u001b[0m, \u001b[38;5;34m512\u001b[0m)            │       \u001b[38;5;34m131,584\u001b[0m │\n",
       "├─────────────────────────────────┼────────────────────────┼───────────────┤\n",
       "│ activation_1 (\u001b[38;5;33mActivation\u001b[0m)       │ (\u001b[38;5;45mNone\u001b[0m, \u001b[38;5;34m512\u001b[0m)            │             \u001b[38;5;34m0\u001b[0m │\n",
       "├─────────────────────────────────┼────────────────────────┼───────────────┤\n",
       "│ dense_2 (\u001b[38;5;33mDense\u001b[0m)                 │ (\u001b[38;5;45mNone\u001b[0m, \u001b[38;5;34m1024\u001b[0m)           │       \u001b[38;5;34m525,312\u001b[0m │\n",
       "├─────────────────────────────────┼────────────────────────┼───────────────┤\n",
       "│ activation_2 (\u001b[38;5;33mActivation\u001b[0m)       │ (\u001b[38;5;45mNone\u001b[0m, \u001b[38;5;34m1024\u001b[0m)           │             \u001b[38;5;34m0\u001b[0m │\n",
       "├─────────────────────────────────┼────────────────────────┼───────────────┤\n",
       "│ dense_3 (\u001b[38;5;33mDense\u001b[0m)                 │ (\u001b[38;5;45mNone\u001b[0m, \u001b[38;5;34m784\u001b[0m)            │       \u001b[38;5;34m803,600\u001b[0m │\n",
       "├─────────────────────────────────┼────────────────────────┼───────────────┤\n",
       "│ activation_3 (\u001b[38;5;33mActivation\u001b[0m)       │ (\u001b[38;5;45mNone\u001b[0m, \u001b[38;5;34m784\u001b[0m)            │             \u001b[38;5;34m0\u001b[0m │\n",
       "└─────────────────────────────────┴────────────────────────┴───────────────┘\n"
      ]
     },
     "metadata": {},
     "output_type": "display_data"
    },
    {
     "data": {
      "text/html": [
       "<pre style=\"white-space:pre;overflow-x:auto;line-height:normal;font-family:Menlo,'DejaVu Sans Mono',consolas,'Courier New',monospace\"><span style=\"font-weight: bold\"> Total params: </span><span style=\"color: #00af00; text-decoration-color: #00af00\">1,486,352</span> (5.67 MB)\n",
       "</pre>\n"
      ],
      "text/plain": [
       "\u001b[1m Total params: \u001b[0m\u001b[38;5;34m1,486,352\u001b[0m (5.67 MB)\n"
      ]
     },
     "metadata": {},
     "output_type": "display_data"
    },
    {
     "data": {
      "text/html": [
       "<pre style=\"white-space:pre;overflow-x:auto;line-height:normal;font-family:Menlo,'DejaVu Sans Mono',consolas,'Courier New',monospace\"><span style=\"font-weight: bold\"> Trainable params: </span><span style=\"color: #00af00; text-decoration-color: #00af00\">1,486,352</span> (5.67 MB)\n",
       "</pre>\n"
      ],
      "text/plain": [
       "\u001b[1m Trainable params: \u001b[0m\u001b[38;5;34m1,486,352\u001b[0m (5.67 MB)\n"
      ]
     },
     "metadata": {},
     "output_type": "display_data"
    },
    {
     "data": {
      "text/html": [
       "<pre style=\"white-space:pre;overflow-x:auto;line-height:normal;font-family:Menlo,'DejaVu Sans Mono',consolas,'Courier New',monospace\"><span style=\"font-weight: bold\"> Non-trainable params: </span><span style=\"color: #00af00; text-decoration-color: #00af00\">0</span> (0.00 B)\n",
       "</pre>\n"
      ],
      "text/plain": [
       "\u001b[1m Non-trainable params: \u001b[0m\u001b[38;5;34m0\u001b[0m (0.00 B)\n"
      ]
     },
     "metadata": {},
     "output_type": "display_data"
    }
   ],
   "source": [
    "# Generaor Model\n",
    "try :\n",
    "  generator = Generaor()\n",
    "  gen_model = generator.build_generator()\n",
    "  gen_model.summary()\n",
    "except Exception as e:\n",
    "  print(f\"An error occured : {str(e)}\")"
   ]
  },
  {
   "cell_type": "markdown",
   "id": "e36a7a45",
   "metadata": {
    "id": "5VXTuHtEPO-2",
    "papermill": {
     "duration": 0.006107,
     "end_time": "2024-11-24T03:22:22.624618",
     "exception": false,
     "start_time": "2024-11-24T03:22:22.618511",
     "status": "completed"
    },
    "tags": []
   },
   "source": [
    "## Discriminator"
   ]
  },
  {
   "cell_type": "code",
   "execution_count": 6,
   "id": "107ac5d9",
   "metadata": {
    "execution": {
     "iopub.execute_input": "2024-11-24T03:22:22.639213Z",
     "iopub.status.busy": "2024-11-24T03:22:22.638782Z",
     "iopub.status.idle": "2024-11-24T03:22:22.646534Z",
     "shell.execute_reply": "2024-11-24T03:22:22.645354Z"
    },
    "executionInfo": {
     "elapsed": 43,
     "status": "ok",
     "timestamp": 1727876245514,
     "user": {
      "displayName": "amar raj",
      "userId": "10123611219547020528"
     },
     "user_tz": -330
    },
    "id": "QbN0ja4PKCir",
    "papermill": {
     "duration": 0.017769,
     "end_time": "2024-11-24T03:22:22.648736",
     "exception": false,
     "start_time": "2024-11-24T03:22:22.630967",
     "status": "completed"
    },
    "tags": []
   },
   "outputs": [],
   "source": [
    "class Discriminator:\n",
    "  def __init__(self):\n",
    "    self.model = None\n",
    "  def build_discriminator(self):\n",
    "    try :\n",
    "      self.model = Sequential()\n",
    "    # first layer\n",
    "      self.model.add(Dense(units=1024,input_dim=784)) # 784 vector  images\n",
    "      self.model.add(Activation('relu'))\n",
    "    # second layer\n",
    "      self.model.add(Dense(512))\n",
    "      self.model.add(Activation('relu'))\n",
    "    # third layer\n",
    "      self.model.add(Dense(256))\n",
    "      self.model.add(Activation('relu'))\n",
    "      #output layer\n",
    "      self.model.add(Dense(1))\n",
    "      self.model.add(Activation('sigmoid')) # as all input has converted -1 to 1 for that reason chosen tan hyperbolic acivation function in last layer.\n",
    "      # model compilation - 784-1024-512-256-1 [0-fakes , 1 means real]\n",
    "      self.model.compile(loss='binary_crossentropy', optimizer='adam')\n",
    "      return self.model\n",
    "    except Exception as e:\n",
    "      print(f\"An error occured : {str(e)}\")"
   ]
  },
  {
   "cell_type": "code",
   "execution_count": 7,
   "id": "f1b9eaf4",
   "metadata": {
    "execution": {
     "iopub.execute_input": "2024-11-24T03:22:22.663680Z",
     "iopub.status.busy": "2024-11-24T03:22:22.663289Z",
     "iopub.status.idle": "2024-11-24T03:22:22.765249Z",
     "shell.execute_reply": "2024-11-24T03:22:22.764062Z"
    },
    "executionInfo": {
     "elapsed": 43,
     "status": "ok",
     "timestamp": 1727876245515,
     "user": {
      "displayName": "amar raj",
      "userId": "10123611219547020528"
     },
     "user_tz": -330
    },
    "id": "yNlMRuzVPM97",
    "outputId": "7f76fe63-ed52-4bd9-8326-e4b1eefa37ff",
    "papermill": {
     "duration": 0.112064,
     "end_time": "2024-11-24T03:22:22.767513",
     "exception": false,
     "start_time": "2024-11-24T03:22:22.655449",
     "status": "completed"
    },
    "tags": []
   },
   "outputs": [
    {
     "data": {
      "text/html": [
       "<pre style=\"white-space:pre;overflow-x:auto;line-height:normal;font-family:Menlo,'DejaVu Sans Mono',consolas,'Courier New',monospace\"><span style=\"font-weight: bold\">Model: \"sequential_1\"</span>\n",
       "</pre>\n"
      ],
      "text/plain": [
       "\u001b[1mModel: \"sequential_1\"\u001b[0m\n"
      ]
     },
     "metadata": {},
     "output_type": "display_data"
    },
    {
     "data": {
      "text/html": [
       "<pre style=\"white-space:pre;overflow-x:auto;line-height:normal;font-family:Menlo,'DejaVu Sans Mono',consolas,'Courier New',monospace\">┏━━━━━━━━━━━━━━━━━━━━━━━━━━━━━━━━━┳━━━━━━━━━━━━━━━━━━━━━━━━┳━━━━━━━━━━━━━━━┓\n",
       "┃<span style=\"font-weight: bold\"> Layer (type)                    </span>┃<span style=\"font-weight: bold\"> Output Shape           </span>┃<span style=\"font-weight: bold\">       Param # </span>┃\n",
       "┡━━━━━━━━━━━━━━━━━━━━━━━━━━━━━━━━━╇━━━━━━━━━━━━━━━━━━━━━━━━╇━━━━━━━━━━━━━━━┩\n",
       "│ dense_4 (<span style=\"color: #0087ff; text-decoration-color: #0087ff\">Dense</span>)                 │ (<span style=\"color: #00d7ff; text-decoration-color: #00d7ff\">None</span>, <span style=\"color: #00af00; text-decoration-color: #00af00\">1024</span>)           │       <span style=\"color: #00af00; text-decoration-color: #00af00\">803,840</span> │\n",
       "├─────────────────────────────────┼────────────────────────┼───────────────┤\n",
       "│ activation_4 (<span style=\"color: #0087ff; text-decoration-color: #0087ff\">Activation</span>)       │ (<span style=\"color: #00d7ff; text-decoration-color: #00d7ff\">None</span>, <span style=\"color: #00af00; text-decoration-color: #00af00\">1024</span>)           │             <span style=\"color: #00af00; text-decoration-color: #00af00\">0</span> │\n",
       "├─────────────────────────────────┼────────────────────────┼───────────────┤\n",
       "│ dense_5 (<span style=\"color: #0087ff; text-decoration-color: #0087ff\">Dense</span>)                 │ (<span style=\"color: #00d7ff; text-decoration-color: #00d7ff\">None</span>, <span style=\"color: #00af00; text-decoration-color: #00af00\">512</span>)            │       <span style=\"color: #00af00; text-decoration-color: #00af00\">524,800</span> │\n",
       "├─────────────────────────────────┼────────────────────────┼───────────────┤\n",
       "│ activation_5 (<span style=\"color: #0087ff; text-decoration-color: #0087ff\">Activation</span>)       │ (<span style=\"color: #00d7ff; text-decoration-color: #00d7ff\">None</span>, <span style=\"color: #00af00; text-decoration-color: #00af00\">512</span>)            │             <span style=\"color: #00af00; text-decoration-color: #00af00\">0</span> │\n",
       "├─────────────────────────────────┼────────────────────────┼───────────────┤\n",
       "│ dense_6 (<span style=\"color: #0087ff; text-decoration-color: #0087ff\">Dense</span>)                 │ (<span style=\"color: #00d7ff; text-decoration-color: #00d7ff\">None</span>, <span style=\"color: #00af00; text-decoration-color: #00af00\">256</span>)            │       <span style=\"color: #00af00; text-decoration-color: #00af00\">131,328</span> │\n",
       "├─────────────────────────────────┼────────────────────────┼───────────────┤\n",
       "│ activation_6 (<span style=\"color: #0087ff; text-decoration-color: #0087ff\">Activation</span>)       │ (<span style=\"color: #00d7ff; text-decoration-color: #00d7ff\">None</span>, <span style=\"color: #00af00; text-decoration-color: #00af00\">256</span>)            │             <span style=\"color: #00af00; text-decoration-color: #00af00\">0</span> │\n",
       "├─────────────────────────────────┼────────────────────────┼───────────────┤\n",
       "│ dense_7 (<span style=\"color: #0087ff; text-decoration-color: #0087ff\">Dense</span>)                 │ (<span style=\"color: #00d7ff; text-decoration-color: #00d7ff\">None</span>, <span style=\"color: #00af00; text-decoration-color: #00af00\">1</span>)              │           <span style=\"color: #00af00; text-decoration-color: #00af00\">257</span> │\n",
       "├─────────────────────────────────┼────────────────────────┼───────────────┤\n",
       "│ activation_7 (<span style=\"color: #0087ff; text-decoration-color: #0087ff\">Activation</span>)       │ (<span style=\"color: #00d7ff; text-decoration-color: #00d7ff\">None</span>, <span style=\"color: #00af00; text-decoration-color: #00af00\">1</span>)              │             <span style=\"color: #00af00; text-decoration-color: #00af00\">0</span> │\n",
       "└─────────────────────────────────┴────────────────────────┴───────────────┘\n",
       "</pre>\n"
      ],
      "text/plain": [
       "┏━━━━━━━━━━━━━━━━━━━━━━━━━━━━━━━━━┳━━━━━━━━━━━━━━━━━━━━━━━━┳━━━━━━━━━━━━━━━┓\n",
       "┃\u001b[1m \u001b[0m\u001b[1mLayer (type)                   \u001b[0m\u001b[1m \u001b[0m┃\u001b[1m \u001b[0m\u001b[1mOutput Shape          \u001b[0m\u001b[1m \u001b[0m┃\u001b[1m \u001b[0m\u001b[1m      Param #\u001b[0m\u001b[1m \u001b[0m┃\n",
       "┡━━━━━━━━━━━━━━━━━━━━━━━━━━━━━━━━━╇━━━━━━━━━━━━━━━━━━━━━━━━╇━━━━━━━━━━━━━━━┩\n",
       "│ dense_4 (\u001b[38;5;33mDense\u001b[0m)                 │ (\u001b[38;5;45mNone\u001b[0m, \u001b[38;5;34m1024\u001b[0m)           │       \u001b[38;5;34m803,840\u001b[0m │\n",
       "├─────────────────────────────────┼────────────────────────┼───────────────┤\n",
       "│ activation_4 (\u001b[38;5;33mActivation\u001b[0m)       │ (\u001b[38;5;45mNone\u001b[0m, \u001b[38;5;34m1024\u001b[0m)           │             \u001b[38;5;34m0\u001b[0m │\n",
       "├─────────────────────────────────┼────────────────────────┼───────────────┤\n",
       "│ dense_5 (\u001b[38;5;33mDense\u001b[0m)                 │ (\u001b[38;5;45mNone\u001b[0m, \u001b[38;5;34m512\u001b[0m)            │       \u001b[38;5;34m524,800\u001b[0m │\n",
       "├─────────────────────────────────┼────────────────────────┼───────────────┤\n",
       "│ activation_5 (\u001b[38;5;33mActivation\u001b[0m)       │ (\u001b[38;5;45mNone\u001b[0m, \u001b[38;5;34m512\u001b[0m)            │             \u001b[38;5;34m0\u001b[0m │\n",
       "├─────────────────────────────────┼────────────────────────┼───────────────┤\n",
       "│ dense_6 (\u001b[38;5;33mDense\u001b[0m)                 │ (\u001b[38;5;45mNone\u001b[0m, \u001b[38;5;34m256\u001b[0m)            │       \u001b[38;5;34m131,328\u001b[0m │\n",
       "├─────────────────────────────────┼────────────────────────┼───────────────┤\n",
       "│ activation_6 (\u001b[38;5;33mActivation\u001b[0m)       │ (\u001b[38;5;45mNone\u001b[0m, \u001b[38;5;34m256\u001b[0m)            │             \u001b[38;5;34m0\u001b[0m │\n",
       "├─────────────────────────────────┼────────────────────────┼───────────────┤\n",
       "│ dense_7 (\u001b[38;5;33mDense\u001b[0m)                 │ (\u001b[38;5;45mNone\u001b[0m, \u001b[38;5;34m1\u001b[0m)              │           \u001b[38;5;34m257\u001b[0m │\n",
       "├─────────────────────────────────┼────────────────────────┼───────────────┤\n",
       "│ activation_7 (\u001b[38;5;33mActivation\u001b[0m)       │ (\u001b[38;5;45mNone\u001b[0m, \u001b[38;5;34m1\u001b[0m)              │             \u001b[38;5;34m0\u001b[0m │\n",
       "└─────────────────────────────────┴────────────────────────┴───────────────┘\n"
      ]
     },
     "metadata": {},
     "output_type": "display_data"
    },
    {
     "data": {
      "text/html": [
       "<pre style=\"white-space:pre;overflow-x:auto;line-height:normal;font-family:Menlo,'DejaVu Sans Mono',consolas,'Courier New',monospace\"><span style=\"font-weight: bold\"> Total params: </span><span style=\"color: #00af00; text-decoration-color: #00af00\">1,460,225</span> (5.57 MB)\n",
       "</pre>\n"
      ],
      "text/plain": [
       "\u001b[1m Total params: \u001b[0m\u001b[38;5;34m1,460,225\u001b[0m (5.57 MB)\n"
      ]
     },
     "metadata": {},
     "output_type": "display_data"
    },
    {
     "data": {
      "text/html": [
       "<pre style=\"white-space:pre;overflow-x:auto;line-height:normal;font-family:Menlo,'DejaVu Sans Mono',consolas,'Courier New',monospace\"><span style=\"font-weight: bold\"> Trainable params: </span><span style=\"color: #00af00; text-decoration-color: #00af00\">1,460,225</span> (5.57 MB)\n",
       "</pre>\n"
      ],
      "text/plain": [
       "\u001b[1m Trainable params: \u001b[0m\u001b[38;5;34m1,460,225\u001b[0m (5.57 MB)\n"
      ]
     },
     "metadata": {},
     "output_type": "display_data"
    },
    {
     "data": {
      "text/html": [
       "<pre style=\"white-space:pre;overflow-x:auto;line-height:normal;font-family:Menlo,'DejaVu Sans Mono',consolas,'Courier New',monospace\"><span style=\"font-weight: bold\"> Non-trainable params: </span><span style=\"color: #00af00; text-decoration-color: #00af00\">0</span> (0.00 B)\n",
       "</pre>\n"
      ],
      "text/plain": [
       "\u001b[1m Non-trainable params: \u001b[0m\u001b[38;5;34m0\u001b[0m (0.00 B)\n"
      ]
     },
     "metadata": {},
     "output_type": "display_data"
    }
   ],
   "source": [
    "# Generaor Model\n",
    "try :\n",
    "  discriminator = Discriminator()\n",
    "  des_model = discriminator.build_discriminator()\n",
    "  des_model.summary()\n",
    "except Exception as e:\n",
    "  print(f\"An error occured : {str(e)}\")"
   ]
  },
  {
   "cell_type": "markdown",
   "id": "b3a8f854",
   "metadata": {
    "id": "fL9-3FmRRfaP",
    "papermill": {
     "duration": 0.00718,
     "end_time": "2024-11-24T03:22:22.782328",
     "exception": false,
     "start_time": "2024-11-24T03:22:22.775148",
     "status": "completed"
    },
    "tags": []
   },
   "source": [
    "## Combining Generator and Discriminator"
   ]
  },
  {
   "cell_type": "code",
   "execution_count": 8,
   "id": "cf1a457f",
   "metadata": {
    "execution": {
     "iopub.execute_input": "2024-11-24T03:22:22.798730Z",
     "iopub.status.busy": "2024-11-24T03:22:22.798351Z",
     "iopub.status.idle": "2024-11-24T03:22:22.805893Z",
     "shell.execute_reply": "2024-11-24T03:22:22.804423Z"
    },
    "executionInfo": {
     "elapsed": 39,
     "status": "ok",
     "timestamp": 1727876245515,
     "user": {
      "displayName": "amar raj",
      "userId": "10123611219547020528"
     },
     "user_tz": -330
    },
    "id": "cOsbr6Zu-9MN",
    "papermill": {
     "duration": 0.018178,
     "end_time": "2024-11-24T03:22:22.808133",
     "exception": false,
     "start_time": "2024-11-24T03:22:22.789955",
     "status": "completed"
    },
    "tags": []
   },
   "outputs": [],
   "source": [
    "class GAN:\n",
    "  def __init__(self, generator, discriminator):\n",
    "    self.generator = generator\n",
    "    self.discriminator = discriminator\n",
    "  def build_gan(self):\n",
    "    try :\n",
    "      self.discriminator.trainable = False #don't train the descriminator\n",
    "      gan_input = Input(shape=(100,)) # 100 dimension vector\n",
    "      x = self.generator(gan_input) # 100-256-512-1024-784\n",
    "      gan_output = self.discriminator(x) #784-1024-512-256-1\n",
    "      gan= Model(inputs=gan_input, outputs=gan_output)  # 100-256-512-1024-784-1024-512-256-1\n",
    "      gan.compile(loss='binary_crossentropy', optimizer='adam')\n",
    "      return gan\n",
    "    except Exception as e:\n",
    "      print(f\"An error occured : {str(e)}\")"
   ]
  },
  {
   "cell_type": "code",
   "execution_count": 9,
   "id": "1f49409e",
   "metadata": {
    "execution": {
     "iopub.execute_input": "2024-11-24T03:22:22.825239Z",
     "iopub.status.busy": "2024-11-24T03:22:22.824130Z",
     "iopub.status.idle": "2024-11-24T03:22:22.852507Z",
     "shell.execute_reply": "2024-11-24T03:22:22.851480Z"
    },
    "executionInfo": {
     "elapsed": 39,
     "status": "ok",
     "timestamp": 1727876245516,
     "user": {
      "displayName": "amar raj",
      "userId": "10123611219547020528"
     },
     "user_tz": -330
    },
    "id": "7Cs2PwofBMwI",
    "outputId": "abc9fa76-fb21-4df8-c4c1-8454265d8a2d",
    "papermill": {
     "duration": 0.038971,
     "end_time": "2024-11-24T03:22:22.854713",
     "exception": false,
     "start_time": "2024-11-24T03:22:22.815742",
     "status": "completed"
    },
    "tags": []
   },
   "outputs": [
    {
     "data": {
      "text/html": [
       "<pre style=\"white-space:pre;overflow-x:auto;line-height:normal;font-family:Menlo,'DejaVu Sans Mono',consolas,'Courier New',monospace\"><span style=\"font-weight: bold\">Model: \"functional_17\"</span>\n",
       "</pre>\n"
      ],
      "text/plain": [
       "\u001b[1mModel: \"functional_17\"\u001b[0m\n"
      ]
     },
     "metadata": {},
     "output_type": "display_data"
    },
    {
     "data": {
      "text/html": [
       "<pre style=\"white-space:pre;overflow-x:auto;line-height:normal;font-family:Menlo,'DejaVu Sans Mono',consolas,'Courier New',monospace\">┏━━━━━━━━━━━━━━━━━━━━━━━━━━━━━━━━━┳━━━━━━━━━━━━━━━━━━━━━━━━┳━━━━━━━━━━━━━━━┓\n",
       "┃<span style=\"font-weight: bold\"> Layer (type)                    </span>┃<span style=\"font-weight: bold\"> Output Shape           </span>┃<span style=\"font-weight: bold\">       Param # </span>┃\n",
       "┡━━━━━━━━━━━━━━━━━━━━━━━━━━━━━━━━━╇━━━━━━━━━━━━━━━━━━━━━━━━╇━━━━━━━━━━━━━━━┩\n",
       "│ input_layer_2 (<span style=\"color: #0087ff; text-decoration-color: #0087ff\">InputLayer</span>)      │ (<span style=\"color: #00d7ff; text-decoration-color: #00d7ff\">None</span>, <span style=\"color: #00af00; text-decoration-color: #00af00\">100</span>)            │             <span style=\"color: #00af00; text-decoration-color: #00af00\">0</span> │\n",
       "├─────────────────────────────────┼────────────────────────┼───────────────┤\n",
       "│ sequential (<span style=\"color: #0087ff; text-decoration-color: #0087ff\">Sequential</span>)         │ (<span style=\"color: #00d7ff; text-decoration-color: #00d7ff\">None</span>, <span style=\"color: #00af00; text-decoration-color: #00af00\">784</span>)            │     <span style=\"color: #00af00; text-decoration-color: #00af00\">1,486,352</span> │\n",
       "├─────────────────────────────────┼────────────────────────┼───────────────┤\n",
       "│ sequential_1 (<span style=\"color: #0087ff; text-decoration-color: #0087ff\">Sequential</span>)       │ (<span style=\"color: #00d7ff; text-decoration-color: #00d7ff\">None</span>, <span style=\"color: #00af00; text-decoration-color: #00af00\">1</span>)              │     <span style=\"color: #00af00; text-decoration-color: #00af00\">1,460,225</span> │\n",
       "└─────────────────────────────────┴────────────────────────┴───────────────┘\n",
       "</pre>\n"
      ],
      "text/plain": [
       "┏━━━━━━━━━━━━━━━━━━━━━━━━━━━━━━━━━┳━━━━━━━━━━━━━━━━━━━━━━━━┳━━━━━━━━━━━━━━━┓\n",
       "┃\u001b[1m \u001b[0m\u001b[1mLayer (type)                   \u001b[0m\u001b[1m \u001b[0m┃\u001b[1m \u001b[0m\u001b[1mOutput Shape          \u001b[0m\u001b[1m \u001b[0m┃\u001b[1m \u001b[0m\u001b[1m      Param #\u001b[0m\u001b[1m \u001b[0m┃\n",
       "┡━━━━━━━━━━━━━━━━━━━━━━━━━━━━━━━━━╇━━━━━━━━━━━━━━━━━━━━━━━━╇━━━━━━━━━━━━━━━┩\n",
       "│ input_layer_2 (\u001b[38;5;33mInputLayer\u001b[0m)      │ (\u001b[38;5;45mNone\u001b[0m, \u001b[38;5;34m100\u001b[0m)            │             \u001b[38;5;34m0\u001b[0m │\n",
       "├─────────────────────────────────┼────────────────────────┼───────────────┤\n",
       "│ sequential (\u001b[38;5;33mSequential\u001b[0m)         │ (\u001b[38;5;45mNone\u001b[0m, \u001b[38;5;34m784\u001b[0m)            │     \u001b[38;5;34m1,486,352\u001b[0m │\n",
       "├─────────────────────────────────┼────────────────────────┼───────────────┤\n",
       "│ sequential_1 (\u001b[38;5;33mSequential\u001b[0m)       │ (\u001b[38;5;45mNone\u001b[0m, \u001b[38;5;34m1\u001b[0m)              │     \u001b[38;5;34m1,460,225\u001b[0m │\n",
       "└─────────────────────────────────┴────────────────────────┴───────────────┘\n"
      ]
     },
     "metadata": {},
     "output_type": "display_data"
    },
    {
     "data": {
      "text/html": [
       "<pre style=\"white-space:pre;overflow-x:auto;line-height:normal;font-family:Menlo,'DejaVu Sans Mono',consolas,'Courier New',monospace\"><span style=\"font-weight: bold\"> Total params: </span><span style=\"color: #00af00; text-decoration-color: #00af00\">2,946,577</span> (11.24 MB)\n",
       "</pre>\n"
      ],
      "text/plain": [
       "\u001b[1m Total params: \u001b[0m\u001b[38;5;34m2,946,577\u001b[0m (11.24 MB)\n"
      ]
     },
     "metadata": {},
     "output_type": "display_data"
    },
    {
     "data": {
      "text/html": [
       "<pre style=\"white-space:pre;overflow-x:auto;line-height:normal;font-family:Menlo,'DejaVu Sans Mono',consolas,'Courier New',monospace\"><span style=\"font-weight: bold\"> Trainable params: </span><span style=\"color: #00af00; text-decoration-color: #00af00\">1,486,352</span> (5.67 MB)\n",
       "</pre>\n"
      ],
      "text/plain": [
       "\u001b[1m Trainable params: \u001b[0m\u001b[38;5;34m1,486,352\u001b[0m (5.67 MB)\n"
      ]
     },
     "metadata": {},
     "output_type": "display_data"
    },
    {
     "data": {
      "text/html": [
       "<pre style=\"white-space:pre;overflow-x:auto;line-height:normal;font-family:Menlo,'DejaVu Sans Mono',consolas,'Courier New',monospace\"><span style=\"font-weight: bold\"> Non-trainable params: </span><span style=\"color: #00af00; text-decoration-color: #00af00\">1,460,225</span> (5.57 MB)\n",
       "</pre>\n"
      ],
      "text/plain": [
       "\u001b[1m Non-trainable params: \u001b[0m\u001b[38;5;34m1,460,225\u001b[0m (5.57 MB)\n"
      ]
     },
     "metadata": {},
     "output_type": "display_data"
    }
   ],
   "source": [
    "try:\n",
    "  gan = GAN(gen_model,des_model)\n",
    "  gan_model= gan.build_gan()\n",
    "  gan_model.summary()\n",
    "except Exception as e:\n",
    "  print(f\"An error occured : {str(e)}\")"
   ]
  },
  {
   "cell_type": "markdown",
   "id": "ec2a81d4",
   "metadata": {
    "id": "ZRrCeOI8HRtu",
    "papermill": {
     "duration": 0.007152,
     "end_time": "2024-11-24T03:22:22.869572",
     "exception": false,
     "start_time": "2024-11-24T03:22:22.862420",
     "status": "completed"
    },
    "tags": []
   },
   "source": [
    "## Training the Model & Output Visualization"
   ]
  },
  {
   "cell_type": "code",
   "execution_count": 10,
   "id": "ba6797d7",
   "metadata": {
    "execution": {
     "iopub.execute_input": "2024-11-24T03:22:22.886522Z",
     "iopub.status.busy": "2024-11-24T03:22:22.886145Z",
     "iopub.status.idle": "2024-11-24T03:22:22.893263Z",
     "shell.execute_reply": "2024-11-24T03:22:22.892123Z"
    },
    "executionInfo": {
     "elapsed": 37,
     "status": "ok",
     "timestamp": 1727876245517,
     "user": {
      "displayName": "amar raj",
      "userId": "10123611219547020528"
     },
     "user_tz": -330
    },
    "id": "396abKRaXliW",
    "papermill": {
     "duration": 0.018425,
     "end_time": "2024-11-24T03:22:22.895494",
     "exception": false,
     "start_time": "2024-11-24T03:22:22.877069",
     "status": "completed"
    },
    "tags": []
   },
   "outputs": [],
   "source": [
    "#Plot_generated_images to plot the generated images\n",
    "def plot_generated_images(epoch, generator, examples=100, dim=(10,10), figsize=(10,10)):\n",
    "    noise= np.random.normal(loc=0, scale=1, size=[examples, 100])\n",
    "    generated_images = generator.predict(noise)\n",
    "    generated_images = generated_images.reshape(100,28,28)\n",
    "    plt.figure(figsize=figsize)\n",
    "    for i in range(generated_images.shape[0]):\n",
    "        plt.subplot(dim[0], dim[1], i+1)\n",
    "        plt.imshow(generated_images[i], interpolation='nearest')\n",
    "        plt.axis('off')\n",
    "    plt.tight_layout()\n",
    "    #plt.savefig('gan_generated_image %d.png' %epoch)"
   ]
  },
  {
   "cell_type": "code",
   "execution_count": 11,
   "id": "3523e55f",
   "metadata": {
    "execution": {
     "iopub.execute_input": "2024-11-24T03:22:22.913299Z",
     "iopub.status.busy": "2024-11-24T03:22:22.912079Z",
     "iopub.status.idle": "2024-11-24T03:22:22.923532Z",
     "shell.execute_reply": "2024-11-24T03:22:22.922663Z"
    },
    "executionInfo": {
     "elapsed": 36,
     "status": "ok",
     "timestamp": 1727876245517,
     "user": {
      "displayName": "amar raj",
      "userId": "10123611219547020528"
     },
     "user_tz": -330
    },
    "id": "EpzUMROxHVn9",
    "papermill": {
     "duration": 0.022638,
     "end_time": "2024-11-24T03:22:22.925811",
     "exception": false,
     "start_time": "2024-11-24T03:22:22.903173",
     "status": "completed"
    },
    "tags": []
   },
   "outputs": [],
   "source": [
    "class Train:\n",
    "  def __init__(self,X_train,y_train,X_test,y_test,generator,discriminator,gan):\n",
    "\n",
    "    #Loading the data\n",
    "    self.X_train = X_train\n",
    "    self.y_train = y_train\n",
    "    self.X_test = X_test\n",
    "    self.y_test = y_test\n",
    "\n",
    "    # Creating GAN\n",
    "    self.generator = generator # 100-256-512-1024-784\n",
    "    self.discriminator = discriminator #784-1024-512-256-1\n",
    "    self.gan = gan  # 100-256-512-1024-784-1024-512-256-1\n",
    "\n",
    "  def train(self, epochs=50, batch_size=128):\n",
    "    try :\n",
    "      batch_count = int(self.X_train.shape[0] / batch_size)\n",
    "      for epoch in range(epochs):\n",
    "        for _  in tqdm(range(batch_count)): #tqdm for show progress bar\n",
    "          #noise vector\n",
    "          noise = np.random.normal(0, 1, size=(batch_size,100)) #128,100\n",
    "\n",
    "          #fake images\n",
    "          fake_images = self.generator.predict(noise)\n",
    "\n",
    "          #real images\n",
    "          image_batch = self.X_train[np.random.randint(low=0,high=self.X_train.shape[0],size=batch_size)]  #picking random 128 images from input dataset\n",
    "\n",
    "          #Construct different batches of  real and fake data\n",
    "          X= np.concatenate([image_batch, fake_images])\n",
    "\n",
    "          # Labels for generated and real data\n",
    "          y_dis=np.zeros(2*batch_size) #128 real images , 128 fake images\n",
    "          y_dis[:batch_size]=0.9\n",
    "\n",
    "          #Pre train discriminator on  fake and real data  before starting the gan.\n",
    "          self.discriminator.trainable=True\n",
    "          self.discriminator.train_on_batch(X, y_dis)\n",
    "\n",
    "          #Tricking the noised input of the Generator as real data\n",
    "          noise= np.random.normal(0,1, [batch_size, 100])\n",
    "          y_gen = np.ones(batch_size)\n",
    "\n",
    "          # During the training of gan,\n",
    "          # the weights of discriminator should be fixed.\n",
    "          #We can enforce that by setting the trainable flag\n",
    "          self.discriminator.trainable=False\n",
    "\n",
    "          #training  the GAN by alternating the training of the Discriminator\n",
    "          #and training the chained GAN model with Discriminator’s weights freezed.\n",
    "          self.gan.train_on_batch(noise, y_gen)\n",
    "\n",
    "        if epoch == 49 or epoch == 50:     # generated images for last 2 epochs\n",
    "          plot_generated_images(epoch, self.generator)\n",
    "\n",
    "    except Exception as e:\n",
    "      print(f\"An error occured : {str(e)}\")"
   ]
  },
  {
   "cell_type": "code",
   "execution_count": 12,
   "id": "01ea7261",
   "metadata": {
    "execution": {
     "iopub.execute_input": "2024-11-24T03:22:22.942523Z",
     "iopub.status.busy": "2024-11-24T03:22:22.942171Z",
     "iopub.status.idle": "2024-11-24T03:22:22.947124Z",
     "shell.execute_reply": "2024-11-24T03:22:22.945980Z"
    },
    "id": "kUtVLUhuyWUx",
    "outputId": "1448fcb8-1e24-42ad-b69c-24a748c9c6de",
    "papermill": {
     "duration": 0.015842,
     "end_time": "2024-11-24T03:22:22.949399",
     "exception": false,
     "start_time": "2024-11-24T03:22:22.933557",
     "status": "completed"
    },
    "tags": []
   },
   "outputs": [],
   "source": [
    "# commented this code ... as this fails due to require large RAM size.\n",
    "# try :\n",
    "#   training = Train(X_train,y_train,X_test,y_test,gen_model,des_model,gan_model)\n",
    "#   training.train(epochs=50, batch_size=128)\n",
    "# except Exception as e:\n",
    "#   print(f\"An error occured : {str(e)}\")"
   ]
  }
 ],
 "metadata": {
  "accelerator": "GPU",
  "colab": {
   "authorship_tag": "ABX9TyPm7dMWINvKpgSPK21bT4Qz",
   "gpuType": "T4",
   "provenance": [],
   "toc_visible": true
  },
  "kaggle": {
   "accelerator": "none",
   "dataSources": [],
   "dockerImageVersionId": 30786,
   "isGpuEnabled": false,
   "isInternetEnabled": true,
   "language": "python",
   "sourceType": "notebook"
  },
  "kernelspec": {
   "display_name": "Python 3",
   "language": "python",
   "name": "python3"
  },
  "language_info": {
   "codemirror_mode": {
    "name": "ipython",
    "version": 3
   },
   "file_extension": ".py",
   "mimetype": "text/x-python",
   "name": "python",
   "nbconvert_exporter": "python",
   "pygments_lexer": "ipython3",
   "version": "3.10.14"
  },
  "papermill": {
   "default_parameters": {},
   "duration": 23.294195,
   "end_time": "2024-11-24T03:22:24.481439",
   "environment_variables": {},
   "exception": null,
   "input_path": "__notebook__.ipynb",
   "output_path": "__notebook__.ipynb",
   "parameters": {},
   "start_time": "2024-11-24T03:22:01.187244",
   "version": "2.6.0"
  }
 },
 "nbformat": 4,
 "nbformat_minor": 5
}
