{
 "cells": [
  {
   "cell_type": "code",
   "execution_count": 1,
   "id": "c4d527d0",
   "metadata": {
    "_cell_guid": "b1076dfc-b9ad-4769-8c92-a6c4dae69d19",
    "_uuid": "8f2839f25d086af736a60e9eeb907d3b93b6e0e5",
    "execution": {
     "iopub.execute_input": "2025-10-18T14:17:32.608946Z",
     "iopub.status.busy": "2025-10-18T14:17:32.608205Z",
     "iopub.status.idle": "2025-10-18T14:17:34.718698Z",
     "shell.execute_reply": "2025-10-18T14:17:34.717658Z"
    },
    "papermill": {
     "duration": 2.116509,
     "end_time": "2025-10-18T14:17:34.720769",
     "exception": false,
     "start_time": "2025-10-18T14:17:32.604260",
     "status": "completed"
    },
    "tags": []
   },
   "outputs": [],
   "source": [
    "# This Python 3 environment comes with many helpful analytics libraries installed\n",
    "# It is defined by the kaggle/python Docker image: https://github.com/kaggle/docker-python\n",
    "# For example, here's several helpful packages to load\n",
    "\n",
    "import numpy as np # linear algebra\n",
    "import pandas as pd # data processing, CSV file I/O (e.g. pd.read_csv)\n",
    "\n",
    "# Input data files are available in the read-only \"../input/\" directory\n",
    "# For example, running this (by clicking run or pressing Shift+Enter) will list all files under the input directory\n",
    "\n",
    "import os\n",
    "for dirname, _, filenames in os.walk('/kaggle/input'):\n",
    "    for filename in filenames:\n",
    "        print(os.path.join(dirname, filename))\n",
    "\n",
    "# You can write up to 20GB to the current directory (/kaggle/working/) that gets preserved as output when you create a version using \"Save & Run All\" \n",
    "# You can also write temporary files to /kaggle/temp/, but they won't be saved outside of the current session"
   ]
  },
  {
   "cell_type": "code",
   "execution_count": 2,
   "id": "3108234c",
   "metadata": {
    "execution": {
     "iopub.execute_input": "2025-10-18T14:17:34.726729Z",
     "iopub.status.busy": "2025-10-18T14:17:34.725445Z",
     "iopub.status.idle": "2025-10-18T14:17:34.734294Z",
     "shell.execute_reply": "2025-10-18T14:17:34.733296Z"
    },
    "papermill": {
     "duration": 0.01304,
     "end_time": "2025-10-18T14:17:34.735980",
     "exception": false,
     "start_time": "2025-10-18T14:17:34.722940",
     "status": "completed"
    },
    "tags": []
   },
   "outputs": [
    {
     "name": "stdout",
     "output_type": "stream",
     "text": [
      "(7, 'hEllO wOrld', 2)\n",
      "(13, 'PythOn PrOgrAmmIng', 2)\n"
     ]
    }
   ],
   "source": [
    "def analyze_text(s:str) -> tuple :\n",
    "    \"\"\"\n",
    "    Write a function named analyze_text(s: str) that accepts a string and returns a tuple:\n",
    "    (consonant_count: int, reversed_vowels: str, word_count: int)\n",
    "    \n",
    "    The function must:\n",
    "    1. Count the number of consonants (excluding spaces and special chars)\n",
    "    2. Replace all vowels with their uppercase versions and return the modified string\n",
    "    3. Count the number of words in the string (words are separated by spaces)\n",
    "    \n",
    "    Input:\n",
    "    is_equal(analyze_text(\"hello world\"), (7, \"hEllO wOrld\", 2))\n",
    "    is_equal(analyze_text(\"Python Programming\"), (12, \"PythOn PrOgrAmmIng\", 2))\n",
    "    \n",
    "    Expected Output:\n",
    "    (7, 'hEllO wOrld', 2)\n",
    "    (12, 'PythOn PrOgrAmmIng', 2)\n",
    "    \"\"\"\n",
    "\n",
    "    #it will find character occurances\n",
    "    #reduced_string = set(s)\n",
    "    #char_count = [{i:s.count(i)} for i in reduced_string]\n",
    "\n",
    "    # 1. Count the number of consonants (excluding spaces and special chars)\n",
    "    cons = 'bcdfghjklmnpqrstvwxyz'\n",
    "    cons_filter = list(filter(lambda x :x.lower() in cons,s))\n",
    "    cons_count = len(cons_filter)\n",
    "\n",
    "    #2. Replace all vowels with their uppercase versions and return the modified string\n",
    "    vowel ='aeiou'\n",
    "    new_str = [i for i in s]\n",
    "    # for i in new_str :\n",
    "    #     if i in vowel :\n",
    "    #         new_str[new_str.index(i)] = i.upper()\n",
    "    modified_str = \"\".join([i.upper() if i.lower() in vowel else i for i in new_str])\n",
    "    \n",
    "    # 3. Count the number of words in the string (words are separated by spaces)\n",
    "    word_count = len(s.split(\" \"))\n",
    "    \n",
    "    return (cons_count,modified_str,word_count)\n",
    "    \n",
    "if __name__ == \"__main__\" :\n",
    "    print(analyze_text(\"hello world\")) # (7, \"hEllO wOrld\", 2))\n",
    "    print(analyze_text(\"Python Programming\")) # (13, 'PythOn PrOgrAmmIng', 2)"
   ]
  }
 ],
 "metadata": {
  "kaggle": {
   "accelerator": "none",
   "dataSources": [],
   "dockerImageVersionId": 31153,
   "isGpuEnabled": false,
   "isInternetEnabled": true,
   "language": "python",
   "sourceType": "notebook"
  },
  "kernelspec": {
   "display_name": "Python 3",
   "language": "python",
   "name": "python3"
  },
  "language_info": {
   "codemirror_mode": {
    "name": "ipython",
    "version": 3
   },
   "file_extension": ".py",
   "mimetype": "text/x-python",
   "name": "python",
   "nbconvert_exporter": "python",
   "pygments_lexer": "ipython3",
   "version": "3.11.13"
  },
  "papermill": {
   "default_parameters": {},
   "duration": 8.365545,
   "end_time": "2025-10-18T14:17:35.259109",
   "environment_variables": {},
   "exception": null,
   "input_path": "__notebook__.ipynb",
   "output_path": "__notebook__.ipynb",
   "parameters": {},
   "start_time": "2025-10-18T14:17:26.893564",
   "version": "2.6.0"
  }
 },
 "nbformat": 4,
 "nbformat_minor": 5
}
