{
 "cells": [
  {
   "cell_type": "code",
   "execution_count": 1,
   "id": "976e36d9",
   "metadata": {
    "_cell_guid": "b1076dfc-b9ad-4769-8c92-a6c4dae69d19",
    "_uuid": "8f2839f25d086af736a60e9eeb907d3b93b6e0e5",
    "execution": {
     "iopub.execute_input": "2025-10-21T18:10:09.283757Z",
     "iopub.status.busy": "2025-10-21T18:10:09.283429Z",
     "iopub.status.idle": "2025-10-21T18:10:11.586108Z",
     "shell.execute_reply": "2025-10-21T18:10:11.584729Z"
    },
    "papermill": {
     "duration": 2.308437,
     "end_time": "2025-10-21T18:10:11.587899",
     "exception": false,
     "start_time": "2025-10-21T18:10:09.279462",
     "status": "completed"
    },
    "tags": []
   },
   "outputs": [],
   "source": [
    "# This Python 3 environment comes with many helpful analytics libraries installed\n",
    "# It is defined by the kaggle/python Docker image: https://github.com/kaggle/docker-python\n",
    "# For example, here's several helpful packages to load\n",
    "\n",
    "import numpy as np # linear algebra\n",
    "import pandas as pd # data processing, CSV file I/O (e.g. pd.read_csv)\n",
    "\n",
    "# Input data files are available in the read-only \"../input/\" directory\n",
    "# For example, running this (by clicking run or pressing Shift+Enter) will list all files under the input directory\n",
    "\n",
    "import os\n",
    "for dirname, _, filenames in os.walk('/kaggle/input'):\n",
    "    for filename in filenames:\n",
    "        print(os.path.join(dirname, filename))\n",
    "\n",
    "# You can write up to 20GB to the current directory (/kaggle/working/) that gets preserved as output when you create a version using \"Save & Run All\" \n",
    "# You can also write temporary files to /kaggle/temp/, but they won't be saved outside of the current session"
   ]
  },
  {
   "cell_type": "code",
   "execution_count": 2,
   "id": "6ed108ba",
   "metadata": {
    "execution": {
     "iopub.execute_input": "2025-10-21T18:10:11.594209Z",
     "iopub.status.busy": "2025-10-21T18:10:11.593759Z",
     "iopub.status.idle": "2025-10-21T18:10:11.603204Z",
     "shell.execute_reply": "2025-10-21T18:10:11.602033Z"
    },
    "papermill": {
     "duration": 0.015335,
     "end_time": "2025-10-21T18:10:11.606006",
     "exception": false,
     "start_time": "2025-10-21T18:10:11.590671",
     "status": "completed"
    },
    "tags": []
   },
   "outputs": [
    {
     "name": "stdout",
     "output_type": "stream",
     "text": [
      "(7, 'hEllO wOrld', 2)\n",
      "(13, 'PythOn PrOgrAmmIng', 2)\n"
     ]
    }
   ],
   "source": [
    "def analyze_text(s:str) -> tuple :\n",
    "    \n",
    "    # -------------------- STRING OPERATIONS  --------------------\n",
    "    \"\"\"\n",
    "    Write a function named analyze_text(s: str) that accepts a string and returns a tuple:\n",
    "    (consonant_count: int, reversed_vowels: str, word_count: int)\n",
    "    \n",
    "    The function must:\n",
    "    1. Count the number of consonants (excluding spaces and special chars)\n",
    "    2. Replace all vowels with their uppercase versions and return the modified string\n",
    "    3. Count the number of words in the string (words are separated by spaces)\n",
    "    \n",
    "    Input:\n",
    "    is_equal(analyze_text(\"hello world\"), (7, \"hEllO wOrld\", 2))\n",
    "    is_equal(analyze_text(\"Python Programming\"), (12, \"PythOn PrOgrAmmIng\", 2))\n",
    "    \n",
    "    Expected Output:\n",
    "    (7, 'hEllO wOrld', 2)\n",
    "    (12, 'PythOn PrOgrAmmIng', 2)\n",
    "    \"\"\"\n",
    "\n",
    "    #it will find character occurances\n",
    "    #reduced_string = set(s)\n",
    "    #char_count = [{i:s.count(i)} for i in reduced_string]\n",
    "\n",
    "    # 1. Count the number of consonants (excluding spaces and special chars)\n",
    "    \n",
    "    #Approach 1\n",
    "    # cons = 'bcdfghjklmnpqrstvwxyz'\n",
    "    # cons_filter = list(filter(lambda x :x.lower() in cons,s))\n",
    "    # cons_count = len(cons_filter)\n",
    "    \n",
    "    #Approach 2\n",
    "    vowel ='aeiou'\n",
    "    char_list = list(s)\n",
    "    char_list_filter = [ch for ch in char_list if ch.isalpha()]\n",
    "    cons_count= sum([char_list_filter.count(ch) for ch in set(char_list_filter) if ch.lower() not in vowel])\n",
    "\n",
    "    #2. Replace all vowels with their uppercase versions and return the modified string\n",
    "    vowel ='aeiou'\n",
    "    new_str = [i for i in s]\n",
    "    # for i in new_str :\n",
    "    #     if i in vowel :\n",
    "    #         new_str[new_str.index(i)] = i.upper()\n",
    "    modified_str = \"\".join([i.upper() if i.lower() in vowel else i for i in new_str])\n",
    "    \n",
    "    # 3. Count the number of words in the string (words are separated by spaces)\n",
    "    word_count = len(s.split(\" \"))\n",
    "    \n",
    "    return (cons_count,modified_str,word_count)\n",
    "    \n",
    "if __name__ == \"__main__\" :\n",
    "    print(analyze_text(\"hello world\")) # (7, \"hEllO wOrld\", 2))\n",
    "    print(analyze_text(\"Python Programming\")) # (13, 'PythOn PrOgrAmmIng', 2)"
   ]
  },
  {
   "cell_type": "code",
   "execution_count": 3,
   "id": "eb20b8c3",
   "metadata": {
    "execution": {
     "iopub.execute_input": "2025-10-21T18:10:11.612530Z",
     "iopub.status.busy": "2025-10-21T18:10:11.612197Z",
     "iopub.status.idle": "2025-10-21T18:10:11.620909Z",
     "shell.execute_reply": "2025-10-21T18:10:11.619875Z"
    },
    "papermill": {
     "duration": 0.013739,
     "end_time": "2025-10-21T18:10:11.622476",
     "exception": false,
     "start_time": "2025-10-21T18:10:11.608737",
     "status": "completed"
    },
    "tags": []
   },
   "outputs": [
    {
     "name": "stdout",
     "output_type": "stream",
     "text": [
      "8\n",
      "55\n",
      "8\n",
      "55\n"
     ]
    }
   ],
   "source": [
    "#using recursion mechanism\n",
    "def fibonacci_rec(n:int) ->int:\n",
    "    # -------------------- FIBONACCI SEQUENCE --------------------\n",
    "    \"\"\"\n",
    "    Implement two functions: fibonacci_rec(n: int) -> int (recursive) and \n",
    "    fibonacci_iter(n: int) -> int (iterative) that return the nth Fibonacci number.\n",
    "    Note: fibonacci(0) = 0, fibonacci(1) = 1\n",
    "    \n",
    "    Input:\n",
    "    is_equal(fibonacci_rec(6), 8) # count start from 1\n",
    "    is_equal(fibonacci_iter(6), 8) # count start from 1\n",
    "    is_equal(fibonacci_rec(10), fibonacci_iter(10))\n",
    "    is_equal(fibonacci_rec(10), 55)\n",
    "    \n",
    "    Expected Output:\n",
    "    8\n",
    "    8\n",
    "    55\n",
    "    55\n",
    "    \"\"\"\n",
    "    if (n==0):\n",
    "        return 0\n",
    "    elif (n==1):\n",
    "        return 1\n",
    "    else :\n",
    "        return fibonacci_rec(n-1)+fibonacci_rec(n-2)\n",
    "        \n",
    "#using loop mechanism        \n",
    "def fibonacci_iter(n:int)->int:\n",
    "    fibonacci_list = []\n",
    "    i=0\n",
    "    while i<=n:\n",
    "        if i == 0:\n",
    "            fibonacci_list.append(i)\n",
    "        elif i == 1:\n",
    "            fibonacci_list.append(i)\n",
    "        else :\n",
    "            val = fibonacci_list[i-1] +fibonacci_list[i-2]\n",
    "            fibonacci_list.append(val)\n",
    "        i = i+1\n",
    "    return fibonacci_list[i-1]\n",
    "    #return fibonacci_list\n",
    "    \n",
    "if __name__ == \"__main__\":\n",
    "    print(fibonacci_rec(6)) #8\n",
    "    #print([fibonacci_rec(i) for i in range(7)])\n",
    "    print(fibonacci_rec(10)) #55\n",
    "    print(fibonacci_iter(6)) #8\n",
    "    print(fibonacci_iter(10)) #55"
   ]
  },
  {
   "cell_type": "code",
   "execution_count": 4,
   "id": "408144c9",
   "metadata": {
    "execution": {
     "iopub.execute_input": "2025-10-21T18:10:11.629172Z",
     "iopub.status.busy": "2025-10-21T18:10:11.628704Z",
     "iopub.status.idle": "2025-10-21T18:10:11.639872Z",
     "shell.execute_reply": "2025-10-21T18:10:11.638429Z"
    },
    "papermill": {
     "duration": 0.01658,
     "end_time": "2025-10-21T18:10:11.641543",
     "exception": false,
     "start_time": "2025-10-21T18:10:11.624963",
     "status": "completed"
    },
    "tags": []
   },
   "outputs": [
    {
     "name": "stdout",
     "output_type": "stream",
     "text": [
      "True\n",
      "['Mouse', 'Keyboard']\n"
     ]
    }
   ],
   "source": [
    "def problem_statement():\n",
    "    # -------------------- INVENTORY MANAGEMENT --------------------\n",
    "   \n",
    "    \"\"\"\n",
    "    Implement the following functions for a product inventory dictionary:\n",
    "    \n",
    "    create_inventory(initial: dict = None) -> dict - returns a dictionary mapping \n",
    "    product name to quantity. If initial is provided, use it; otherwise return an empty dict.\n",
    "    \n",
    "    add_product(inventory: dict, name: str, quantity: int) -> None - adds quantity to \n",
    "    existing product or creates new entry.\n",
    "    \n",
    "    remove_product(inventory: dict, name: str, quantity: int) -> bool - removes quantity \n",
    "    from product. Returns True if successful, False if insufficient stock.\n",
    "    \n",
    "    low_stock_items(inventory: dict, threshold: int) -> list - returns list of product \n",
    "    names with quantity less than threshold.\n",
    "    \n",
    "    Input:\n",
    "    inventory = create_inventory()\n",
    "    add_product(inventory, \"Laptop\", 10)\n",
    "    add_product(inventory, \"Mouse\", 5)\n",
    "    add_product(inventory, \"Keyboard\", 3)\n",
    "    is_equal(remove_product(inventory, \"Laptop\", 2), True)\n",
    "    is_equal(low_stock_items(inventory, 5), [\"Mouse\", \"Keyboard\"])\n",
    "    \n",
    "    Expected Output:\n",
    "    True\n",
    "    ['Mouse', 'Keyboard']\n",
    "    \"\"\"\n",
    "    return None\n",
    "\n",
    "def create_inventory(initial: dict = None) -> dict:\n",
    "    '''\n",
    "    Returns a dictionary mapping product name to quantity. If initial is provided, use it; otherwise return an empty dict.\n",
    "    '''\n",
    "    if initial :\n",
    "        return initial \n",
    "    else:\n",
    "        return {}\n",
    "    \n",
    "def add_product(inventory: dict, name: str, quantity: int) -> None:\n",
    "    '''\n",
    "    Adds quantity to  existing product or creates new entry.\n",
    "    '''\n",
    "    if name in inventory.keys():\n",
    "        inventory[name] = inventory[name] + quantity\n",
    "    else :\n",
    "        inventory[name] = quantity\n",
    "    return None\n",
    "    \n",
    "def remove_product(inventory: dict, name: str, quantity: int) -> bool:\n",
    "    '''\n",
    "    Removes quantity from product. Returns True if successful, False if insufficient stock.\n",
    "    '''\n",
    "    if inventory[name]>=quantity:\n",
    "        inventory[name] = inventory[name]- quantity\n",
    "        # print(\"Operation Successful !!.\")\n",
    "        return True\n",
    "    else :\n",
    "        # Print(\"Insufficient Stock !!.\")\n",
    "        return False\n",
    "\n",
    "def low_stock_items(inventory: dict, threshold: int) -> list:\n",
    "    '''\n",
    "    Returns list of product names with quantity less than threshold.\n",
    "    '''\n",
    "    return([k for k,v in inventory.items() if inventory[k] <= threshold])\n",
    "    \n",
    "if __name__ == '__main__':\n",
    "    inventory = create_inventory()\n",
    "    add_product(inventory, \"Laptop\", 10)\n",
    "    add_product(inventory, \"Mouse\", 5)\n",
    "    add_product(inventory, \"Keyboard\", 3)\n",
    "    print(remove_product(inventory, \"Laptop\", 2))\n",
    "    print(low_stock_items(inventory, 5))\n",
    "    "
   ]
  },
  {
   "cell_type": "code",
   "execution_count": 5,
   "id": "2ff93efa",
   "metadata": {
    "execution": {
     "iopub.execute_input": "2025-10-21T18:10:11.648117Z",
     "iopub.status.busy": "2025-10-21T18:10:11.647744Z",
     "iopub.status.idle": "2025-10-21T18:10:11.655261Z",
     "shell.execute_reply": "2025-10-21T18:10:11.654246Z"
    },
    "papermill": {
     "duration": 0.012885,
     "end_time": "2025-10-21T18:10:11.656934",
     "exception": false,
     "start_time": "2025-10-21T18:10:11.644049",
     "status": "completed"
    },
    "tags": []
   },
   "outputs": [
    {
     "name": "stdout",
     "output_type": "stream",
     "text": [
      "([1, 2, 3, 4, 3, 4, 5, 6], [1, 2, 3, 4, 5, 6], [3, 4])\n"
     ]
    }
   ],
   "source": [
    "def merge_unique(l1: list, l2: list) -> tuple:\n",
    "    # -------------------- LIST OPERATIONS - MERGE & UNIQUE --------------------\n",
    "    \"\"\"\n",
    "    Implement a function merge_unique(l1: list, l2: list) -> tuple that:\n",
    "    1. Creates l3 by merging l1 and l2 (concatenation)\n",
    "    2. Creates l4 with only unique elements from l3 (preserve order of first occurrence)\n",
    "    3. Creates l5 with common elements between l1 and l2\n",
    "    4. Returns (l3, l4, l5)\n",
    "    \n",
    "    Input:\n",
    "    l1 = [1, 2, 3, 4]\n",
    "    l2 = [3, 4, 5, 6]\n",
    "    \n",
    "    Expected Output:\n",
    "    ([1, 2, 3, 4, 3, 4, 5, 6], [1, 2, 3, 4, 5, 6], [3, 4])\n",
    "    \"\"\"\n",
    "    l3 = l1 + l2\n",
    "    l4 = list(set(l3))\n",
    "    l5 = {i: l3.count(i) for i in l3}\n",
    "    l5 = [k for k,v in l5.items() if v == 2]\n",
    "    return (l3,l4,l5)\n",
    "\n",
    "if __name__ == \"__main__\":\n",
    "    l1 = [1, 2, 3, 4]\n",
    "    l2 = [3, 4, 5, 6]\n",
    "    print(merge_unique(l1, l2))"
   ]
  }
 ],
 "metadata": {
  "kaggle": {
   "accelerator": "none",
   "dataSources": [],
   "dockerImageVersionId": 31153,
   "isGpuEnabled": false,
   "isInternetEnabled": true,
   "language": "python",
   "sourceType": "notebook"
  },
  "kernelspec": {
   "display_name": "Python 3",
   "language": "python",
   "name": "python3"
  },
  "language_info": {
   "codemirror_mode": {
    "name": "ipython",
    "version": 3
   },
   "file_extension": ".py",
   "mimetype": "text/x-python",
   "name": "python",
   "nbconvert_exporter": "python",
   "pygments_lexer": "ipython3",
   "version": "3.11.13"
  },
  "papermill": {
   "default_parameters": {},
   "duration": 8.705316,
   "end_time": "2025-10-21T18:10:12.179602",
   "environment_variables": {},
   "exception": null,
   "input_path": "__notebook__.ipynb",
   "output_path": "__notebook__.ipynb",
   "parameters": {},
   "start_time": "2025-10-21T18:10:03.474286",
   "version": "2.6.0"
  }
 },
 "nbformat": 4,
 "nbformat_minor": 5
}
