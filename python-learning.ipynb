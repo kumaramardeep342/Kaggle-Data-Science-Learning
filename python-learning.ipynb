{
 "cells": [
  {
   "cell_type": "code",
   "execution_count": 1,
   "id": "9f399670",
   "metadata": {
    "_cell_guid": "b1076dfc-b9ad-4769-8c92-a6c4dae69d19",
    "_uuid": "8f2839f25d086af736a60e9eeb907d3b93b6e0e5",
    "execution": {
     "iopub.execute_input": "2025-10-19T10:34:24.646963Z",
     "iopub.status.busy": "2025-10-19T10:34:24.646038Z",
     "iopub.status.idle": "2025-10-19T10:34:26.583562Z",
     "shell.execute_reply": "2025-10-19T10:34:26.582596Z"
    },
    "papermill": {
     "duration": 1.942826,
     "end_time": "2025-10-19T10:34:26.585340",
     "exception": false,
     "start_time": "2025-10-19T10:34:24.642514",
     "status": "completed"
    },
    "tags": []
   },
   "outputs": [],
   "source": [
    "# This Python 3 environment comes with many helpful analytics libraries installed\n",
    "# It is defined by the kaggle/python Docker image: https://github.com/kaggle/docker-python\n",
    "# For example, here's several helpful packages to load\n",
    "\n",
    "import numpy as np # linear algebra\n",
    "import pandas as pd # data processing, CSV file I/O (e.g. pd.read_csv)\n",
    "\n",
    "# Input data files are available in the read-only \"../input/\" directory\n",
    "# For example, running this (by clicking run or pressing Shift+Enter) will list all files under the input directory\n",
    "\n",
    "import os\n",
    "for dirname, _, filenames in os.walk('/kaggle/input'):\n",
    "    for filename in filenames:\n",
    "        print(os.path.join(dirname, filename))\n",
    "\n",
    "# You can write up to 20GB to the current directory (/kaggle/working/) that gets preserved as output when you create a version using \"Save & Run All\" \n",
    "# You can also write temporary files to /kaggle/temp/, but they won't be saved outside of the current session"
   ]
  },
  {
   "cell_type": "code",
   "execution_count": 2,
   "id": "110d6aeb",
   "metadata": {
    "execution": {
     "iopub.execute_input": "2025-10-19T10:34:26.590462Z",
     "iopub.status.busy": "2025-10-19T10:34:26.589970Z",
     "iopub.status.idle": "2025-10-19T10:34:26.597912Z",
     "shell.execute_reply": "2025-10-19T10:34:26.597013Z"
    },
    "papermill": {
     "duration": 0.012083,
     "end_time": "2025-10-19T10:34:26.599638",
     "exception": false,
     "start_time": "2025-10-19T10:34:26.587555",
     "status": "completed"
    },
    "tags": []
   },
   "outputs": [
    {
     "name": "stdout",
     "output_type": "stream",
     "text": [
      "(7, 'hEllO wOrld', 2)\n",
      "(13, 'PythOn PrOgrAmmIng', 2)\n"
     ]
    }
   ],
   "source": [
    "def analyze_text(s:str) -> tuple :\n",
    "    \n",
    "    # -------------------- STRING OPERATIONS  --------------------\n",
    "    \"\"\"\n",
    "    Write a function named analyze_text(s: str) that accepts a string and returns a tuple:\n",
    "    (consonant_count: int, reversed_vowels: str, word_count: int)\n",
    "    \n",
    "    The function must:\n",
    "    1. Count the number of consonants (excluding spaces and special chars)\n",
    "    2. Replace all vowels with their uppercase versions and return the modified string\n",
    "    3. Count the number of words in the string (words are separated by spaces)\n",
    "    \n",
    "    Input:\n",
    "    is_equal(analyze_text(\"hello world\"), (7, \"hEllO wOrld\", 2))\n",
    "    is_equal(analyze_text(\"Python Programming\"), (12, \"PythOn PrOgrAmmIng\", 2))\n",
    "    \n",
    "    Expected Output:\n",
    "    (7, 'hEllO wOrld', 2)\n",
    "    (12, 'PythOn PrOgrAmmIng', 2)\n",
    "    \"\"\"\n",
    "\n",
    "    #it will find character occurances\n",
    "    #reduced_string = set(s)\n",
    "    #char_count = [{i:s.count(i)} for i in reduced_string]\n",
    "\n",
    "    # 1. Count the number of consonants (excluding spaces and special chars)\n",
    "    cons = 'bcdfghjklmnpqrstvwxyz'\n",
    "    cons_filter = list(filter(lambda x :x.lower() in cons,s))\n",
    "    cons_count = len(cons_filter)\n",
    "\n",
    "    #2. Replace all vowels with their uppercase versions and return the modified string\n",
    "    vowel ='aeiou'\n",
    "    new_str = [i for i in s]\n",
    "    # for i in new_str :\n",
    "    #     if i in vowel :\n",
    "    #         new_str[new_str.index(i)] = i.upper()\n",
    "    modified_str = \"\".join([i.upper() if i.lower() in vowel else i for i in new_str])\n",
    "    \n",
    "    # 3. Count the number of words in the string (words are separated by spaces)\n",
    "    word_count = len(s.split(\" \"))\n",
    "    \n",
    "    return (cons_count,modified_str,word_count)\n",
    "    \n",
    "if __name__ == \"__main__\" :\n",
    "    print(analyze_text(\"hello world\")) # (7, \"hEllO wOrld\", 2))\n",
    "    print(analyze_text(\"Python Programming\")) # (13, 'PythOn PrOgrAmmIng', 2)"
   ]
  },
  {
   "cell_type": "code",
   "execution_count": 3,
   "id": "64cc22a7",
   "metadata": {
    "execution": {
     "iopub.execute_input": "2025-10-19T10:34:26.604182Z",
     "iopub.status.busy": "2025-10-19T10:34:26.603875Z",
     "iopub.status.idle": "2025-10-19T10:34:26.611700Z",
     "shell.execute_reply": "2025-10-19T10:34:26.610600Z"
    },
    "papermill": {
     "duration": 0.011424,
     "end_time": "2025-10-19T10:34:26.612987",
     "exception": false,
     "start_time": "2025-10-19T10:34:26.601563",
     "status": "completed"
    },
    "tags": []
   },
   "outputs": [
    {
     "name": "stdout",
     "output_type": "stream",
     "text": [
      "8\n",
      "55\n",
      "8\n",
      "55\n"
     ]
    }
   ],
   "source": [
    "#using recursion mechanism\n",
    "def fibonacci_rec(n:int) ->int:\n",
    "    # -------------------- FIBONACCI SEQUENCE --------------------\n",
    "    \"\"\"\n",
    "    Implement two functions: fibonacci_rec(n: int) -> int (recursive) and \n",
    "    fibonacci_iter(n: int) -> int (iterative) that return the nth Fibonacci number.\n",
    "    Note: fibonacci(0) = 0, fibonacci(1) = 1\n",
    "    \n",
    "    Input:\n",
    "    is_equal(fibonacci_rec(6), 8) # count start from 1\n",
    "    is_equal(fibonacci_iter(6), 8) # count start from 1\n",
    "    is_equal(fibonacci_rec(10), fibonacci_iter(10))\n",
    "    is_equal(fibonacci_rec(10), 55)\n",
    "    \n",
    "    Expected Output:\n",
    "    8\n",
    "    8\n",
    "    55\n",
    "    55\n",
    "    \"\"\"\n",
    "    if (n==0):\n",
    "        return 0\n",
    "    elif (n==1):\n",
    "        return 1\n",
    "    else :\n",
    "        return fibonacci_rec(n-1)+fibonacci_rec(n-2)\n",
    "        \n",
    "#using loop mechanism        \n",
    "def fibonacci_iter(n:int)->int:\n",
    "    fibonacci_list = []\n",
    "    i=0\n",
    "    while i<=n:\n",
    "        if i == 0:\n",
    "            fibonacci_list.append(i)\n",
    "        elif i == 1:\n",
    "            fibonacci_list.append(i)\n",
    "        else :\n",
    "            val = fibonacci_list[i-1] +fibonacci_list[i-2]\n",
    "            fibonacci_list.append(val)\n",
    "        i = i+1\n",
    "    return fibonacci_list[i-1]\n",
    "    #return fibonacci_list\n",
    "    \n",
    "if __name__ == \"__main__\":\n",
    "    print(fibonacci_rec(6)) #8\n",
    "    #print([fibonacci_rec(i) for i in range(7)])\n",
    "    print(fibonacci_rec(10)) #55\n",
    "    print(fibonacci_iter(6)) #8\n",
    "    print(fibonacci_iter(10)) #55"
   ]
  },
  {
   "cell_type": "code",
   "execution_count": null,
   "id": "c6cac5ed",
   "metadata": {
    "papermill": {
     "duration": 0.001512,
     "end_time": "2025-10-19T10:34:26.616370",
     "exception": false,
     "start_time": "2025-10-19T10:34:26.614858",
     "status": "completed"
    },
    "tags": []
   },
   "outputs": [],
   "source": []
  }
 ],
 "metadata": {
  "kaggle": {
   "accelerator": "none",
   "dataSources": [],
   "dockerImageVersionId": 31153,
   "isGpuEnabled": false,
   "isInternetEnabled": true,
   "language": "python",
   "sourceType": "notebook"
  },
  "kernelspec": {
   "display_name": "Python 3",
   "language": "python",
   "name": "python3"
  },
  "language_info": {
   "codemirror_mode": {
    "name": "ipython",
    "version": 3
   },
   "file_extension": ".py",
   "mimetype": "text/x-python",
   "name": "python",
   "nbconvert_exporter": "python",
   "pygments_lexer": "ipython3",
   "version": "3.11.13"
  },
  "papermill": {
   "default_parameters": {},
   "duration": 7.40069,
   "end_time": "2025-10-19T10:34:27.136776",
   "environment_variables": {},
   "exception": null,
   "input_path": "__notebook__.ipynb",
   "output_path": "__notebook__.ipynb",
   "parameters": {},
   "start_time": "2025-10-19T10:34:19.736086",
   "version": "2.6.0"
  }
 },
 "nbformat": 4,
 "nbformat_minor": 5
}
