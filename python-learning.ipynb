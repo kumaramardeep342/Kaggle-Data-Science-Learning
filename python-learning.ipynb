{
 "cells": [
  {
   "cell_type": "code",
   "execution_count": 1,
   "id": "d914bdb0",
   "metadata": {
    "_cell_guid": "b1076dfc-b9ad-4769-8c92-a6c4dae69d19",
    "_uuid": "8f2839f25d086af736a60e9eeb907d3b93b6e0e5",
    "execution": {
     "iopub.execute_input": "2025-10-24T02:30:28.196069Z",
     "iopub.status.busy": "2025-10-24T02:30:28.195665Z",
     "iopub.status.idle": "2025-10-24T02:30:30.337182Z",
     "shell.execute_reply": "2025-10-24T02:30:30.336196Z"
    },
    "papermill": {
     "duration": 2.147754,
     "end_time": "2025-10-24T02:30:30.338885",
     "exception": false,
     "start_time": "2025-10-24T02:30:28.191131",
     "status": "completed"
    },
    "tags": []
   },
   "outputs": [],
   "source": [
    "# This Python 3 environment comes with many helpful analytics libraries installed\n",
    "# It is defined by the kaggle/python Docker image: https://github.com/kaggle/docker-python\n",
    "# For example, here's several helpful packages to load\n",
    "\n",
    "import numpy as np # linear algebra\n",
    "import pandas as pd # data processing, CSV file I/O (e.g. pd.read_csv)\n",
    "\n",
    "# Input data files are available in the read-only \"../input/\" directory\n",
    "# For example, running this (by clicking run or pressing Shift+Enter) will list all files under the input directory\n",
    "\n",
    "import os\n",
    "for dirname, _, filenames in os.walk('/kaggle/input'):\n",
    "    for filename in filenames:\n",
    "        print(os.path.join(dirname, filename))\n",
    "\n",
    "# You can write up to 20GB to the current directory (/kaggle/working/) that gets preserved as output when you create a version using \"Save & Run All\" \n",
    "# You can also write temporary files to /kaggle/temp/, but they won't be saved outside of the current session"
   ]
  },
  {
   "cell_type": "code",
   "execution_count": 2,
   "id": "f008cfba",
   "metadata": {
    "execution": {
     "iopub.execute_input": "2025-10-24T02:30:30.346524Z",
     "iopub.status.busy": "2025-10-24T02:30:30.346040Z",
     "iopub.status.idle": "2025-10-24T02:30:30.355055Z",
     "shell.execute_reply": "2025-10-24T02:30:30.354052Z"
    },
    "papermill": {
     "duration": 0.014645,
     "end_time": "2025-10-24T02:30:30.356673",
     "exception": false,
     "start_time": "2025-10-24T02:30:30.342028",
     "status": "completed"
    },
    "tags": []
   },
   "outputs": [
    {
     "name": "stdout",
     "output_type": "stream",
     "text": [
      "(7, 'hEllO wOrld', 2)\n",
      "(13, 'PythOn PrOgrAmmIng', 2)\n"
     ]
    }
   ],
   "source": [
    "def analyze_text(s:str) -> tuple :\n",
    "    \n",
    "    # -------------------- STRING OPERATIONS  --------------------\n",
    "    \"\"\"\n",
    "    Write a function named analyze_text(s: str) that accepts a string and returns a tuple:\n",
    "    (consonant_count: int, reversed_vowels: str, word_count: int)\n",
    "    \n",
    "    The function must:\n",
    "    1. Count the number of consonants (excluding spaces and special chars)\n",
    "    2. Replace all vowels with their uppercase versions and return the modified string\n",
    "    3. Count the number of words in the string (words are separated by spaces)\n",
    "    \n",
    "    Input:\n",
    "    is_equal(analyze_text(\"hello world\"), (7, \"hEllO wOrld\", 2))\n",
    "    is_equal(analyze_text(\"Python Programming\"), (12, \"PythOn PrOgrAmmIng\", 2))\n",
    "    \n",
    "    Expected Output:\n",
    "    (7, 'hEllO wOrld', 2)\n",
    "    (12, 'PythOn PrOgrAmmIng', 2)\n",
    "    \"\"\"\n",
    "\n",
    "    #it will find character occurances\n",
    "    #reduced_string = set(s)\n",
    "    #char_count = [{i:s.count(i)} for i in reduced_string]\n",
    "\n",
    "    # 1. Count the number of consonants (excluding spaces and special chars)\n",
    "    \n",
    "    #Approach 1\n",
    "    # cons = 'bcdfghjklmnpqrstvwxyz'\n",
    "    # cons_filter = list(filter(lambda x :x.lower() in cons,s))\n",
    "    # cons_count = len(cons_filter)\n",
    "    \n",
    "    #Approach 2\n",
    "    vowel ='aeiou'\n",
    "    char_list = list(s)\n",
    "    char_list_filter = [ch for ch in char_list if ch.isalpha()]\n",
    "    cons_count= sum([char_list_filter.count(ch) for ch in set(char_list_filter) if ch.lower() not in vowel])\n",
    "\n",
    "    #2. Replace all vowels with their uppercase versions and return the modified string\n",
    "    vowel ='aeiou'\n",
    "    new_str = [i for i in s]\n",
    "    # for i in new_str :\n",
    "    #     if i in vowel :\n",
    "    #         new_str[new_str.index(i)] = i.upper()\n",
    "    modified_str = \"\".join([i.upper() if i.lower() in vowel else i for i in new_str])\n",
    "    \n",
    "    # 3. Count the number of words in the string (words are separated by spaces)\n",
    "    word_count = len(s.split(\" \"))\n",
    "    \n",
    "    return (cons_count,modified_str,word_count)\n",
    "    \n",
    "if __name__ == \"__main__\" :\n",
    "    print(analyze_text(\"hello world\")) # (7, \"hEllO wOrld\", 2))\n",
    "    print(analyze_text(\"Python Programming\")) # (13, 'PythOn PrOgrAmmIng', 2)"
   ]
  },
  {
   "cell_type": "code",
   "execution_count": 3,
   "id": "a5e3088e",
   "metadata": {
    "execution": {
     "iopub.execute_input": "2025-10-24T02:30:30.363826Z",
     "iopub.status.busy": "2025-10-24T02:30:30.363500Z",
     "iopub.status.idle": "2025-10-24T02:30:30.372723Z",
     "shell.execute_reply": "2025-10-24T02:30:30.371417Z"
    },
    "papermill": {
     "duration": 0.01522,
     "end_time": "2025-10-24T02:30:30.374960",
     "exception": false,
     "start_time": "2025-10-24T02:30:30.359740",
     "status": "completed"
    },
    "tags": []
   },
   "outputs": [
    {
     "name": "stdout",
     "output_type": "stream",
     "text": [
      "8\n",
      "55\n",
      "8\n",
      "55\n"
     ]
    }
   ],
   "source": [
    "#using recursion mechanism\n",
    "def fibonacci_rec(n:int) ->int:\n",
    "    # -------------------- FIBONACCI SEQUENCE --------------------\n",
    "    \"\"\"\n",
    "    Implement two functions: fibonacci_rec(n: int) -> int (recursive) and \n",
    "    fibonacci_iter(n: int) -> int (iterative) that return the nth Fibonacci number.\n",
    "    Note: fibonacci(0) = 0, fibonacci(1) = 1\n",
    "    \n",
    "    Input:\n",
    "    is_equal(fibonacci_rec(6), 8) # count start from 1\n",
    "    is_equal(fibonacci_iter(6), 8) # count start from 1\n",
    "    is_equal(fibonacci_rec(10), fibonacci_iter(10))\n",
    "    is_equal(fibonacci_rec(10), 55)\n",
    "    \n",
    "    Expected Output:\n",
    "    8\n",
    "    8\n",
    "    55\n",
    "    55\n",
    "    \"\"\"\n",
    "    if (n==0):\n",
    "        return 0\n",
    "    elif (n==1):\n",
    "        return 1\n",
    "    else :\n",
    "        return fibonacci_rec(n-1)+fibonacci_rec(n-2)\n",
    "        \n",
    "#using loop mechanism        \n",
    "def fibonacci_iter(n:int)->int:\n",
    "    fibonacci_list = []\n",
    "    i=0\n",
    "    while i<=n:\n",
    "        if i == 0:\n",
    "            fibonacci_list.append(i)\n",
    "        elif i == 1:\n",
    "            fibonacci_list.append(i)\n",
    "        else :\n",
    "            val = fibonacci_list[i-1] +fibonacci_list[i-2]\n",
    "            fibonacci_list.append(val)\n",
    "        i = i+1\n",
    "    return fibonacci_list[i-1]\n",
    "    #return fibonacci_list\n",
    "    \n",
    "if __name__ == \"__main__\":\n",
    "    print(fibonacci_rec(6)) #8\n",
    "    #print([fibonacci_rec(i) for i in range(7)])\n",
    "    print(fibonacci_rec(10)) #55\n",
    "    print(fibonacci_iter(6)) #8\n",
    "    print(fibonacci_iter(10)) #55"
   ]
  },
  {
   "cell_type": "code",
   "execution_count": 4,
   "id": "42f41543",
   "metadata": {
    "execution": {
     "iopub.execute_input": "2025-10-24T02:30:30.382714Z",
     "iopub.status.busy": "2025-10-24T02:30:30.382155Z",
     "iopub.status.idle": "2025-10-24T02:30:30.393579Z",
     "shell.execute_reply": "2025-10-24T02:30:30.391703Z"
    },
    "papermill": {
     "duration": 0.017633,
     "end_time": "2025-10-24T02:30:30.395548",
     "exception": false,
     "start_time": "2025-10-24T02:30:30.377915",
     "status": "completed"
    },
    "tags": []
   },
   "outputs": [
    {
     "name": "stdout",
     "output_type": "stream",
     "text": [
      "True\n",
      "['Mouse', 'Keyboard']\n"
     ]
    }
   ],
   "source": [
    "def problem_statement():\n",
    "    # -------------------- INVENTORY MANAGEMENT --------------------\n",
    "   \n",
    "    \"\"\"\n",
    "    Implement the following functions for a product inventory dictionary:\n",
    "    \n",
    "    create_inventory(initial: dict = None) -> dict - returns a dictionary mapping \n",
    "    product name to quantity. If initial is provided, use it; otherwise return an empty dict.\n",
    "    \n",
    "    add_product(inventory: dict, name: str, quantity: int) -> None - adds quantity to \n",
    "    existing product or creates new entry.\n",
    "    \n",
    "    remove_product(inventory: dict, name: str, quantity: int) -> bool - removes quantity \n",
    "    from product. Returns True if successful, False if insufficient stock.\n",
    "    \n",
    "    low_stock_items(inventory: dict, threshold: int) -> list - returns list of product \n",
    "    names with quantity less than threshold.\n",
    "    \n",
    "    Input:\n",
    "    inventory = create_inventory()\n",
    "    add_product(inventory, \"Laptop\", 10)\n",
    "    add_product(inventory, \"Mouse\", 5)\n",
    "    add_product(inventory, \"Keyboard\", 3)\n",
    "    is_equal(remove_product(inventory, \"Laptop\", 2), True)\n",
    "    is_equal(low_stock_items(inventory, 5), [\"Mouse\", \"Keyboard\"])\n",
    "    \n",
    "    Expected Output:\n",
    "    True\n",
    "    ['Mouse', 'Keyboard']\n",
    "    \"\"\"\n",
    "    return None\n",
    "\n",
    "def create_inventory(initial: dict = None) -> dict:\n",
    "    '''\n",
    "    Returns a dictionary mapping product name to quantity. If initial is provided, use it; otherwise return an empty dict.\n",
    "    '''\n",
    "    if initial :\n",
    "        return initial \n",
    "    else:\n",
    "        return {}\n",
    "    \n",
    "def add_product(inventory: dict, name: str, quantity: int) -> None:\n",
    "    '''\n",
    "    Adds quantity to  existing product or creates new entry.\n",
    "    '''\n",
    "    if name in inventory.keys():\n",
    "        inventory[name] = inventory[name] + quantity\n",
    "    else :\n",
    "        inventory[name] = quantity\n",
    "    return None\n",
    "    \n",
    "def remove_product(inventory: dict, name: str, quantity: int) -> bool:\n",
    "    '''\n",
    "    Removes quantity from product. Returns True if successful, False if insufficient stock.\n",
    "    '''\n",
    "    if inventory[name]>=quantity:\n",
    "        inventory[name] = inventory[name]- quantity\n",
    "        # print(\"Operation Successful !!.\")\n",
    "        return True\n",
    "    else :\n",
    "        # Print(\"Insufficient Stock !!.\")\n",
    "        return False\n",
    "\n",
    "def low_stock_items(inventory: dict, threshold: int) -> list:\n",
    "    '''\n",
    "    Returns list of product names with quantity less than threshold.\n",
    "    '''\n",
    "    return([k for k,v in inventory.items() if inventory[k] <= threshold])\n",
    "    \n",
    "if __name__ == '__main__':\n",
    "    inventory = create_inventory()\n",
    "    add_product(inventory, \"Laptop\", 10)\n",
    "    add_product(inventory, \"Mouse\", 5)\n",
    "    add_product(inventory, \"Keyboard\", 3)\n",
    "    print(remove_product(inventory, \"Laptop\", 2))\n",
    "    print(low_stock_items(inventory, 5))\n",
    "    "
   ]
  },
  {
   "cell_type": "code",
   "execution_count": 5,
   "id": "0f43fbb3",
   "metadata": {
    "execution": {
     "iopub.execute_input": "2025-10-24T02:30:30.403622Z",
     "iopub.status.busy": "2025-10-24T02:30:30.403300Z",
     "iopub.status.idle": "2025-10-24T02:30:30.410198Z",
     "shell.execute_reply": "2025-10-24T02:30:30.409156Z"
    },
    "papermill": {
     "duration": 0.012943,
     "end_time": "2025-10-24T02:30:30.411810",
     "exception": false,
     "start_time": "2025-10-24T02:30:30.398867",
     "status": "completed"
    },
    "tags": []
   },
   "outputs": [
    {
     "name": "stdout",
     "output_type": "stream",
     "text": [
      "([1, 2, 3, 4, 3, 4, 5, 6], [1, 2, 3, 4, 5, 6], [3, 4])\n"
     ]
    }
   ],
   "source": [
    "def merge_unique(l1: list, l2: list) -> tuple:\n",
    "    # -------------------- LIST OPERATIONS - MERGE & UNIQUE --------------------\n",
    "    \"\"\"\n",
    "    Implement a function merge_unique(l1: list, l2: list) -> tuple that:\n",
    "    1. Creates l3 by merging l1 and l2 (concatenation)\n",
    "    2. Creates l4 with only unique elements from l3 (preserve order of first occurrence)\n",
    "    3. Creates l5 with common elements between l1 and l2\n",
    "    4. Returns (l3, l4, l5)\n",
    "    \n",
    "    Input:\n",
    "    l1 = [1, 2, 3, 4]\n",
    "    l2 = [3, 4, 5, 6]\n",
    "    \n",
    "    Expected Output:\n",
    "    ([1, 2, 3, 4, 3, 4, 5, 6], [1, 2, 3, 4, 5, 6], [3, 4])\n",
    "    \"\"\"\n",
    "    l3 = l1 + l2\n",
    "    l4 = list(set(l3))\n",
    "    l5 = {i: l3.count(i) for i in l3}\n",
    "    l5 = [k for k,v in l5.items() if v == 2]\n",
    "    return (l3,l4,l5)\n",
    "\n",
    "if __name__ == \"__main__\":\n",
    "    l1 = [1, 2, 3, 4]\n",
    "    l2 = [3, 4, 5, 6]\n",
    "    print(merge_unique(l1, l2))"
   ]
  },
  {
   "cell_type": "code",
   "execution_count": 6,
   "id": "548fb583",
   "metadata": {
    "execution": {
     "iopub.execute_input": "2025-10-24T02:30:30.418842Z",
     "iopub.status.busy": "2025-10-24T02:30:30.418522Z",
     "iopub.status.idle": "2025-10-24T02:30:30.425743Z",
     "shell.execute_reply": "2025-10-24T02:30:30.424825Z"
    },
    "papermill": {
     "duration": 0.012416,
     "end_time": "2025-10-24T02:30:30.427141",
     "exception": false,
     "start_time": "2025-10-24T02:30:30.414725",
     "status": "completed"
    },
    "tags": []
   },
   "outputs": [
    {
     "name": "stdout",
     "output_type": "stream",
     "text": [
      "150\n"
     ]
    }
   ],
   "source": [
    "def find_max_in_nested(nested_list: list) -> int:\n",
    "    # -------------------- MAXIMUM VALUE IN NESTED STRUCTURE --------------------\n",
    "    \"\"\"\n",
    "    Write a function find_max_in_nested(nested_list: list) -> int that accepts a list \n",
    "    which may contain integers or other nested lists. It should return the maximum \n",
    "    integer found at any nesting level. If no integers are found, return None.\n",
    "    \n",
    "    Example Input:\n",
    "    nested = [\n",
    "        [2, [37, [100]]], \n",
    "        4, \n",
    "        [10, [50, [1, 2, [3, 150]]]],\n",
    "    ]\n",
    "    \n",
    "    Expected Output:\n",
    "    150\n",
    "    \"\"\"\n",
    "    max_elem = None\n",
    "    def travesing(lst):\n",
    "        nonlocal max_elem\n",
    "        for i, item in enumerate(lst):\n",
    "            #print(i,item)\n",
    "            if isinstance(item,list):\n",
    "                travesing(item)\n",
    "            elif isinstance(item,int):\n",
    "                if max_elem is None or item > max_elem:\n",
    "                    max_elem = item \n",
    "    travesing(nested_list)\n",
    "    return max_elem\n",
    "\n",
    "if __name__ == \"__main__\":\n",
    "    nested_list = [\n",
    "        [2, [37, [100]]], \n",
    "        4, \n",
    "        [10, [50, [1, 2, [3, 150]]]],\n",
    "    ]\n",
    "    print(find_max_in_nested(nested_list))"
   ]
  },
  {
   "cell_type": "code",
   "execution_count": 7,
   "id": "c9be8cfb",
   "metadata": {
    "execution": {
     "iopub.execute_input": "2025-10-24T02:30:30.434905Z",
     "iopub.status.busy": "2025-10-24T02:30:30.434530Z",
     "iopub.status.idle": "2025-10-24T02:30:30.442309Z",
     "shell.execute_reply": "2025-10-24T02:30:30.441286Z"
    },
    "papermill": {
     "duration": 0.01363,
     "end_time": "2025-10-24T02:30:30.443937",
     "exception": false,
     "start_time": "2025-10-24T02:30:30.430307",
     "status": "completed"
    },
    "tags": []
   },
   "outputs": [
    {
     "name": "stdout",
     "output_type": "stream",
     "text": [
      "{'Alice': (80.0, 85.5), 'David': (87.7, 95.0)}\n"
     ]
    }
   ],
   "source": [
    "# -------------------- FIND PASSING STUDENTS --------------------\n",
    "def find_passing_students(students: list) -> dict:\n",
    "    \n",
    "    \"\"\"\n",
    "    Write a function find_passing_students(students: list) -> dict where each student \n",
    "    is represented as a dictionary: {\"name\": str, \"scores\": list[int], \"attendance\": float}.\n",
    "    \n",
    "    The function should:\n",
    "    1. Compute the average score for each student\n",
    "    2. Filter students with average >= 60 AND attendance >= 75.0\n",
    "    3. Return a new dictionary mapping student name to a tuple (average_score, attendance)\n",
    "       where average is rounded to one decimal place\n",
    "    \n",
    "    Example Input:\n",
    "    students = [\n",
    "        {\"name\": \"Alice\", \"scores\": [80, 70, 90], \"attendance\": 85.5},\n",
    "        {\"name\": \"Bob\", \"scores\": [50, 60, 55], \"attendance\": 90.0},\n",
    "        {\"name\": \"Charlie\", \"scores\": [70, 75, 80], \"attendance\": 70.0},\n",
    "        {\"name\": \"David\", \"scores\": [90, 85, 88], \"attendance\": 95.0}\n",
    "    ]\n",
    "    \n",
    "    Expected Output:\n",
    "    {\"Alice\": (80.0, 85.5), \"David\": (87.7, 95.0)}\n",
    "    \"\"\"\n",
    "    passing_students = {}\n",
    "    average_score, attendance=0,0\n",
    "    for i in range (len(students)):\n",
    "        avg_marks = sum(students[i][\"scores\"])/len(students[i][\"scores\"])\n",
    "        if  avg_marks >=60 and students[i][\"attendance\"]>=75.0:\n",
    "            passing_students[students[i][\"name\"]] = (round(avg_marks,1),students[i][\"attendance\"])\n",
    "        else:\n",
    "            pass\n",
    "    return passing_students\n",
    "            \n",
    "        \n",
    "    \n",
    "\n",
    "if __name__ == \"__main__\":\n",
    "    students = [\n",
    "        {\"name\": \"Alice\", \"scores\": [80, 70, 90], \"attendance\": 85.5},\n",
    "        {\"name\": \"Bob\", \"scores\": [50, 60, 55], \"attendance\": 90.0},\n",
    "        {\"name\": \"Charlie\", \"scores\": [70, 75, 80], \"attendance\": 70.0},\n",
    "        {\"name\": \"David\", \"scores\": [90, 85, 88], \"attendance\": 95.0}]\n",
    "    print(find_passing_students(students))"
   ]
  },
  {
   "cell_type": "code",
   "execution_count": 8,
   "id": "3172b5f1",
   "metadata": {
    "execution": {
     "iopub.execute_input": "2025-10-24T02:30:30.451900Z",
     "iopub.status.busy": "2025-10-24T02:30:30.451029Z",
     "iopub.status.idle": "2025-10-24T02:30:30.459581Z",
     "shell.execute_reply": "2025-10-24T02:30:30.458025Z"
    },
    "papermill": {
     "duration": 0.014163,
     "end_time": "2025-10-24T02:30:30.461153",
     "exception": false,
     "start_time": "2025-10-24T02:30:30.446990",
     "status": "completed"
    },
    "tags": []
   },
   "outputs": [
    {
     "name": "stdout",
     "output_type": "stream",
     "text": [
      "This is Problem statement. Let's get started !....\n"
     ]
    }
   ],
   "source": [
    "# -------------------- Q18: RESTAURANT ORDER SYSTEM --------------------\n",
    "class problem_statement:\n",
    "    \"\"\"\n",
    "    Design a Restaurant Order system. Use these exact names and behaviors:\n",
    "    \n",
    "    Class MenuItem: attributes name: str, price: float, category: str\n",
    "    Class Order: manage multiple MenuItem objects. Provide methods:\n",
    "        add_item(item: MenuItem) -> None\n",
    "        remove_item(item_name: str) -> None (remove by name; if not found, do nothing)\n",
    "        get_total() -> float (sum of prices for all items)\n",
    "        get_items_by_category(category: str) -> list (return list of item names)\n",
    "        __str__() -> str - return a multi-line string:\n",
    "    \n",
    "    Order:\n",
    "    - Burger (Main) - $8.50\n",
    "    - Fries (Side) - $3.00\n",
    "    - Coke (Drink) - $2.50\n",
    "    Total: $14.00\n",
    "    \n",
    "    Input:\n",
    "    order = Order()\n",
    "    order.add_item(MenuItem(\"Burger\", 8.50, \"Main\"))\n",
    "    order.add_item(MenuItem(\"Fries\", 3.00, \"Side\"))\n",
    "    order.add_item(MenuItem(\"Coke\", 2.50, \"Drink\"))\n",
    "    is_equal(order.get_total(), 14.00)\n",
    "    is_equal(order.get_items_by_category(\"Side\"), [\"Fries\"])\n",
    "    print(order)\n",
    "    \n",
    "    Expected Output:\n",
    "    14.0\n",
    "    ['Fries']\n",
    "    - Burger (Main) - $8.50\n",
    "    - Fries (Side) - $3.00\n",
    "    - Coke (Drink) - $2.50\n",
    "    Total: $14.00\n",
    "    \"\"\"\n",
    "    def __init__(self):\n",
    "        self.description = \"This is Problem statement. Let's get started !....\"\n",
    "    def __str__(self):\n",
    "        return self.description\n",
    "        \n",
    "# class MenuItem:\n",
    "#     def __init__(self,name: str, price: float, category: str):\n",
    "#         self.name = name\n",
    "#         self.price = price\n",
    "#         self.category = category\n",
    "\n",
    "# class Order:\n",
    "#     # def __init__(self):\n",
    "#     # # def add_item(item: MenuItem) -> None:\n",
    "#     # # def remove_item(item_name: str) -> None:\n",
    "#     # # def get_total() -> float:\n",
    "#     # # def get_items_by_category(category: str) -> list:\n",
    "#     # # def __str__() -> str:\n",
    "    \n",
    "\n",
    "\n",
    "if __name__ == \"__main__\":\n",
    "    print(problem_statement())\n",
    "    "
   ]
  },
  {
   "cell_type": "code",
   "execution_count": null,
   "id": "6f0abc59",
   "metadata": {
    "papermill": {
     "duration": 0.002705,
     "end_time": "2025-10-24T02:30:30.467034",
     "exception": false,
     "start_time": "2025-10-24T02:30:30.464329",
     "status": "completed"
    },
    "tags": []
   },
   "outputs": [],
   "source": []
  }
 ],
 "metadata": {
  "kaggle": {
   "accelerator": "none",
   "dataSources": [],
   "dockerImageVersionId": 31153,
   "isGpuEnabled": false,
   "isInternetEnabled": true,
   "language": "python",
   "sourceType": "notebook"
  },
  "kernelspec": {
   "display_name": "Python 3",
   "language": "python",
   "name": "python3"
  },
  "language_info": {
   "codemirror_mode": {
    "name": "ipython",
    "version": 3
   },
   "file_extension": ".py",
   "mimetype": "text/x-python",
   "name": "python",
   "nbconvert_exporter": "python",
   "pygments_lexer": "ipython3",
   "version": "3.11.13"
  },
  "papermill": {
   "default_parameters": {},
   "duration": 7.914602,
   "end_time": "2025-10-24T02:30:30.990647",
   "environment_variables": {},
   "exception": null,
   "input_path": "__notebook__.ipynb",
   "output_path": "__notebook__.ipynb",
   "parameters": {},
   "start_time": "2025-10-24T02:30:23.076045",
   "version": "2.6.0"
  }
 },
 "nbformat": 4,
 "nbformat_minor": 5
}
