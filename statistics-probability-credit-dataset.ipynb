{
 "cells": [
  {
   "cell_type": "markdown",
   "id": "99a16f5c",
   "metadata": {
    "_cell_guid": "b1076dfc-b9ad-4769-8c92-a6c4dae69d19",
    "_uuid": "8f2839f25d086af736a60e9eeb907d3b93b6e0e5",
    "execution": {
     "iopub.execute_input": "2023-12-17T17:25:52.644132Z",
     "iopub.status.busy": "2023-12-17T17:25:52.643704Z",
     "iopub.status.idle": "2023-12-17T17:25:53.093290Z",
     "shell.execute_reply": "2023-12-17T17:25:53.092058Z",
     "shell.execute_reply.started": "2023-12-17T17:25:52.644096Z"
    },
    "papermill": {
     "duration": 0.006368,
     "end_time": "2024-01-07T07:04:28.956965",
     "exception": false,
     "start_time": "2024-01-07T07:04:28.950597",
     "status": "completed"
    },
    "tags": []
   },
   "source": [
    "# Introduction"
   ]
  },
  {
   "cell_type": "markdown",
   "id": "cd573b1d",
   "metadata": {
    "papermill": {
     "duration": 0.004359,
     "end_time": "2024-01-07T07:04:28.967020",
     "exception": false,
     "start_time": "2024-01-07T07:04:28.962661",
     "status": "completed"
    },
    "tags": []
   },
   "source": [
    " <div style = \"color: White; display: fill;\n",
    "              border-radius: 5px;\n",
    "              background-color: #20BEFF;\n",
    "              font-size: 100%;\n",
    "              font-family: Verdana\">\n",
    "This dataset is about customer has taken credit and bought items which is purpose. Using this dataset will perform statistics and probabality analysis."
   ]
  },
  {
   "cell_type": "markdown",
   "id": "a5e77dc5",
   "metadata": {
    "papermill": {
     "duration": 0.00433,
     "end_time": "2024-01-07T07:04:28.975969",
     "exception": false,
     "start_time": "2024-01-07T07:04:28.971639",
     "status": "completed"
    },
    "tags": []
   },
   "source": [
    "# Importing Libraries"
   ]
  },
  {
   "cell_type": "code",
   "execution_count": 1,
   "id": "b8c1542b",
   "metadata": {
    "execution": {
     "iopub.execute_input": "2024-01-07T07:04:28.987501Z",
     "iopub.status.busy": "2024-01-07T07:04:28.986729Z",
     "iopub.status.idle": "2024-01-07T07:04:30.651678Z",
     "shell.execute_reply": "2024-01-07T07:04:30.649744Z"
    },
    "papermill": {
     "duration": 1.674335,
     "end_time": "2024-01-07T07:04:30.654732",
     "exception": false,
     "start_time": "2024-01-07T07:04:28.980397",
     "status": "completed"
    },
    "tags": []
   },
   "outputs": [
    {
     "name": "stdout",
     "output_type": "stream",
     "text": [
      "/kaggle/input/credit-data/german_credit_data.csv\n"
     ]
    }
   ],
   "source": [
    "# This Python 3 environment comes with many helpful analytics libraries installed\n",
    "# It is defined by the kaggle/python Docker image: https://github.com/kaggle/docker-python\n",
    "# For example, here's several helpful packages to load\n",
    "\n",
    "import numpy as np # linear algebra\n",
    "import pandas as pd # data processing, CSV file I/O (e.g. pd.read_csv)\n",
    "import matplotlib.pyplot as plt # visualization like pie graph\n",
    "import seaborn as sns #visualization like scatterplot \n",
    "\n",
    "# Input data files are available in the read-only \"../input/\" directory\n",
    "# For example, running this (by clicking run or pressing Shift+Enter) will list all files under the input directory\n",
    "\n",
    "import os\n",
    "for dirname, _, filenames in os.walk('/kaggle/input'):\n",
    "    for filename in filenames:\n",
    "        print(os.path.join(dirname, filename))\n",
    "\n",
    "# You can write up to 20GB to the current directory (/kaggle/working/) that gets preserved as output when you create a version using \"Save & Run All\" \n",
    "# You can also write temporary files to /kaggle/temp/, but they won't be saved outside of the current sessio"
   ]
  },
  {
   "cell_type": "markdown",
   "id": "d00aa36c",
   "metadata": {
    "papermill": {
     "duration": 0.004661,
     "end_time": "2024-01-07T07:04:30.664918",
     "exception": false,
     "start_time": "2024-01-07T07:04:30.660257",
     "status": "completed"
    },
    "tags": []
   },
   "source": [
    "# Loading Dataset"
   ]
  },
  {
   "cell_type": "code",
   "execution_count": 2,
   "id": "155e7144",
   "metadata": {
    "execution": {
     "iopub.execute_input": "2024-01-07T07:04:30.676698Z",
     "iopub.status.busy": "2024-01-07T07:04:30.676022Z",
     "iopub.status.idle": "2024-01-07T07:04:30.701530Z",
     "shell.execute_reply": "2024-01-07T07:04:30.700691Z"
    },
    "papermill": {
     "duration": 0.034346,
     "end_time": "2024-01-07T07:04:30.704088",
     "exception": false,
     "start_time": "2024-01-07T07:04:30.669742",
     "status": "completed"
    },
    "tags": []
   },
   "outputs": [],
   "source": [
    "#Reading the Dataset\n",
    "credit=pd.read_csv('/kaggle/input/credit-data/german_credit_data.csv')\n",
    "#copying the dataset\n",
    "data=credit.copy()"
   ]
  },
  {
   "cell_type": "code",
   "execution_count": 3,
   "id": "7782f4bb",
   "metadata": {
    "execution": {
     "iopub.execute_input": "2024-01-07T07:04:30.716521Z",
     "iopub.status.busy": "2024-01-07T07:04:30.715541Z",
     "iopub.status.idle": "2024-01-07T07:04:30.731709Z",
     "shell.execute_reply": "2024-01-07T07:04:30.730959Z"
    },
    "papermill": {
     "duration": 0.024386,
     "end_time": "2024-01-07T07:04:30.733925",
     "exception": false,
     "start_time": "2024-01-07T07:04:30.709539",
     "status": "completed"
    },
    "tags": []
   },
   "outputs": [],
   "source": [
    "# dropping the column - Unnmaned:0 as it doesn't have much use.\n",
    "data.drop('Unnamed: 0',axis=1,inplace=True)"
   ]
  },
  {
   "cell_type": "code",
   "execution_count": 4,
   "id": "ee47799c",
   "metadata": {
    "execution": {
     "iopub.execute_input": "2024-01-07T07:04:30.747953Z",
     "iopub.status.busy": "2024-01-07T07:04:30.747083Z",
     "iopub.status.idle": "2024-01-07T07:04:30.770538Z",
     "shell.execute_reply": "2024-01-07T07:04:30.768974Z"
    },
    "papermill": {
     "duration": 0.033646,
     "end_time": "2024-01-07T07:04:30.772620",
     "exception": false,
     "start_time": "2024-01-07T07:04:30.738974",
     "status": "completed"
    },
    "tags": []
   },
   "outputs": [
    {
     "data": {
      "text/html": [
       "<div>\n",
       "<style scoped>\n",
       "    .dataframe tbody tr th:only-of-type {\n",
       "        vertical-align: middle;\n",
       "    }\n",
       "\n",
       "    .dataframe tbody tr th {\n",
       "        vertical-align: top;\n",
       "    }\n",
       "\n",
       "    .dataframe thead th {\n",
       "        text-align: right;\n",
       "    }\n",
       "</style>\n",
       "<table border=\"1\" class=\"dataframe\">\n",
       "  <thead>\n",
       "    <tr style=\"text-align: right;\">\n",
       "      <th></th>\n",
       "      <th>Age</th>\n",
       "      <th>Gender</th>\n",
       "      <th>Job</th>\n",
       "      <th>Housing</th>\n",
       "      <th>Saving accounts</th>\n",
       "      <th>Checking account</th>\n",
       "      <th>Credit_amount</th>\n",
       "      <th>Duration</th>\n",
       "      <th>Purpose</th>\n",
       "    </tr>\n",
       "  </thead>\n",
       "  <tbody>\n",
       "    <tr>\n",
       "      <th>0</th>\n",
       "      <td>67</td>\n",
       "      <td>male</td>\n",
       "      <td>2</td>\n",
       "      <td>own</td>\n",
       "      <td>NaN</td>\n",
       "      <td>little</td>\n",
       "      <td>1169</td>\n",
       "      <td>6</td>\n",
       "      <td>radio/TV</td>\n",
       "    </tr>\n",
       "    <tr>\n",
       "      <th>1</th>\n",
       "      <td>22</td>\n",
       "      <td>female</td>\n",
       "      <td>2</td>\n",
       "      <td>own</td>\n",
       "      <td>little</td>\n",
       "      <td>moderate</td>\n",
       "      <td>5951</td>\n",
       "      <td>48</td>\n",
       "      <td>radio/TV</td>\n",
       "    </tr>\n",
       "    <tr>\n",
       "      <th>2</th>\n",
       "      <td>49</td>\n",
       "      <td>male</td>\n",
       "      <td>1</td>\n",
       "      <td>own</td>\n",
       "      <td>little</td>\n",
       "      <td>NaN</td>\n",
       "      <td>2096</td>\n",
       "      <td>12</td>\n",
       "      <td>education</td>\n",
       "    </tr>\n",
       "  </tbody>\n",
       "</table>\n",
       "</div>"
      ],
      "text/plain": [
       "   Age  Gender  Job Housing Saving accounts Checking account  Credit_amount  \\\n",
       "0   67    male    2     own             NaN           little           1169   \n",
       "1   22  female    2     own          little         moderate           5951   \n",
       "2   49    male    1     own          little              NaN           2096   \n",
       "\n",
       "   Duration    Purpose  \n",
       "0         6   radio/TV  \n",
       "1        48   radio/TV  \n",
       "2        12  education  "
      ]
     },
     "execution_count": 4,
     "metadata": {},
     "output_type": "execute_result"
    }
   ],
   "source": [
    "# first three rows of data dataset\n",
    "data.head(3)"
   ]
  },
  {
   "cell_type": "markdown",
   "id": "ae6bc503",
   "metadata": {
    "papermill": {
     "duration": 0.004581,
     "end_time": "2024-01-07T07:04:30.782579",
     "exception": false,
     "start_time": "2024-01-07T07:04:30.777998",
     "status": "completed"
    },
    "tags": []
   },
   "source": [
    "# Exploring the Dataset"
   ]
  },
  {
   "cell_type": "code",
   "execution_count": 5,
   "id": "134a42f8",
   "metadata": {
    "execution": {
     "iopub.execute_input": "2024-01-07T07:04:30.794481Z",
     "iopub.status.busy": "2024-01-07T07:04:30.793966Z",
     "iopub.status.idle": "2024-01-07T07:04:30.801170Z",
     "shell.execute_reply": "2024-01-07T07:04:30.800172Z"
    },
    "papermill": {
     "duration": 0.015875,
     "end_time": "2024-01-07T07:04:30.803240",
     "exception": false,
     "start_time": "2024-01-07T07:04:30.787365",
     "status": "completed"
    },
    "tags": []
   },
   "outputs": [],
   "source": [
    "#Summary of Dataset\n",
    "def summary(df):\n",
    "    brief=pd.DataFrame(index=df.columns)\n",
    "    brief['dtypes']=df.dtypes\n",
    "    brief['count']=df.count()\n",
    "    brief['#unique']=df.nunique()\n",
    "    brief['#missing']=df.isna().sum()\n",
    "    brief['missing%']=df.isna().sum()/len(df)*100\n",
    "    brief=pd.concat([brief , df.describe().T.drop('count',axis=1)],axis=1)\n",
    "    return brief"
   ]
  },
  {
   "cell_type": "code",
   "execution_count": 6,
   "id": "1542e586",
   "metadata": {
    "execution": {
     "iopub.execute_input": "2024-01-07T07:04:30.817337Z",
     "iopub.status.busy": "2024-01-07T07:04:30.815728Z",
     "iopub.status.idle": "2024-01-07T07:04:31.056637Z",
     "shell.execute_reply": "2024-01-07T07:04:31.054683Z"
    },
    "papermill": {
     "duration": 0.251531,
     "end_time": "2024-01-07T07:04:31.060369",
     "exception": false,
     "start_time": "2024-01-07T07:04:30.808838",
     "status": "completed"
    },
    "tags": []
   },
   "outputs": [
    {
     "data": {
      "text/html": [
       "<style type=\"text/css\">\n",
       "#T_1951b_row0_col1, #T_1951b_row1_col1, #T_1951b_row2_col1, #T_1951b_row3_col1, #T_1951b_row5_col3, #T_1951b_row5_col4, #T_1951b_row6_col1, #T_1951b_row6_col2, #T_1951b_row6_col5, #T_1951b_row6_col6, #T_1951b_row6_col7, #T_1951b_row6_col8, #T_1951b_row6_col9, #T_1951b_row6_col10, #T_1951b_row6_col11, #T_1951b_row7_col1, #T_1951b_row8_col1 {\n",
       "  background-color: #081d58;\n",
       "  color: #f1f1f1;\n",
       "}\n",
       "#T_1951b_row0_col2 {\n",
       "  background-color: #f7fcc7;\n",
       "  color: #000000;\n",
       "}\n",
       "#T_1951b_row0_col3, #T_1951b_row0_col4, #T_1951b_row0_col6, #T_1951b_row1_col2, #T_1951b_row1_col3, #T_1951b_row1_col4, #T_1951b_row2_col2, #T_1951b_row2_col3, #T_1951b_row2_col4, #T_1951b_row2_col5, #T_1951b_row2_col6, #T_1951b_row2_col7, #T_1951b_row2_col8, #T_1951b_row2_col9, #T_1951b_row2_col10, #T_1951b_row2_col11, #T_1951b_row3_col2, #T_1951b_row3_col3, #T_1951b_row3_col4, #T_1951b_row4_col2, #T_1951b_row5_col1, #T_1951b_row5_col2, #T_1951b_row6_col3, #T_1951b_row6_col4, #T_1951b_row7_col3, #T_1951b_row7_col4, #T_1951b_row7_col11, #T_1951b_row8_col3, #T_1951b_row8_col4 {\n",
       "  background-color: #ffffd9;\n",
       "  color: #000000;\n",
       "}\n",
       "#T_1951b_row0_col5, #T_1951b_row0_col10 {\n",
       "  background-color: #feffd6;\n",
       "  color: #000000;\n",
       "}\n",
       "#T_1951b_row0_col7 {\n",
       "  background-color: #f4fbc1;\n",
       "  color: #000000;\n",
       "}\n",
       "#T_1951b_row0_col8, #T_1951b_row7_col7 {\n",
       "  background-color: #fdfed4;\n",
       "  color: #000000;\n",
       "}\n",
       "#T_1951b_row0_col9 {\n",
       "  background-color: #fdfed5;\n",
       "  color: #000000;\n",
       "}\n",
       "#T_1951b_row0_col11, #T_1951b_row7_col5, #T_1951b_row7_col6, #T_1951b_row7_col8, #T_1951b_row7_col9, #T_1951b_row7_col10, #T_1951b_row8_col2 {\n",
       "  background-color: #feffd8;\n",
       "  color: #000000;\n",
       "}\n",
       "#T_1951b_row1_col5, #T_1951b_row1_col6, #T_1951b_row1_col7, #T_1951b_row1_col8, #T_1951b_row1_col9, #T_1951b_row1_col10, #T_1951b_row1_col11, #T_1951b_row3_col5, #T_1951b_row3_col6, #T_1951b_row3_col7, #T_1951b_row3_col8, #T_1951b_row3_col9, #T_1951b_row3_col10, #T_1951b_row3_col11, #T_1951b_row4_col5, #T_1951b_row4_col6, #T_1951b_row4_col7, #T_1951b_row4_col8, #T_1951b_row4_col9, #T_1951b_row4_col10, #T_1951b_row4_col11, #T_1951b_row5_col5, #T_1951b_row5_col6, #T_1951b_row5_col7, #T_1951b_row5_col8, #T_1951b_row5_col9, #T_1951b_row5_col10, #T_1951b_row5_col11, #T_1951b_row8_col5, #T_1951b_row8_col6, #T_1951b_row8_col7, #T_1951b_row8_col8, #T_1951b_row8_col9, #T_1951b_row8_col10, #T_1951b_row8_col11 {\n",
       "  background-color: #000000;\n",
       "  color: #f1f1f1;\n",
       "}\n",
       "#T_1951b_row4_col1 {\n",
       "  background-color: #36abc3;\n",
       "  color: #f1f1f1;\n",
       "}\n",
       "#T_1951b_row4_col3, #T_1951b_row4_col4 {\n",
       "  background-color: #53bdc1;\n",
       "  color: #000000;\n",
       "}\n",
       "#T_1951b_row7_col2 {\n",
       "  background-color: #fafdcf;\n",
       "  color: #000000;\n",
       "}\n",
       "</style>\n",
       "<table id=\"T_1951b\">\n",
       "  <thead>\n",
       "    <tr>\n",
       "      <th class=\"blank level0\" >&nbsp;</th>\n",
       "      <th id=\"T_1951b_level0_col0\" class=\"col_heading level0 col0\" >dtypes</th>\n",
       "      <th id=\"T_1951b_level0_col1\" class=\"col_heading level0 col1\" >count</th>\n",
       "      <th id=\"T_1951b_level0_col2\" class=\"col_heading level0 col2\" >#unique</th>\n",
       "      <th id=\"T_1951b_level0_col3\" class=\"col_heading level0 col3\" >#missing</th>\n",
       "      <th id=\"T_1951b_level0_col4\" class=\"col_heading level0 col4\" >missing%</th>\n",
       "      <th id=\"T_1951b_level0_col5\" class=\"col_heading level0 col5\" >mean</th>\n",
       "      <th id=\"T_1951b_level0_col6\" class=\"col_heading level0 col6\" >std</th>\n",
       "      <th id=\"T_1951b_level0_col7\" class=\"col_heading level0 col7\" >min</th>\n",
       "      <th id=\"T_1951b_level0_col8\" class=\"col_heading level0 col8\" >25%</th>\n",
       "      <th id=\"T_1951b_level0_col9\" class=\"col_heading level0 col9\" >50%</th>\n",
       "      <th id=\"T_1951b_level0_col10\" class=\"col_heading level0 col10\" >75%</th>\n",
       "      <th id=\"T_1951b_level0_col11\" class=\"col_heading level0 col11\" >max</th>\n",
       "    </tr>\n",
       "  </thead>\n",
       "  <tbody>\n",
       "    <tr>\n",
       "      <th id=\"T_1951b_level0_row0\" class=\"row_heading level0 row0\" >Age</th>\n",
       "      <td id=\"T_1951b_row0_col0\" class=\"data row0 col0\" >int64</td>\n",
       "      <td id=\"T_1951b_row0_col1\" class=\"data row0 col1\" >1000</td>\n",
       "      <td id=\"T_1951b_row0_col2\" class=\"data row0 col2\" >53</td>\n",
       "      <td id=\"T_1951b_row0_col3\" class=\"data row0 col3\" >0</td>\n",
       "      <td id=\"T_1951b_row0_col4\" class=\"data row0 col4\" >0.000000</td>\n",
       "      <td id=\"T_1951b_row0_col5\" class=\"data row0 col5\" >35.546000</td>\n",
       "      <td id=\"T_1951b_row0_col6\" class=\"data row0 col6\" >11.375469</td>\n",
       "      <td id=\"T_1951b_row0_col7\" class=\"data row0 col7\" >19.000000</td>\n",
       "      <td id=\"T_1951b_row0_col8\" class=\"data row0 col8\" >27.000000</td>\n",
       "      <td id=\"T_1951b_row0_col9\" class=\"data row0 col9\" >33.000000</td>\n",
       "      <td id=\"T_1951b_row0_col10\" class=\"data row0 col10\" >42.000000</td>\n",
       "      <td id=\"T_1951b_row0_col11\" class=\"data row0 col11\" >75.000000</td>\n",
       "    </tr>\n",
       "    <tr>\n",
       "      <th id=\"T_1951b_level0_row1\" class=\"row_heading level0 row1\" >Gender</th>\n",
       "      <td id=\"T_1951b_row1_col0\" class=\"data row1 col0\" >object</td>\n",
       "      <td id=\"T_1951b_row1_col1\" class=\"data row1 col1\" >1000</td>\n",
       "      <td id=\"T_1951b_row1_col2\" class=\"data row1 col2\" >2</td>\n",
       "      <td id=\"T_1951b_row1_col3\" class=\"data row1 col3\" >0</td>\n",
       "      <td id=\"T_1951b_row1_col4\" class=\"data row1 col4\" >0.000000</td>\n",
       "      <td id=\"T_1951b_row1_col5\" class=\"data row1 col5\" >nan</td>\n",
       "      <td id=\"T_1951b_row1_col6\" class=\"data row1 col6\" >nan</td>\n",
       "      <td id=\"T_1951b_row1_col7\" class=\"data row1 col7\" >nan</td>\n",
       "      <td id=\"T_1951b_row1_col8\" class=\"data row1 col8\" >nan</td>\n",
       "      <td id=\"T_1951b_row1_col9\" class=\"data row1 col9\" >nan</td>\n",
       "      <td id=\"T_1951b_row1_col10\" class=\"data row1 col10\" >nan</td>\n",
       "      <td id=\"T_1951b_row1_col11\" class=\"data row1 col11\" >nan</td>\n",
       "    </tr>\n",
       "    <tr>\n",
       "      <th id=\"T_1951b_level0_row2\" class=\"row_heading level0 row2\" >Job</th>\n",
       "      <td id=\"T_1951b_row2_col0\" class=\"data row2 col0\" >int64</td>\n",
       "      <td id=\"T_1951b_row2_col1\" class=\"data row2 col1\" >1000</td>\n",
       "      <td id=\"T_1951b_row2_col2\" class=\"data row2 col2\" >4</td>\n",
       "      <td id=\"T_1951b_row2_col3\" class=\"data row2 col3\" >0</td>\n",
       "      <td id=\"T_1951b_row2_col4\" class=\"data row2 col4\" >0.000000</td>\n",
       "      <td id=\"T_1951b_row2_col5\" class=\"data row2 col5\" >1.904000</td>\n",
       "      <td id=\"T_1951b_row2_col6\" class=\"data row2 col6\" >0.653614</td>\n",
       "      <td id=\"T_1951b_row2_col7\" class=\"data row2 col7\" >0.000000</td>\n",
       "      <td id=\"T_1951b_row2_col8\" class=\"data row2 col8\" >2.000000</td>\n",
       "      <td id=\"T_1951b_row2_col9\" class=\"data row2 col9\" >2.000000</td>\n",
       "      <td id=\"T_1951b_row2_col10\" class=\"data row2 col10\" >2.000000</td>\n",
       "      <td id=\"T_1951b_row2_col11\" class=\"data row2 col11\" >3.000000</td>\n",
       "    </tr>\n",
       "    <tr>\n",
       "      <th id=\"T_1951b_level0_row3\" class=\"row_heading level0 row3\" >Housing</th>\n",
       "      <td id=\"T_1951b_row3_col0\" class=\"data row3 col0\" >object</td>\n",
       "      <td id=\"T_1951b_row3_col1\" class=\"data row3 col1\" >1000</td>\n",
       "      <td id=\"T_1951b_row3_col2\" class=\"data row3 col2\" >3</td>\n",
       "      <td id=\"T_1951b_row3_col3\" class=\"data row3 col3\" >0</td>\n",
       "      <td id=\"T_1951b_row3_col4\" class=\"data row3 col4\" >0.000000</td>\n",
       "      <td id=\"T_1951b_row3_col5\" class=\"data row3 col5\" >nan</td>\n",
       "      <td id=\"T_1951b_row3_col6\" class=\"data row3 col6\" >nan</td>\n",
       "      <td id=\"T_1951b_row3_col7\" class=\"data row3 col7\" >nan</td>\n",
       "      <td id=\"T_1951b_row3_col8\" class=\"data row3 col8\" >nan</td>\n",
       "      <td id=\"T_1951b_row3_col9\" class=\"data row3 col9\" >nan</td>\n",
       "      <td id=\"T_1951b_row3_col10\" class=\"data row3 col10\" >nan</td>\n",
       "      <td id=\"T_1951b_row3_col11\" class=\"data row3 col11\" >nan</td>\n",
       "    </tr>\n",
       "    <tr>\n",
       "      <th id=\"T_1951b_level0_row4\" class=\"row_heading level0 row4\" >Saving accounts</th>\n",
       "      <td id=\"T_1951b_row4_col0\" class=\"data row4 col0\" >object</td>\n",
       "      <td id=\"T_1951b_row4_col1\" class=\"data row4 col1\" >817</td>\n",
       "      <td id=\"T_1951b_row4_col2\" class=\"data row4 col2\" >4</td>\n",
       "      <td id=\"T_1951b_row4_col3\" class=\"data row4 col3\" >183</td>\n",
       "      <td id=\"T_1951b_row4_col4\" class=\"data row4 col4\" >18.300000</td>\n",
       "      <td id=\"T_1951b_row4_col5\" class=\"data row4 col5\" >nan</td>\n",
       "      <td id=\"T_1951b_row4_col6\" class=\"data row4 col6\" >nan</td>\n",
       "      <td id=\"T_1951b_row4_col7\" class=\"data row4 col7\" >nan</td>\n",
       "      <td id=\"T_1951b_row4_col8\" class=\"data row4 col8\" >nan</td>\n",
       "      <td id=\"T_1951b_row4_col9\" class=\"data row4 col9\" >nan</td>\n",
       "      <td id=\"T_1951b_row4_col10\" class=\"data row4 col10\" >nan</td>\n",
       "      <td id=\"T_1951b_row4_col11\" class=\"data row4 col11\" >nan</td>\n",
       "    </tr>\n",
       "    <tr>\n",
       "      <th id=\"T_1951b_level0_row5\" class=\"row_heading level0 row5\" >Checking account</th>\n",
       "      <td id=\"T_1951b_row5_col0\" class=\"data row5 col0\" >object</td>\n",
       "      <td id=\"T_1951b_row5_col1\" class=\"data row5 col1\" >606</td>\n",
       "      <td id=\"T_1951b_row5_col2\" class=\"data row5 col2\" >3</td>\n",
       "      <td id=\"T_1951b_row5_col3\" class=\"data row5 col3\" >394</td>\n",
       "      <td id=\"T_1951b_row5_col4\" class=\"data row5 col4\" >39.400000</td>\n",
       "      <td id=\"T_1951b_row5_col5\" class=\"data row5 col5\" >nan</td>\n",
       "      <td id=\"T_1951b_row5_col6\" class=\"data row5 col6\" >nan</td>\n",
       "      <td id=\"T_1951b_row5_col7\" class=\"data row5 col7\" >nan</td>\n",
       "      <td id=\"T_1951b_row5_col8\" class=\"data row5 col8\" >nan</td>\n",
       "      <td id=\"T_1951b_row5_col9\" class=\"data row5 col9\" >nan</td>\n",
       "      <td id=\"T_1951b_row5_col10\" class=\"data row5 col10\" >nan</td>\n",
       "      <td id=\"T_1951b_row5_col11\" class=\"data row5 col11\" >nan</td>\n",
       "    </tr>\n",
       "    <tr>\n",
       "      <th id=\"T_1951b_level0_row6\" class=\"row_heading level0 row6\" >Credit_amount</th>\n",
       "      <td id=\"T_1951b_row6_col0\" class=\"data row6 col0\" >int64</td>\n",
       "      <td id=\"T_1951b_row6_col1\" class=\"data row6 col1\" >1000</td>\n",
       "      <td id=\"T_1951b_row6_col2\" class=\"data row6 col2\" >921</td>\n",
       "      <td id=\"T_1951b_row6_col3\" class=\"data row6 col3\" >0</td>\n",
       "      <td id=\"T_1951b_row6_col4\" class=\"data row6 col4\" >0.000000</td>\n",
       "      <td id=\"T_1951b_row6_col5\" class=\"data row6 col5\" >3271.258000</td>\n",
       "      <td id=\"T_1951b_row6_col6\" class=\"data row6 col6\" >2822.736876</td>\n",
       "      <td id=\"T_1951b_row6_col7\" class=\"data row6 col7\" >250.000000</td>\n",
       "      <td id=\"T_1951b_row6_col8\" class=\"data row6 col8\" >1365.500000</td>\n",
       "      <td id=\"T_1951b_row6_col9\" class=\"data row6 col9\" >2319.500000</td>\n",
       "      <td id=\"T_1951b_row6_col10\" class=\"data row6 col10\" >3972.250000</td>\n",
       "      <td id=\"T_1951b_row6_col11\" class=\"data row6 col11\" >18424.000000</td>\n",
       "    </tr>\n",
       "    <tr>\n",
       "      <th id=\"T_1951b_level0_row7\" class=\"row_heading level0 row7\" >Duration</th>\n",
       "      <td id=\"T_1951b_row7_col0\" class=\"data row7 col0\" >int64</td>\n",
       "      <td id=\"T_1951b_row7_col1\" class=\"data row7 col1\" >1000</td>\n",
       "      <td id=\"T_1951b_row7_col2\" class=\"data row7 col2\" >33</td>\n",
       "      <td id=\"T_1951b_row7_col3\" class=\"data row7 col3\" >0</td>\n",
       "      <td id=\"T_1951b_row7_col4\" class=\"data row7 col4\" >0.000000</td>\n",
       "      <td id=\"T_1951b_row7_col5\" class=\"data row7 col5\" >20.903000</td>\n",
       "      <td id=\"T_1951b_row7_col6\" class=\"data row7 col6\" >12.058814</td>\n",
       "      <td id=\"T_1951b_row7_col7\" class=\"data row7 col7\" >4.000000</td>\n",
       "      <td id=\"T_1951b_row7_col8\" class=\"data row7 col8\" >12.000000</td>\n",
       "      <td id=\"T_1951b_row7_col9\" class=\"data row7 col9\" >18.000000</td>\n",
       "      <td id=\"T_1951b_row7_col10\" class=\"data row7 col10\" >24.000000</td>\n",
       "      <td id=\"T_1951b_row7_col11\" class=\"data row7 col11\" >72.000000</td>\n",
       "    </tr>\n",
       "    <tr>\n",
       "      <th id=\"T_1951b_level0_row8\" class=\"row_heading level0 row8\" >Purpose</th>\n",
       "      <td id=\"T_1951b_row8_col0\" class=\"data row8 col0\" >object</td>\n",
       "      <td id=\"T_1951b_row8_col1\" class=\"data row8 col1\" >1000</td>\n",
       "      <td id=\"T_1951b_row8_col2\" class=\"data row8 col2\" >8</td>\n",
       "      <td id=\"T_1951b_row8_col3\" class=\"data row8 col3\" >0</td>\n",
       "      <td id=\"T_1951b_row8_col4\" class=\"data row8 col4\" >0.000000</td>\n",
       "      <td id=\"T_1951b_row8_col5\" class=\"data row8 col5\" >nan</td>\n",
       "      <td id=\"T_1951b_row8_col6\" class=\"data row8 col6\" >nan</td>\n",
       "      <td id=\"T_1951b_row8_col7\" class=\"data row8 col7\" >nan</td>\n",
       "      <td id=\"T_1951b_row8_col8\" class=\"data row8 col8\" >nan</td>\n",
       "      <td id=\"T_1951b_row8_col9\" class=\"data row8 col9\" >nan</td>\n",
       "      <td id=\"T_1951b_row8_col10\" class=\"data row8 col10\" >nan</td>\n",
       "      <td id=\"T_1951b_row8_col11\" class=\"data row8 col11\" >nan</td>\n",
       "    </tr>\n",
       "  </tbody>\n",
       "</table>\n"
      ],
      "text/plain": [
       "<pandas.io.formats.style.Styler at 0x7ca783fa3fd0>"
      ]
     },
     "execution_count": 6,
     "metadata": {},
     "output_type": "execute_result"
    }
   ],
   "source": [
    "summary(data).style.background_gradient(cmap='YlGnBu')"
   ]
  },
  {
   "cell_type": "markdown",
   "id": "081773ec",
   "metadata": {
    "papermill": {
     "duration": 0.005293,
     "end_time": "2024-01-07T07:04:31.072559",
     "exception": false,
     "start_time": "2024-01-07T07:04:31.067266",
     "status": "completed"
    },
    "tags": []
   },
   "source": [
    "#### Insights:\n",
    "* Saving accounts & Checking account having null values."
   ]
  },
  {
   "cell_type": "markdown",
   "id": "1917c500",
   "metadata": {
    "papermill": {
     "duration": 0.004903,
     "end_time": "2024-01-07T07:04:31.082742",
     "exception": false,
     "start_time": "2024-01-07T07:04:31.077839",
     "status": "completed"
    },
    "tags": []
   },
   "source": [
    "# Handling NULL Values"
   ]
  },
  {
   "cell_type": "code",
   "execution_count": 7,
   "id": "32a37b5d",
   "metadata": {
    "execution": {
     "iopub.execute_input": "2024-01-07T07:04:31.095219Z",
     "iopub.status.busy": "2024-01-07T07:04:31.094601Z",
     "iopub.status.idle": "2024-01-07T07:04:31.102792Z",
     "shell.execute_reply": "2024-01-07T07:04:31.101262Z"
    },
    "papermill": {
     "duration": 0.017175,
     "end_time": "2024-01-07T07:04:31.105034",
     "exception": false,
     "start_time": "2024-01-07T07:04:31.087859",
     "status": "completed"
    },
    "tags": []
   },
   "outputs": [],
   "source": [
    "data.dropna(inplace=True)"
   ]
  },
  {
   "cell_type": "code",
   "execution_count": 8,
   "id": "0c2132c9",
   "metadata": {
    "execution": {
     "iopub.execute_input": "2024-01-07T07:04:31.118232Z",
     "iopub.status.busy": "2024-01-07T07:04:31.117813Z",
     "iopub.status.idle": "2024-01-07T07:04:31.127894Z",
     "shell.execute_reply": "2024-01-07T07:04:31.125789Z"
    },
    "papermill": {
     "duration": 0.019708,
     "end_time": "2024-01-07T07:04:31.130806",
     "exception": false,
     "start_time": "2024-01-07T07:04:31.111098",
     "status": "completed"
    },
    "tags": []
   },
   "outputs": [
    {
     "data": {
      "text/plain": [
       "Age                 0\n",
       "Gender              0\n",
       "Job                 0\n",
       "Housing             0\n",
       "Saving accounts     0\n",
       "Checking account    0\n",
       "Credit_amount       0\n",
       "Duration            0\n",
       "Purpose             0\n",
       "dtype: int64"
      ]
     },
     "execution_count": 8,
     "metadata": {},
     "output_type": "execute_result"
    }
   ],
   "source": [
    "data.isna().sum()"
   ]
  },
  {
   "cell_type": "markdown",
   "id": "8ceade4d",
   "metadata": {
    "papermill": {
     "duration": 0.005075,
     "end_time": "2024-01-07T07:04:31.141878",
     "exception": false,
     "start_time": "2024-01-07T07:04:31.136803",
     "status": "completed"
    },
    "tags": []
   },
   "source": [
    "# Feature Encoding"
   ]
  },
  {
   "cell_type": "code",
   "execution_count": 9,
   "id": "94e3ba03",
   "metadata": {
    "execution": {
     "iopub.execute_input": "2024-01-07T07:04:31.154810Z",
     "iopub.status.busy": "2024-01-07T07:04:31.154306Z",
     "iopub.status.idle": "2024-01-07T07:04:31.307626Z",
     "shell.execute_reply": "2024-01-07T07:04:31.306690Z"
    },
    "papermill": {
     "duration": 0.162784,
     "end_time": "2024-01-07T07:04:31.310254",
     "exception": false,
     "start_time": "2024-01-07T07:04:31.147470",
     "status": "completed"
    },
    "tags": []
   },
   "outputs": [],
   "source": [
    "#Label Encoder\n",
    "from sklearn.preprocessing import LabelEncoder\n",
    "def feature_encoding(df,colms):\n",
    "    le=LabelEncoder()\n",
    "    for col in colms:\n",
    "        df[col]=le.fit_transform(df[col])\n",
    "    return df"
   ]
  },
  {
   "cell_type": "code",
   "execution_count": 10,
   "id": "b29d8e85",
   "metadata": {
    "execution": {
     "iopub.execute_input": "2024-01-07T07:04:31.323723Z",
     "iopub.status.busy": "2024-01-07T07:04:31.323214Z",
     "iopub.status.idle": "2024-01-07T07:04:31.341645Z",
     "shell.execute_reply": "2024-01-07T07:04:31.340711Z"
    },
    "papermill": {
     "duration": 0.027675,
     "end_time": "2024-01-07T07:04:31.343741",
     "exception": false,
     "start_time": "2024-01-07T07:04:31.316066",
     "status": "completed"
    },
    "tags": []
   },
   "outputs": [
    {
     "data": {
      "text/html": [
       "<div>\n",
       "<style scoped>\n",
       "    .dataframe tbody tr th:only-of-type {\n",
       "        vertical-align: middle;\n",
       "    }\n",
       "\n",
       "    .dataframe tbody tr th {\n",
       "        vertical-align: top;\n",
       "    }\n",
       "\n",
       "    .dataframe thead th {\n",
       "        text-align: right;\n",
       "    }\n",
       "</style>\n",
       "<table border=\"1\" class=\"dataframe\">\n",
       "  <thead>\n",
       "    <tr style=\"text-align: right;\">\n",
       "      <th></th>\n",
       "      <th>Age</th>\n",
       "      <th>Gender</th>\n",
       "      <th>Job</th>\n",
       "      <th>Housing</th>\n",
       "      <th>Saving accounts</th>\n",
       "      <th>Checking account</th>\n",
       "      <th>Credit_amount</th>\n",
       "      <th>Duration</th>\n",
       "      <th>Purpose</th>\n",
       "    </tr>\n",
       "  </thead>\n",
       "  <tbody>\n",
       "    <tr>\n",
       "      <th>1</th>\n",
       "      <td>22</td>\n",
       "      <td>0</td>\n",
       "      <td>2</td>\n",
       "      <td>1</td>\n",
       "      <td>0</td>\n",
       "      <td>1</td>\n",
       "      <td>5951</td>\n",
       "      <td>48</td>\n",
       "      <td>5</td>\n",
       "    </tr>\n",
       "    <tr>\n",
       "      <th>3</th>\n",
       "      <td>45</td>\n",
       "      <td>1</td>\n",
       "      <td>2</td>\n",
       "      <td>0</td>\n",
       "      <td>0</td>\n",
       "      <td>0</td>\n",
       "      <td>7882</td>\n",
       "      <td>42</td>\n",
       "      <td>4</td>\n",
       "    </tr>\n",
       "    <tr>\n",
       "      <th>4</th>\n",
       "      <td>53</td>\n",
       "      <td>1</td>\n",
       "      <td>2</td>\n",
       "      <td>0</td>\n",
       "      <td>0</td>\n",
       "      <td>0</td>\n",
       "      <td>4870</td>\n",
       "      <td>24</td>\n",
       "      <td>1</td>\n",
       "    </tr>\n",
       "    <tr>\n",
       "      <th>7</th>\n",
       "      <td>35</td>\n",
       "      <td>1</td>\n",
       "      <td>3</td>\n",
       "      <td>2</td>\n",
       "      <td>0</td>\n",
       "      <td>1</td>\n",
       "      <td>6948</td>\n",
       "      <td>36</td>\n",
       "      <td>1</td>\n",
       "    </tr>\n",
       "    <tr>\n",
       "      <th>9</th>\n",
       "      <td>28</td>\n",
       "      <td>1</td>\n",
       "      <td>3</td>\n",
       "      <td>1</td>\n",
       "      <td>0</td>\n",
       "      <td>1</td>\n",
       "      <td>5234</td>\n",
       "      <td>30</td>\n",
       "      <td>1</td>\n",
       "    </tr>\n",
       "    <tr>\n",
       "      <th>...</th>\n",
       "      <td>...</td>\n",
       "      <td>...</td>\n",
       "      <td>...</td>\n",
       "      <td>...</td>\n",
       "      <td>...</td>\n",
       "      <td>...</td>\n",
       "      <td>...</td>\n",
       "      <td>...</td>\n",
       "      <td>...</td>\n",
       "    </tr>\n",
       "    <tr>\n",
       "      <th>989</th>\n",
       "      <td>48</td>\n",
       "      <td>1</td>\n",
       "      <td>1</td>\n",
       "      <td>1</td>\n",
       "      <td>0</td>\n",
       "      <td>1</td>\n",
       "      <td>1743</td>\n",
       "      <td>24</td>\n",
       "      <td>5</td>\n",
       "    </tr>\n",
       "    <tr>\n",
       "      <th>993</th>\n",
       "      <td>30</td>\n",
       "      <td>1</td>\n",
       "      <td>3</td>\n",
       "      <td>1</td>\n",
       "      <td>0</td>\n",
       "      <td>0</td>\n",
       "      <td>3959</td>\n",
       "      <td>36</td>\n",
       "      <td>4</td>\n",
       "    </tr>\n",
       "    <tr>\n",
       "      <th>996</th>\n",
       "      <td>40</td>\n",
       "      <td>1</td>\n",
       "      <td>3</td>\n",
       "      <td>1</td>\n",
       "      <td>0</td>\n",
       "      <td>0</td>\n",
       "      <td>3857</td>\n",
       "      <td>30</td>\n",
       "      <td>1</td>\n",
       "    </tr>\n",
       "    <tr>\n",
       "      <th>998</th>\n",
       "      <td>23</td>\n",
       "      <td>1</td>\n",
       "      <td>2</td>\n",
       "      <td>0</td>\n",
       "      <td>0</td>\n",
       "      <td>0</td>\n",
       "      <td>1845</td>\n",
       "      <td>45</td>\n",
       "      <td>5</td>\n",
       "    </tr>\n",
       "    <tr>\n",
       "      <th>999</th>\n",
       "      <td>27</td>\n",
       "      <td>1</td>\n",
       "      <td>2</td>\n",
       "      <td>1</td>\n",
       "      <td>1</td>\n",
       "      <td>1</td>\n",
       "      <td>4576</td>\n",
       "      <td>45</td>\n",
       "      <td>1</td>\n",
       "    </tr>\n",
       "  </tbody>\n",
       "</table>\n",
       "<p>522 rows × 9 columns</p>\n",
       "</div>"
      ],
      "text/plain": [
       "     Age  Gender  Job  Housing  Saving accounts  Checking account  \\\n",
       "1     22       0    2        1                0                 1   \n",
       "3     45       1    2        0                0                 0   \n",
       "4     53       1    2        0                0                 0   \n",
       "7     35       1    3        2                0                 1   \n",
       "9     28       1    3        1                0                 1   \n",
       "..   ...     ...  ...      ...              ...               ...   \n",
       "989   48       1    1        1                0                 1   \n",
       "993   30       1    3        1                0                 0   \n",
       "996   40       1    3        1                0                 0   \n",
       "998   23       1    2        0                0                 0   \n",
       "999   27       1    2        1                1                 1   \n",
       "\n",
       "     Credit_amount  Duration  Purpose  \n",
       "1             5951        48        5  \n",
       "3             7882        42        4  \n",
       "4             4870        24        1  \n",
       "7             6948        36        1  \n",
       "9             5234        30        1  \n",
       "..             ...       ...      ...  \n",
       "989           1743        24        5  \n",
       "993           3959        36        4  \n",
       "996           3857        30        1  \n",
       "998           1845        45        5  \n",
       "999           4576        45        1  \n",
       "\n",
       "[522 rows x 9 columns]"
      ]
     },
     "execution_count": 10,
     "metadata": {},
     "output_type": "execute_result"
    }
   ],
   "source": [
    "cols=['Gender','Housing','Saving accounts','Checking account','Purpose']\n",
    "feature_encoding(data,cols)\n",
    "data"
   ]
  },
  {
   "cell_type": "markdown",
   "id": "f4515fc5",
   "metadata": {
    "papermill": {
     "duration": 0.005941,
     "end_time": "2024-01-07T07:04:31.356122",
     "exception": false,
     "start_time": "2024-01-07T07:04:31.350181",
     "status": "completed"
    },
    "tags": []
   },
   "source": [
    "# Visualization"
   ]
  },
  {
   "cell_type": "markdown",
   "id": "ef5d6030",
   "metadata": {
    "papermill": {
     "duration": 0.006294,
     "end_time": "2024-01-07T07:04:31.368907",
     "exception": false,
     "start_time": "2024-01-07T07:04:31.362613",
     "status": "completed"
    },
    "tags": []
   },
   "source": [
    "### Density Plot\n",
    "* Use figure and axes method\n",
    "* Create a figure and store it in variable fig. Set figure size as (8,6).\n",
    "* Create an axes ax using add_subplot\n",
    "* Plot desnity plot (kde plot) on column 'Duration'\n",
    "* Add line to represent mean value of duration. Set colour to 'Green'.Set label to 'Mean'\n",
    "* Add line to represent median value of duration. Set colour to 'Brown'.Set label to 'Median'\n",
    "* Add line to represent Standard deviation value of duration. Set colour to 'Red'.Set label to 'Std'\n",
    "* Add line to represent Iqr value of duration. Set colour to 'Yellow'.Set label to 'Iqr'\n",
    "* set title as 'Plot Mean/Median/Std/lqr'\n",
    "* plot legend\n",
    "* Store the plot in variable plot1"
   ]
  },
  {
   "cell_type": "code",
   "execution_count": 11,
   "id": "ff8f0b28",
   "metadata": {
    "execution": {
     "iopub.execute_input": "2024-01-07T07:04:31.383164Z",
     "iopub.status.busy": "2024-01-07T07:04:31.382678Z",
     "iopub.status.idle": "2024-01-07T07:04:31.824419Z",
     "shell.execute_reply": "2024-01-07T07:04:31.823081Z"
    },
    "papermill": {
     "duration": 0.451998,
     "end_time": "2024-01-07T07:04:31.826883",
     "exception": false,
     "start_time": "2024-01-07T07:04:31.374885",
     "status": "completed"
    },
    "tags": []
   },
   "outputs": [
    {
     "data": {
      "image/png": "[encoded data removed]",
      "text/plain": [
       "<Figure size 800x600 with 1 Axes>"
      ]
     },
     "metadata": {},
     "output_type": "display_data"
    }
   ],
   "source": [
    "import statistics as st\n",
    "import scipy\n",
    "fig = plt.figure(figsize=(8,6))\n",
    "ax= fig.add_subplot()\n",
    "sns.kdeplot(data=data,x='Duration')\n",
    "\n",
    "# Calucate Statistics\n",
    "mean_val=data['Duration'].mean()\n",
    "median_val=data['Duration'].median()\n",
    "std_val=data['Duration'].std()\n",
    "q75,q25=np.percentile(data['Duration'],[75,25])\n",
    "iqr=q75-q25\n",
    "\n",
    "#Add lines for mean,median,std and iqr\n",
    "plt.axvline(mean_val,color='green',label='Mean')\n",
    "plt.axvline(median_val,color='brown',label='Median')\n",
    "plt.axvline(std_val,color='red',label='std')\n",
    "plt.axvline(iqr,color='yellow',label='iqr')\n",
    "\n",
    "#Add title\n",
    "plt.title('Plot Mean/Median/Std/lqr')\n",
    "\n",
    "# add Legend\n",
    "plt.legend()\n",
    "\n",
    "plot1=plt"
   ]
  },
  {
   "cell_type": "markdown",
   "id": "dfd8bc61",
   "metadata": {
    "papermill": {
     "duration": 0.00673,
     "end_time": "2024-01-07T07:04:31.841197",
     "exception": false,
     "start_time": "2024-01-07T07:04:31.834467",
     "status": "completed"
    },
    "tags": []
   },
   "source": [
    "### Heat map\n",
    "* Use figure and axes method\n",
    "* Create a figure and store it in variable fig. Set figure size to (10,8)\n",
    "* Create an axes ax using add_subplot\n",
    "* Find the correlation for all the columns using 'kendall' method.\n",
    "* Plot the heatmap\n",
    "* Set title as 'Heat map/kendal correlation'\n",
    "* Store the plot in  variable plot2"
   ]
  },
  {
   "cell_type": "code",
   "execution_count": 12,
   "id": "4f2f95ee",
   "metadata": {
    "execution": {
     "iopub.execute_input": "2024-01-07T07:04:31.857141Z",
     "iopub.status.busy": "2024-01-07T07:04:31.856718Z",
     "iopub.status.idle": "2024-01-07T07:04:32.399853Z",
     "shell.execute_reply": "2024-01-07T07:04:32.398720Z"
    },
    "papermill": {
     "duration": 0.554173,
     "end_time": "2024-01-07T07:04:32.402270",
     "exception": false,
     "start_time": "2024-01-07T07:04:31.848097",
     "status": "completed"
    },
    "tags": []
   },
   "outputs": [
    {
     "data": {
      "image/png": "[encoded data removed]",
      "text/plain": [
       "<Figure size 1000x800 with 2 Axes>"
      ]
     },
     "metadata": {},
     "output_type": "display_data"
    }
   ],
   "source": [
    "fig=plt.figure(figsize=(10,8))\n",
    "ax=fig.add_subplot()\n",
    "corr=data.corr(method='kendall')\n",
    "sns.heatmap(data=corr,annot=True,fmt='0.2f')\n",
    "plt.title('Heat map/kendal correlation')\n",
    "plot2=plt"
   ]
  }
 ],
 "metadata": {
  "kaggle": {
   "accelerator": "none",
   "dataSources": [
    {
     "datasetId": 4181282,
     "sourceId": 7223499,
     "sourceType": "datasetVersion"
    }
   ],
   "dockerImageVersionId": 30626,
   "isGpuEnabled": false,
   "isInternetEnabled": true,
   "language": "python",
   "sourceType": "notebook"
  },
  "kernelspec": {
   "display_name": "Python 3",
   "language": "python",
   "name": "python3"
  },
  "language_info": {
   "codemirror_mode": {
    "name": "ipython",
    "version": 3
   },
   "file_extension": ".py",
   "mimetype": "text/x-python",
   "name": "python",
   "nbconvert_exporter": "python",
   "pygments_lexer": "ipython3",
   "version": "3.10.12"
  },
  "papermill": {
   "default_parameters": {},
   "duration": 7.214047,
   "end_time": "2024-01-07T07:04:33.234809",
   "environment_variables": {},
   "exception": null,
   "input_path": "__notebook__.ipynb",
   "output_path": "__notebook__.ipynb",
   "parameters": {},
   "start_time": "2024-01-07T07:04:26.020762",
   "version": "2.4.0"
  }
 },
 "nbformat": 4,
 "nbformat_minor": 5
}
