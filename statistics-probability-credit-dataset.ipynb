{
 "cells": [
  {
   "cell_type": "markdown",
   "id": "9c434db8",
   "metadata": {
    "_cell_guid": "b1076dfc-b9ad-4769-8c92-a6c4dae69d19",
    "_uuid": "8f2839f25d086af736a60e9eeb907d3b93b6e0e5",
    "execution": {
     "iopub.execute_input": "2023-12-17T17:25:52.644132Z",
     "iopub.status.busy": "2023-12-17T17:25:52.643704Z",
     "iopub.status.idle": "2023-12-17T17:25:53.093290Z",
     "shell.execute_reply": "2023-12-17T17:25:53.092058Z",
     "shell.execute_reply.started": "2023-12-17T17:25:52.644096Z"
    },
    "papermill": {
     "duration": 0.003284,
     "end_time": "2023-12-30T12:23:27.888430",
     "exception": false,
     "start_time": "2023-12-30T12:23:27.885146",
     "status": "completed"
    },
    "tags": []
   },
   "source": [
    "# Introduction"
   ]
  },
  {
   "cell_type": "markdown",
   "id": "6f88d657",
   "metadata": {
    "papermill": {
     "duration": 0.002811,
     "end_time": "2023-12-30T12:23:27.894113",
     "exception": false,
     "start_time": "2023-12-30T12:23:27.891302",
     "status": "completed"
    },
    "tags": []
   },
   "source": [
    " <div style = \"color: White; display: fill;\n",
    "              border-radius: 5px;\n",
    "              background-color: #20BEFF;\n",
    "              font-size: 100%;\n",
    "              font-family: Verdana\">\n",
    "This dataset is about customer has taken credit and bought items which is purpose. Using this dataset will perform statistics and probabality analysis."
   ]
  },
  {
   "cell_type": "markdown",
   "id": "960ebdac",
   "metadata": {
    "papermill": {
     "duration": 0.002378,
     "end_time": "2023-12-30T12:23:27.898975",
     "exception": false,
     "start_time": "2023-12-30T12:23:27.896597",
     "status": "completed"
    },
    "tags": []
   },
   "source": [
    "# Importing Libraries"
   ]
  },
  {
   "cell_type": "code",
   "execution_count": 1,
   "id": "fd0b6f44",
   "metadata": {
    "execution": {
     "iopub.execute_input": "2023-12-30T12:23:27.905927Z",
     "iopub.status.busy": "2023-12-30T12:23:27.905543Z",
     "iopub.status.idle": "2023-12-30T12:23:29.471600Z",
     "shell.execute_reply": "2023-12-30T12:23:29.470332Z"
    },
    "papermill": {
     "duration": 1.573072,
     "end_time": "2023-12-30T12:23:29.474654",
     "exception": false,
     "start_time": "2023-12-30T12:23:27.901582",
     "status": "completed"
    },
    "tags": []
   },
   "outputs": [
    {
     "name": "stdout",
     "output_type": "stream",
     "text": [
      "/kaggle/input/credit-data/german_credit_data.csv\n"
     ]
    }
   ],
   "source": [
    "# This Python 3 environment comes with many helpful analytics libraries installed\n",
    "# It is defined by the kaggle/python Docker image: https://github.com/kaggle/docker-python\n",
    "# For example, here's several helpful packages to load\n",
    "\n",
    "import numpy as np # linear algebra\n",
    "import pandas as pd # data processing, CSV file I/O (e.g. pd.read_csv)\n",
    "import matplotlib.pyplot as plt # visualization like pie graph\n",
    "import seaborn as sns #visualization like scatterplot \n",
    "\n",
    "# Input data files are available in the read-only \"../input/\" directory\n",
    "# For example, running this (by clicking run or pressing Shift+Enter) will list all files under the input directory\n",
    "\n",
    "import os\n",
    "for dirname, _, filenames in os.walk('/kaggle/input'):\n",
    "    for filename in filenames:\n",
    "        print(os.path.join(dirname, filename))\n",
    "\n",
    "# You can write up to 20GB to the current directory (/kaggle/working/) that gets preserved as output when you create a version using \"Save & Run All\" \n",
    "# You can also write temporary files to /kaggle/temp/, but they won't be saved outside of the current sessio"
   ]
  },
  {
   "cell_type": "markdown",
   "id": "2d0be9ca",
   "metadata": {
    "papermill": {
     "duration": 0.002705,
     "end_time": "2023-12-30T12:23:29.480376",
     "exception": false,
     "start_time": "2023-12-30T12:23:29.477671",
     "status": "completed"
    },
    "tags": []
   },
   "source": [
    "# Loading Dataset"
   ]
  },
  {
   "cell_type": "code",
   "execution_count": 2,
   "id": "beb10dff",
   "metadata": {
    "execution": {
     "iopub.execute_input": "2023-12-30T12:23:29.488271Z",
     "iopub.status.busy": "2023-12-30T12:23:29.487160Z",
     "iopub.status.idle": "2023-12-30T12:23:29.511141Z",
     "shell.execute_reply": "2023-12-30T12:23:29.510108Z"
    },
    "papermill": {
     "duration": 0.030489,
     "end_time": "2023-12-30T12:23:29.513640",
     "exception": false,
     "start_time": "2023-12-30T12:23:29.483151",
     "status": "completed"
    },
    "tags": []
   },
   "outputs": [],
   "source": [
    "#Reading the Dataset\n",
    "credit=pd.read_csv('/kaggle/input/credit-data/german_credit_data.csv')\n",
    "#copying the dataset\n",
    "data=credit.copy()"
   ]
  },
  {
   "cell_type": "code",
   "execution_count": 3,
   "id": "acd2c982",
   "metadata": {
    "execution": {
     "iopub.execute_input": "2023-12-30T12:23:29.521579Z",
     "iopub.status.busy": "2023-12-30T12:23:29.521202Z",
     "iopub.status.idle": "2023-12-30T12:23:29.541414Z",
     "shell.execute_reply": "2023-12-30T12:23:29.540268Z"
    },
    "papermill": {
     "duration": 0.026766,
     "end_time": "2023-12-30T12:23:29.543903",
     "exception": false,
     "start_time": "2023-12-30T12:23:29.517137",
     "status": "completed"
    },
    "tags": []
   },
   "outputs": [],
   "source": [
    "# dropping the column - Unnmaned:0 as it doesn't have much use.\n",
    "data.drop('Unnamed: 0',axis=1,inplace=True)"
   ]
  },
  {
   "cell_type": "code",
   "execution_count": 4,
   "id": "feb24605",
   "metadata": {
    "execution": {
     "iopub.execute_input": "2023-12-30T12:23:29.551227Z",
     "iopub.status.busy": "2023-12-30T12:23:29.550697Z",
     "iopub.status.idle": "2023-12-30T12:23:29.569882Z",
     "shell.execute_reply": "2023-12-30T12:23:29.568747Z"
    },
    "papermill": {
     "duration": 0.025165,
     "end_time": "2023-12-30T12:23:29.572024",
     "exception": false,
     "start_time": "2023-12-30T12:23:29.546859",
     "status": "completed"
    },
    "tags": []
   },
   "outputs": [
    {
     "data": {
      "text/html": [
       "<div>\n",
       "<style scoped>\n",
       "    .dataframe tbody tr th:only-of-type {\n",
       "        vertical-align: middle;\n",
       "    }\n",
       "\n",
       "    .dataframe tbody tr th {\n",
       "        vertical-align: top;\n",
       "    }\n",
       "\n",
       "    .dataframe thead th {\n",
       "        text-align: right;\n",
       "    }\n",
       "</style>\n",
       "<table border=\"1\" class=\"dataframe\">\n",
       "  <thead>\n",
       "    <tr style=\"text-align: right;\">\n",
       "      <th></th>\n",
       "      <th>Age</th>\n",
       "      <th>Gender</th>\n",
       "      <th>Job</th>\n",
       "      <th>Housing</th>\n",
       "      <th>Saving accounts</th>\n",
       "      <th>Checking account</th>\n",
       "      <th>Credit_amount</th>\n",
       "      <th>Duration</th>\n",
       "      <th>Purpose</th>\n",
       "    </tr>\n",
       "  </thead>\n",
       "  <tbody>\n",
       "    <tr>\n",
       "      <th>0</th>\n",
       "      <td>67</td>\n",
       "      <td>male</td>\n",
       "      <td>2</td>\n",
       "      <td>own</td>\n",
       "      <td>NaN</td>\n",
       "      <td>little</td>\n",
       "      <td>1169</td>\n",
       "      <td>6</td>\n",
       "      <td>radio/TV</td>\n",
       "    </tr>\n",
       "    <tr>\n",
       "      <th>1</th>\n",
       "      <td>22</td>\n",
       "      <td>female</td>\n",
       "      <td>2</td>\n",
       "      <td>own</td>\n",
       "      <td>little</td>\n",
       "      <td>moderate</td>\n",
       "      <td>5951</td>\n",
       "      <td>48</td>\n",
       "      <td>radio/TV</td>\n",
       "    </tr>\n",
       "    <tr>\n",
       "      <th>2</th>\n",
       "      <td>49</td>\n",
       "      <td>male</td>\n",
       "      <td>1</td>\n",
       "      <td>own</td>\n",
       "      <td>little</td>\n",
       "      <td>NaN</td>\n",
       "      <td>2096</td>\n",
       "      <td>12</td>\n",
       "      <td>education</td>\n",
       "    </tr>\n",
       "  </tbody>\n",
       "</table>\n",
       "</div>"
      ],
      "text/plain": [
       "   Age  Gender  Job Housing Saving accounts Checking account  Credit_amount  \\\n",
       "0   67    male    2     own             NaN           little           1169   \n",
       "1   22  female    2     own          little         moderate           5951   \n",
       "2   49    male    1     own          little              NaN           2096   \n",
       "\n",
       "   Duration    Purpose  \n",
       "0         6   radio/TV  \n",
       "1        48   radio/TV  \n",
       "2        12  education  "
      ]
     },
     "execution_count": 4,
     "metadata": {},
     "output_type": "execute_result"
    }
   ],
   "source": [
    "# first three rows of data dataset\n",
    "data.head(3)"
   ]
  },
  {
   "cell_type": "markdown",
   "id": "68636a1c",
   "metadata": {
    "papermill": {
     "duration": 0.00274,
     "end_time": "2023-12-30T12:23:29.577914",
     "exception": false,
     "start_time": "2023-12-30T12:23:29.575174",
     "status": "completed"
    },
    "tags": []
   },
   "source": [
    "# Exploring the Dataset"
   ]
  }
 ],
 "metadata": {
  "kaggle": {
   "accelerator": "none",
   "dataSources": [
    {
     "datasetId": 4181282,
     "sourceId": 7223499,
     "sourceType": "datasetVersion"
    }
   ],
   "dockerImageVersionId": 30626,
   "isGpuEnabled": false,
   "isInternetEnabled": true,
   "language": "python",
   "sourceType": "notebook"
  },
  "kernelspec": {
   "display_name": "Python 3",
   "language": "python",
   "name": "python3"
  },
  "language_info": {
   "codemirror_mode": {
    "name": "ipython",
    "version": 3
   },
   "file_extension": ".py",
   "mimetype": "text/x-python",
   "name": "python",
   "nbconvert_exporter": "python",
   "pygments_lexer": "ipython3",
   "version": "3.10.12"
  },
  "papermill": {
   "default_parameters": {},
   "duration": 5.242956,
   "end_time": "2023-12-30T12:23:30.102273",
   "environment_variables": {},
   "exception": null,
   "input_path": "__notebook__.ipynb",
   "output_path": "__notebook__.ipynb",
   "parameters": {},
   "start_time": "2023-12-30T12:23:24.859317",
   "version": "2.4.0"
  }
 },
 "nbformat": 4,
 "nbformat_minor": 5
}
