{
 "cells": [
  {
   "cell_type": "markdown",
   "id": "a2b7291c",
   "metadata": {
    "_cell_guid": "b1076dfc-b9ad-4769-8c92-a6c4dae69d19",
    "_uuid": "8f2839f25d086af736a60e9eeb907d3b93b6e0e5",
    "execution": {
     "iopub.execute_input": "2023-12-17T17:25:52.644132Z",
     "iopub.status.busy": "2023-12-17T17:25:52.643704Z",
     "iopub.status.idle": "2023-12-17T17:25:53.093290Z",
     "shell.execute_reply": "2023-12-17T17:25:53.092058Z",
     "shell.execute_reply.started": "2023-12-17T17:25:52.644096Z"
    },
    "papermill": {
     "duration": 0.006421,
     "end_time": "2024-01-02T05:13:28.908457",
     "exception": false,
     "start_time": "2024-01-02T05:13:28.902036",
     "status": "completed"
    },
    "tags": []
   },
   "source": [
    "# Introduction"
   ]
  },
  {
   "cell_type": "markdown",
   "id": "b5ba0545",
   "metadata": {
    "papermill": {
     "duration": 0.005269,
     "end_time": "2024-01-02T05:13:28.919655",
     "exception": false,
     "start_time": "2024-01-02T05:13:28.914386",
     "status": "completed"
    },
    "tags": []
   },
   "source": [
    " <div style = \"color: White; display: fill;\n",
    "              border-radius: 5px;\n",
    "              background-color: #20BEFF;\n",
    "              font-size: 100%;\n",
    "              font-family: Verdana\">\n",
    "This dataset is about customer has taken credit and bought items which is purpose. Using this dataset will perform statistics and probabality analysis."
   ]
  },
  {
   "cell_type": "markdown",
   "id": "91a5f907",
   "metadata": {
    "papermill": {
     "duration": 0.005421,
     "end_time": "2024-01-02T05:13:28.930551",
     "exception": false,
     "start_time": "2024-01-02T05:13:28.925130",
     "status": "completed"
    },
    "tags": []
   },
   "source": [
    "# Importing Libraries"
   ]
  },
  {
   "cell_type": "code",
   "execution_count": 1,
   "id": "dcfb2c82",
   "metadata": {
    "execution": {
     "iopub.execute_input": "2024-01-02T05:13:28.943974Z",
     "iopub.status.busy": "2024-01-02T05:13:28.942873Z",
     "iopub.status.idle": "2024-01-02T05:13:30.772463Z",
     "shell.execute_reply": "2024-01-02T05:13:30.770940Z"
    },
    "papermill": {
     "duration": 1.839098,
     "end_time": "2024-01-02T05:13:30.775146",
     "exception": false,
     "start_time": "2024-01-02T05:13:28.936048",
     "status": "completed"
    },
    "tags": []
   },
   "outputs": [
    {
     "name": "stdout",
     "output_type": "stream",
     "text": [
      "/kaggle/input/credit-data/german_credit_data.csv\n"
     ]
    }
   ],
   "source": [
    "# This Python 3 environment comes with many helpful analytics libraries installed\n",
    "# It is defined by the kaggle/python Docker image: https://github.com/kaggle/docker-python\n",
    "# For example, here's several helpful packages to load\n",
    "\n",
    "import numpy as np # linear algebra\n",
    "import pandas as pd # data processing, CSV file I/O (e.g. pd.read_csv)\n",
    "import matplotlib.pyplot as plt # visualization like pie graph\n",
    "import seaborn as sns #visualization like scatterplot \n",
    "\n",
    "# Input data files are available in the read-only \"../input/\" directory\n",
    "# For example, running this (by clicking run or pressing Shift+Enter) will list all files under the input directory\n",
    "\n",
    "import os\n",
    "for dirname, _, filenames in os.walk('/kaggle/input'):\n",
    "    for filename in filenames:\n",
    "        print(os.path.join(dirname, filename))\n",
    "\n",
    "# You can write up to 20GB to the current directory (/kaggle/working/) that gets preserved as output when you create a version using \"Save & Run All\" \n",
    "# You can also write temporary files to /kaggle/temp/, but they won't be saved outside of the current sessio"
   ]
  },
  {
   "cell_type": "markdown",
   "id": "951d23cc",
   "metadata": {
    "papermill": {
     "duration": 0.005598,
     "end_time": "2024-01-02T05:13:30.786544",
     "exception": false,
     "start_time": "2024-01-02T05:13:30.780946",
     "status": "completed"
    },
    "tags": []
   },
   "source": [
    "# Loading Dataset"
   ]
  },
  {
   "cell_type": "code",
   "execution_count": 2,
   "id": "d1bbb81d",
   "metadata": {
    "execution": {
     "iopub.execute_input": "2024-01-02T05:13:30.800371Z",
     "iopub.status.busy": "2024-01-02T05:13:30.799296Z",
     "iopub.status.idle": "2024-01-02T05:13:30.822386Z",
     "shell.execute_reply": "2024-01-02T05:13:30.821055Z"
    },
    "papermill": {
     "duration": 0.032973,
     "end_time": "2024-01-02T05:13:30.825248",
     "exception": false,
     "start_time": "2024-01-02T05:13:30.792275",
     "status": "completed"
    },
    "tags": []
   },
   "outputs": [],
   "source": [
    "#Reading the Dataset\n",
    "credit=pd.read_csv('/kaggle/input/credit-data/german_credit_data.csv')\n",
    "#copying the dataset\n",
    "data=credit.copy()"
   ]
  },
  {
   "cell_type": "code",
   "execution_count": 3,
   "id": "5dbcf61a",
   "metadata": {
    "execution": {
     "iopub.execute_input": "2024-01-02T05:13:30.838473Z",
     "iopub.status.busy": "2024-01-02T05:13:30.838051Z",
     "iopub.status.idle": "2024-01-02T05:13:30.856690Z",
     "shell.execute_reply": "2024-01-02T05:13:30.855633Z"
    },
    "papermill": {
     "duration": 0.028428,
     "end_time": "2024-01-02T05:13:30.859460",
     "exception": false,
     "start_time": "2024-01-02T05:13:30.831032",
     "status": "completed"
    },
    "tags": []
   },
   "outputs": [],
   "source": [
    "# dropping the column - Unnmaned:0 as it doesn't have much use.\n",
    "data.drop('Unnamed: 0',axis=1,inplace=True)"
   ]
  },
  {
   "cell_type": "code",
   "execution_count": 4,
   "id": "ace99960",
   "metadata": {
    "execution": {
     "iopub.execute_input": "2024-01-02T05:13:30.873772Z",
     "iopub.status.busy": "2024-01-02T05:13:30.872886Z",
     "iopub.status.idle": "2024-01-02T05:13:30.893747Z",
     "shell.execute_reply": "2024-01-02T05:13:30.892650Z"
    },
    "papermill": {
     "duration": 0.030848,
     "end_time": "2024-01-02T05:13:30.896222",
     "exception": false,
     "start_time": "2024-01-02T05:13:30.865374",
     "status": "completed"
    },
    "tags": []
   },
   "outputs": [
    {
     "data": {
      "text/html": [
       "<div>\n",
       "<style scoped>\n",
       "    .dataframe tbody tr th:only-of-type {\n",
       "        vertical-align: middle;\n",
       "    }\n",
       "\n",
       "    .dataframe tbody tr th {\n",
       "        vertical-align: top;\n",
       "    }\n",
       "\n",
       "    .dataframe thead th {\n",
       "        text-align: right;\n",
       "    }\n",
       "</style>\n",
       "<table border=\"1\" class=\"dataframe\">\n",
       "  <thead>\n",
       "    <tr style=\"text-align: right;\">\n",
       "      <th></th>\n",
       "      <th>Age</th>\n",
       "      <th>Gender</th>\n",
       "      <th>Job</th>\n",
       "      <th>Housing</th>\n",
       "      <th>Saving accounts</th>\n",
       "      <th>Checking account</th>\n",
       "      <th>Credit_amount</th>\n",
       "      <th>Duration</th>\n",
       "      <th>Purpose</th>\n",
       "    </tr>\n",
       "  </thead>\n",
       "  <tbody>\n",
       "    <tr>\n",
       "      <th>0</th>\n",
       "      <td>67</td>\n",
       "      <td>male</td>\n",
       "      <td>2</td>\n",
       "      <td>own</td>\n",
       "      <td>NaN</td>\n",
       "      <td>little</td>\n",
       "      <td>1169</td>\n",
       "      <td>6</td>\n",
       "      <td>radio/TV</td>\n",
       "    </tr>\n",
       "    <tr>\n",
       "      <th>1</th>\n",
       "      <td>22</td>\n",
       "      <td>female</td>\n",
       "      <td>2</td>\n",
       "      <td>own</td>\n",
       "      <td>little</td>\n",
       "      <td>moderate</td>\n",
       "      <td>5951</td>\n",
       "      <td>48</td>\n",
       "      <td>radio/TV</td>\n",
       "    </tr>\n",
       "    <tr>\n",
       "      <th>2</th>\n",
       "      <td>49</td>\n",
       "      <td>male</td>\n",
       "      <td>1</td>\n",
       "      <td>own</td>\n",
       "      <td>little</td>\n",
       "      <td>NaN</td>\n",
       "      <td>2096</td>\n",
       "      <td>12</td>\n",
       "      <td>education</td>\n",
       "    </tr>\n",
       "  </tbody>\n",
       "</table>\n",
       "</div>"
      ],
      "text/plain": [
       "   Age  Gender  Job Housing Saving accounts Checking account  Credit_amount  \\\n",
       "0   67    male    2     own             NaN           little           1169   \n",
       "1   22  female    2     own          little         moderate           5951   \n",
       "2   49    male    1     own          little              NaN           2096   \n",
       "\n",
       "   Duration    Purpose  \n",
       "0         6   radio/TV  \n",
       "1        48   radio/TV  \n",
       "2        12  education  "
      ]
     },
     "execution_count": 4,
     "metadata": {},
     "output_type": "execute_result"
    }
   ],
   "source": [
    "# first three rows of data dataset\n",
    "data.head(3)"
   ]
  },
  {
   "cell_type": "markdown",
   "id": "d8b33536",
   "metadata": {
    "papermill": {
     "duration": 0.005666,
     "end_time": "2024-01-02T05:13:30.907869",
     "exception": false,
     "start_time": "2024-01-02T05:13:30.902203",
     "status": "completed"
    },
    "tags": []
   },
   "source": [
    "# Exploring the Dataset"
   ]
  },
  {
   "cell_type": "code",
   "execution_count": 5,
   "id": "5edb5ded",
   "metadata": {
    "execution": {
     "iopub.execute_input": "2024-01-02T05:13:30.922542Z",
     "iopub.status.busy": "2024-01-02T05:13:30.921559Z",
     "iopub.status.idle": "2024-01-02T05:13:30.928612Z",
     "shell.execute_reply": "2024-01-02T05:13:30.927787Z"
    },
    "papermill": {
     "duration": 0.016634,
     "end_time": "2024-01-02T05:13:30.930896",
     "exception": false,
     "start_time": "2024-01-02T05:13:30.914262",
     "status": "completed"
    },
    "tags": []
   },
   "outputs": [],
   "source": [
    "#Summary of Dataset\n",
    "def summary(df):\n",
    "    brief=pd.DataFrame(index=df.columns)\n",
    "    brief['dtypes']=df.dtypes\n",
    "    brief['count']=df.count()\n",
    "    brief['#unique']=df.nunique()\n",
    "    brief['#missing']=df.isna().sum()\n",
    "    brief['missing%']=df.isna().sum()/len(df)*100\n",
    "    brief=pd.concat([brief , df.describe().T.drop('count',axis=1)],axis=1)\n",
    "    return brief"
   ]
  },
  {
   "cell_type": "code",
   "execution_count": 6,
   "id": "90aa6453",
   "metadata": {
    "execution": {
     "iopub.execute_input": "2024-01-02T05:13:30.945062Z",
     "iopub.status.busy": "2024-01-02T05:13:30.944048Z",
     "iopub.status.idle": "2024-01-02T05:13:31.179279Z",
     "shell.execute_reply": "2024-01-02T05:13:31.178113Z"
    },
    "papermill": {
     "duration": 0.244978,
     "end_time": "2024-01-02T05:13:31.181828",
     "exception": false,
     "start_time": "2024-01-02T05:13:30.936850",
     "status": "completed"
    },
    "tags": []
   },
   "outputs": [
    {
     "data": {
      "text/html": [
       "<style type=\"text/css\">\n",
       "#T_fe220_row0_col1, #T_fe220_row1_col1, #T_fe220_row2_col1, #T_fe220_row3_col1, #T_fe220_row5_col3, #T_fe220_row5_col4, #T_fe220_row6_col1, #T_fe220_row6_col2, #T_fe220_row6_col5, #T_fe220_row6_col6, #T_fe220_row6_col7, #T_fe220_row6_col8, #T_fe220_row6_col9, #T_fe220_row6_col10, #T_fe220_row6_col11, #T_fe220_row7_col1, #T_fe220_row8_col1 {\n",
       "  background-color: #081d58;\n",
       "  color: #f1f1f1;\n",
       "}\n",
       "#T_fe220_row0_col2 {\n",
       "  background-color: #f7fcc7;\n",
       "  color: #000000;\n",
       "}\n",
       "#T_fe220_row0_col3, #T_fe220_row0_col4, #T_fe220_row0_col6, #T_fe220_row1_col2, #T_fe220_row1_col3, #T_fe220_row1_col4, #T_fe220_row2_col2, #T_fe220_row2_col3, #T_fe220_row2_col4, #T_fe220_row2_col5, #T_fe220_row2_col6, #T_fe220_row2_col7, #T_fe220_row2_col8, #T_fe220_row2_col9, #T_fe220_row2_col10, #T_fe220_row2_col11, #T_fe220_row3_col2, #T_fe220_row3_col3, #T_fe220_row3_col4, #T_fe220_row4_col2, #T_fe220_row5_col1, #T_fe220_row5_col2, #T_fe220_row6_col3, #T_fe220_row6_col4, #T_fe220_row7_col3, #T_fe220_row7_col4, #T_fe220_row7_col11, #T_fe220_row8_col3, #T_fe220_row8_col4 {\n",
       "  background-color: #ffffd9;\n",
       "  color: #000000;\n",
       "}\n",
       "#T_fe220_row0_col5, #T_fe220_row0_col10 {\n",
       "  background-color: #feffd6;\n",
       "  color: #000000;\n",
       "}\n",
       "#T_fe220_row0_col7 {\n",
       "  background-color: #f4fbc1;\n",
       "  color: #000000;\n",
       "}\n",
       "#T_fe220_row0_col8, #T_fe220_row7_col7 {\n",
       "  background-color: #fdfed4;\n",
       "  color: #000000;\n",
       "}\n",
       "#T_fe220_row0_col9 {\n",
       "  background-color: #fdfed5;\n",
       "  color: #000000;\n",
       "}\n",
       "#T_fe220_row0_col11, #T_fe220_row7_col5, #T_fe220_row7_col6, #T_fe220_row7_col8, #T_fe220_row7_col9, #T_fe220_row7_col10, #T_fe220_row8_col2 {\n",
       "  background-color: #feffd8;\n",
       "  color: #000000;\n",
       "}\n",
       "#T_fe220_row1_col5, #T_fe220_row1_col6, #T_fe220_row1_col7, #T_fe220_row1_col8, #T_fe220_row1_col9, #T_fe220_row1_col10, #T_fe220_row1_col11, #T_fe220_row3_col5, #T_fe220_row3_col6, #T_fe220_row3_col7, #T_fe220_row3_col8, #T_fe220_row3_col9, #T_fe220_row3_col10, #T_fe220_row3_col11, #T_fe220_row4_col5, #T_fe220_row4_col6, #T_fe220_row4_col7, #T_fe220_row4_col8, #T_fe220_row4_col9, #T_fe220_row4_col10, #T_fe220_row4_col11, #T_fe220_row5_col5, #T_fe220_row5_col6, #T_fe220_row5_col7, #T_fe220_row5_col8, #T_fe220_row5_col9, #T_fe220_row5_col10, #T_fe220_row5_col11, #T_fe220_row8_col5, #T_fe220_row8_col6, #T_fe220_row8_col7, #T_fe220_row8_col8, #T_fe220_row8_col9, #T_fe220_row8_col10, #T_fe220_row8_col11 {\n",
       "  background-color: #000000;\n",
       "  color: #f1f1f1;\n",
       "}\n",
       "#T_fe220_row4_col1 {\n",
       "  background-color: #36abc3;\n",
       "  color: #f1f1f1;\n",
       "}\n",
       "#T_fe220_row4_col3, #T_fe220_row4_col4 {\n",
       "  background-color: #53bdc1;\n",
       "  color: #000000;\n",
       "}\n",
       "#T_fe220_row7_col2 {\n",
       "  background-color: #fafdcf;\n",
       "  color: #000000;\n",
       "}\n",
       "</style>\n",
       "<table id=\"T_fe220\">\n",
       "  <thead>\n",
       "    <tr>\n",
       "      <th class=\"blank level0\" >&nbsp;</th>\n",
       "      <th id=\"T_fe220_level0_col0\" class=\"col_heading level0 col0\" >dtypes</th>\n",
       "      <th id=\"T_fe220_level0_col1\" class=\"col_heading level0 col1\" >count</th>\n",
       "      <th id=\"T_fe220_level0_col2\" class=\"col_heading level0 col2\" >#unique</th>\n",
       "      <th id=\"T_fe220_level0_col3\" class=\"col_heading level0 col3\" >#missing</th>\n",
       "      <th id=\"T_fe220_level0_col4\" class=\"col_heading level0 col4\" >missing%</th>\n",
       "      <th id=\"T_fe220_level0_col5\" class=\"col_heading level0 col5\" >mean</th>\n",
       "      <th id=\"T_fe220_level0_col6\" class=\"col_heading level0 col6\" >std</th>\n",
       "      <th id=\"T_fe220_level0_col7\" class=\"col_heading level0 col7\" >min</th>\n",
       "      <th id=\"T_fe220_level0_col8\" class=\"col_heading level0 col8\" >25%</th>\n",
       "      <th id=\"T_fe220_level0_col9\" class=\"col_heading level0 col9\" >50%</th>\n",
       "      <th id=\"T_fe220_level0_col10\" class=\"col_heading level0 col10\" >75%</th>\n",
       "      <th id=\"T_fe220_level0_col11\" class=\"col_heading level0 col11\" >max</th>\n",
       "    </tr>\n",
       "  </thead>\n",
       "  <tbody>\n",
       "    <tr>\n",
       "      <th id=\"T_fe220_level0_row0\" class=\"row_heading level0 row0\" >Age</th>\n",
       "      <td id=\"T_fe220_row0_col0\" class=\"data row0 col0\" >int64</td>\n",
       "      <td id=\"T_fe220_row0_col1\" class=\"data row0 col1\" >1000</td>\n",
       "      <td id=\"T_fe220_row0_col2\" class=\"data row0 col2\" >53</td>\n",
       "      <td id=\"T_fe220_row0_col3\" class=\"data row0 col3\" >0</td>\n",
       "      <td id=\"T_fe220_row0_col4\" class=\"data row0 col4\" >0.000000</td>\n",
       "      <td id=\"T_fe220_row0_col5\" class=\"data row0 col5\" >35.546000</td>\n",
       "      <td id=\"T_fe220_row0_col6\" class=\"data row0 col6\" >11.375469</td>\n",
       "      <td id=\"T_fe220_row0_col7\" class=\"data row0 col7\" >19.000000</td>\n",
       "      <td id=\"T_fe220_row0_col8\" class=\"data row0 col8\" >27.000000</td>\n",
       "      <td id=\"T_fe220_row0_col9\" class=\"data row0 col9\" >33.000000</td>\n",
       "      <td id=\"T_fe220_row0_col10\" class=\"data row0 col10\" >42.000000</td>\n",
       "      <td id=\"T_fe220_row0_col11\" class=\"data row0 col11\" >75.000000</td>\n",
       "    </tr>\n",
       "    <tr>\n",
       "      <th id=\"T_fe220_level0_row1\" class=\"row_heading level0 row1\" >Gender</th>\n",
       "      <td id=\"T_fe220_row1_col0\" class=\"data row1 col0\" >object</td>\n",
       "      <td id=\"T_fe220_row1_col1\" class=\"data row1 col1\" >1000</td>\n",
       "      <td id=\"T_fe220_row1_col2\" class=\"data row1 col2\" >2</td>\n",
       "      <td id=\"T_fe220_row1_col3\" class=\"data row1 col3\" >0</td>\n",
       "      <td id=\"T_fe220_row1_col4\" class=\"data row1 col4\" >0.000000</td>\n",
       "      <td id=\"T_fe220_row1_col5\" class=\"data row1 col5\" >nan</td>\n",
       "      <td id=\"T_fe220_row1_col6\" class=\"data row1 col6\" >nan</td>\n",
       "      <td id=\"T_fe220_row1_col7\" class=\"data row1 col7\" >nan</td>\n",
       "      <td id=\"T_fe220_row1_col8\" class=\"data row1 col8\" >nan</td>\n",
       "      <td id=\"T_fe220_row1_col9\" class=\"data row1 col9\" >nan</td>\n",
       "      <td id=\"T_fe220_row1_col10\" class=\"data row1 col10\" >nan</td>\n",
       "      <td id=\"T_fe220_row1_col11\" class=\"data row1 col11\" >nan</td>\n",
       "    </tr>\n",
       "    <tr>\n",
       "      <th id=\"T_fe220_level0_row2\" class=\"row_heading level0 row2\" >Job</th>\n",
       "      <td id=\"T_fe220_row2_col0\" class=\"data row2 col0\" >int64</td>\n",
       "      <td id=\"T_fe220_row2_col1\" class=\"data row2 col1\" >1000</td>\n",
       "      <td id=\"T_fe220_row2_col2\" class=\"data row2 col2\" >4</td>\n",
       "      <td id=\"T_fe220_row2_col3\" class=\"data row2 col3\" >0</td>\n",
       "      <td id=\"T_fe220_row2_col4\" class=\"data row2 col4\" >0.000000</td>\n",
       "      <td id=\"T_fe220_row2_col5\" class=\"data row2 col5\" >1.904000</td>\n",
       "      <td id=\"T_fe220_row2_col6\" class=\"data row2 col6\" >0.653614</td>\n",
       "      <td id=\"T_fe220_row2_col7\" class=\"data row2 col7\" >0.000000</td>\n",
       "      <td id=\"T_fe220_row2_col8\" class=\"data row2 col8\" >2.000000</td>\n",
       "      <td id=\"T_fe220_row2_col9\" class=\"data row2 col9\" >2.000000</td>\n",
       "      <td id=\"T_fe220_row2_col10\" class=\"data row2 col10\" >2.000000</td>\n",
       "      <td id=\"T_fe220_row2_col11\" class=\"data row2 col11\" >3.000000</td>\n",
       "    </tr>\n",
       "    <tr>\n",
       "      <th id=\"T_fe220_level0_row3\" class=\"row_heading level0 row3\" >Housing</th>\n",
       "      <td id=\"T_fe220_row3_col0\" class=\"data row3 col0\" >object</td>\n",
       "      <td id=\"T_fe220_row3_col1\" class=\"data row3 col1\" >1000</td>\n",
       "      <td id=\"T_fe220_row3_col2\" class=\"data row3 col2\" >3</td>\n",
       "      <td id=\"T_fe220_row3_col3\" class=\"data row3 col3\" >0</td>\n",
       "      <td id=\"T_fe220_row3_col4\" class=\"data row3 col4\" >0.000000</td>\n",
       "      <td id=\"T_fe220_row3_col5\" class=\"data row3 col5\" >nan</td>\n",
       "      <td id=\"T_fe220_row3_col6\" class=\"data row3 col6\" >nan</td>\n",
       "      <td id=\"T_fe220_row3_col7\" class=\"data row3 col7\" >nan</td>\n",
       "      <td id=\"T_fe220_row3_col8\" class=\"data row3 col8\" >nan</td>\n",
       "      <td id=\"T_fe220_row3_col9\" class=\"data row3 col9\" >nan</td>\n",
       "      <td id=\"T_fe220_row3_col10\" class=\"data row3 col10\" >nan</td>\n",
       "      <td id=\"T_fe220_row3_col11\" class=\"data row3 col11\" >nan</td>\n",
       "    </tr>\n",
       "    <tr>\n",
       "      <th id=\"T_fe220_level0_row4\" class=\"row_heading level0 row4\" >Saving accounts</th>\n",
       "      <td id=\"T_fe220_row4_col0\" class=\"data row4 col0\" >object</td>\n",
       "      <td id=\"T_fe220_row4_col1\" class=\"data row4 col1\" >817</td>\n",
       "      <td id=\"T_fe220_row4_col2\" class=\"data row4 col2\" >4</td>\n",
       "      <td id=\"T_fe220_row4_col3\" class=\"data row4 col3\" >183</td>\n",
       "      <td id=\"T_fe220_row4_col4\" class=\"data row4 col4\" >18.300000</td>\n",
       "      <td id=\"T_fe220_row4_col5\" class=\"data row4 col5\" >nan</td>\n",
       "      <td id=\"T_fe220_row4_col6\" class=\"data row4 col6\" >nan</td>\n",
       "      <td id=\"T_fe220_row4_col7\" class=\"data row4 col7\" >nan</td>\n",
       "      <td id=\"T_fe220_row4_col8\" class=\"data row4 col8\" >nan</td>\n",
       "      <td id=\"T_fe220_row4_col9\" class=\"data row4 col9\" >nan</td>\n",
       "      <td id=\"T_fe220_row4_col10\" class=\"data row4 col10\" >nan</td>\n",
       "      <td id=\"T_fe220_row4_col11\" class=\"data row4 col11\" >nan</td>\n",
       "    </tr>\n",
       "    <tr>\n",
       "      <th id=\"T_fe220_level0_row5\" class=\"row_heading level0 row5\" >Checking account</th>\n",
       "      <td id=\"T_fe220_row5_col0\" class=\"data row5 col0\" >object</td>\n",
       "      <td id=\"T_fe220_row5_col1\" class=\"data row5 col1\" >606</td>\n",
       "      <td id=\"T_fe220_row5_col2\" class=\"data row5 col2\" >3</td>\n",
       "      <td id=\"T_fe220_row5_col3\" class=\"data row5 col3\" >394</td>\n",
       "      <td id=\"T_fe220_row5_col4\" class=\"data row5 col4\" >39.400000</td>\n",
       "      <td id=\"T_fe220_row5_col5\" class=\"data row5 col5\" >nan</td>\n",
       "      <td id=\"T_fe220_row5_col6\" class=\"data row5 col6\" >nan</td>\n",
       "      <td id=\"T_fe220_row5_col7\" class=\"data row5 col7\" >nan</td>\n",
       "      <td id=\"T_fe220_row5_col8\" class=\"data row5 col8\" >nan</td>\n",
       "      <td id=\"T_fe220_row5_col9\" class=\"data row5 col9\" >nan</td>\n",
       "      <td id=\"T_fe220_row5_col10\" class=\"data row5 col10\" >nan</td>\n",
       "      <td id=\"T_fe220_row5_col11\" class=\"data row5 col11\" >nan</td>\n",
       "    </tr>\n",
       "    <tr>\n",
       "      <th id=\"T_fe220_level0_row6\" class=\"row_heading level0 row6\" >Credit_amount</th>\n",
       "      <td id=\"T_fe220_row6_col0\" class=\"data row6 col0\" >int64</td>\n",
       "      <td id=\"T_fe220_row6_col1\" class=\"data row6 col1\" >1000</td>\n",
       "      <td id=\"T_fe220_row6_col2\" class=\"data row6 col2\" >921</td>\n",
       "      <td id=\"T_fe220_row6_col3\" class=\"data row6 col3\" >0</td>\n",
       "      <td id=\"T_fe220_row6_col4\" class=\"data row6 col4\" >0.000000</td>\n",
       "      <td id=\"T_fe220_row6_col5\" class=\"data row6 col5\" >3271.258000</td>\n",
       "      <td id=\"T_fe220_row6_col6\" class=\"data row6 col6\" >2822.736876</td>\n",
       "      <td id=\"T_fe220_row6_col7\" class=\"data row6 col7\" >250.000000</td>\n",
       "      <td id=\"T_fe220_row6_col8\" class=\"data row6 col8\" >1365.500000</td>\n",
       "      <td id=\"T_fe220_row6_col9\" class=\"data row6 col9\" >2319.500000</td>\n",
       "      <td id=\"T_fe220_row6_col10\" class=\"data row6 col10\" >3972.250000</td>\n",
       "      <td id=\"T_fe220_row6_col11\" class=\"data row6 col11\" >18424.000000</td>\n",
       "    </tr>\n",
       "    <tr>\n",
       "      <th id=\"T_fe220_level0_row7\" class=\"row_heading level0 row7\" >Duration</th>\n",
       "      <td id=\"T_fe220_row7_col0\" class=\"data row7 col0\" >int64</td>\n",
       "      <td id=\"T_fe220_row7_col1\" class=\"data row7 col1\" >1000</td>\n",
       "      <td id=\"T_fe220_row7_col2\" class=\"data row7 col2\" >33</td>\n",
       "      <td id=\"T_fe220_row7_col3\" class=\"data row7 col3\" >0</td>\n",
       "      <td id=\"T_fe220_row7_col4\" class=\"data row7 col4\" >0.000000</td>\n",
       "      <td id=\"T_fe220_row7_col5\" class=\"data row7 col5\" >20.903000</td>\n",
       "      <td id=\"T_fe220_row7_col6\" class=\"data row7 col6\" >12.058814</td>\n",
       "      <td id=\"T_fe220_row7_col7\" class=\"data row7 col7\" >4.000000</td>\n",
       "      <td id=\"T_fe220_row7_col8\" class=\"data row7 col8\" >12.000000</td>\n",
       "      <td id=\"T_fe220_row7_col9\" class=\"data row7 col9\" >18.000000</td>\n",
       "      <td id=\"T_fe220_row7_col10\" class=\"data row7 col10\" >24.000000</td>\n",
       "      <td id=\"T_fe220_row7_col11\" class=\"data row7 col11\" >72.000000</td>\n",
       "    </tr>\n",
       "    <tr>\n",
       "      <th id=\"T_fe220_level0_row8\" class=\"row_heading level0 row8\" >Purpose</th>\n",
       "      <td id=\"T_fe220_row8_col0\" class=\"data row8 col0\" >object</td>\n",
       "      <td id=\"T_fe220_row8_col1\" class=\"data row8 col1\" >1000</td>\n",
       "      <td id=\"T_fe220_row8_col2\" class=\"data row8 col2\" >8</td>\n",
       "      <td id=\"T_fe220_row8_col3\" class=\"data row8 col3\" >0</td>\n",
       "      <td id=\"T_fe220_row8_col4\" class=\"data row8 col4\" >0.000000</td>\n",
       "      <td id=\"T_fe220_row8_col5\" class=\"data row8 col5\" >nan</td>\n",
       "      <td id=\"T_fe220_row8_col6\" class=\"data row8 col6\" >nan</td>\n",
       "      <td id=\"T_fe220_row8_col7\" class=\"data row8 col7\" >nan</td>\n",
       "      <td id=\"T_fe220_row8_col8\" class=\"data row8 col8\" >nan</td>\n",
       "      <td id=\"T_fe220_row8_col9\" class=\"data row8 col9\" >nan</td>\n",
       "      <td id=\"T_fe220_row8_col10\" class=\"data row8 col10\" >nan</td>\n",
       "      <td id=\"T_fe220_row8_col11\" class=\"data row8 col11\" >nan</td>\n",
       "    </tr>\n",
       "  </tbody>\n",
       "</table>\n"
      ],
      "text/plain": [
       "<pandas.io.formats.style.Styler at 0x7df119b1c280>"
      ]
     },
     "execution_count": 6,
     "metadata": {},
     "output_type": "execute_result"
    }
   ],
   "source": [
    "summary(data).style.background_gradient(cmap='YlGnBu')"
   ]
  },
  {
   "cell_type": "markdown",
   "id": "3cda1dc0",
   "metadata": {
    "papermill": {
     "duration": 0.006665,
     "end_time": "2024-01-02T05:13:31.195172",
     "exception": false,
     "start_time": "2024-01-02T05:13:31.188507",
     "status": "completed"
    },
    "tags": []
   },
   "source": [
    "#### Insights:\n",
    "* Saving accounts & Checking account having null values."
   ]
  },
  {
   "cell_type": "markdown",
   "id": "dd3404f7",
   "metadata": {
    "papermill": {
     "duration": 0.00649,
     "end_time": "2024-01-02T05:13:31.208596",
     "exception": false,
     "start_time": "2024-01-02T05:13:31.202106",
     "status": "completed"
    },
    "tags": []
   },
   "source": [
    "# Handling NULL Values"
   ]
  },
  {
   "cell_type": "code",
   "execution_count": 7,
   "id": "0ff67c49",
   "metadata": {
    "execution": {
     "iopub.execute_input": "2024-01-02T05:13:31.223762Z",
     "iopub.status.busy": "2024-01-02T05:13:31.222939Z",
     "iopub.status.idle": "2024-01-02T05:13:31.230346Z",
     "shell.execute_reply": "2024-01-02T05:13:31.229112Z"
    },
    "papermill": {
     "duration": 0.017722,
     "end_time": "2024-01-02T05:13:31.232784",
     "exception": false,
     "start_time": "2024-01-02T05:13:31.215062",
     "status": "completed"
    },
    "tags": []
   },
   "outputs": [],
   "source": [
    "data.dropna(inplace=True)"
   ]
  },
  {
   "cell_type": "code",
   "execution_count": 8,
   "id": "229a5518",
   "metadata": {
    "execution": {
     "iopub.execute_input": "2024-01-02T05:13:31.248181Z",
     "iopub.status.busy": "2024-01-02T05:13:31.247458Z",
     "iopub.status.idle": "2024-01-02T05:13:31.255447Z",
     "shell.execute_reply": "2024-01-02T05:13:31.254592Z"
    },
    "papermill": {
     "duration": 0.01845,
     "end_time": "2024-01-02T05:13:31.257884",
     "exception": false,
     "start_time": "2024-01-02T05:13:31.239434",
     "status": "completed"
    },
    "tags": []
   },
   "outputs": [
    {
     "data": {
      "text/plain": [
       "Age                 0\n",
       "Gender              0\n",
       "Job                 0\n",
       "Housing             0\n",
       "Saving accounts     0\n",
       "Checking account    0\n",
       "Credit_amount       0\n",
       "Duration            0\n",
       "Purpose             0\n",
       "dtype: int64"
      ]
     },
     "execution_count": 8,
     "metadata": {},
     "output_type": "execute_result"
    }
   ],
   "source": [
    "data.isna().sum()"
   ]
  },
  {
   "cell_type": "markdown",
   "id": "b6f163d1",
   "metadata": {
    "papermill": {
     "duration": 0.006332,
     "end_time": "2024-01-02T05:13:31.270927",
     "exception": false,
     "start_time": "2024-01-02T05:13:31.264595",
     "status": "completed"
    },
    "tags": []
   },
   "source": [
    "# Feature Encoding"
   ]
  },
  {
   "cell_type": "code",
   "execution_count": null,
   "id": "d06023ba",
   "metadata": {
    "papermill": {
     "duration": 0.006586,
     "end_time": "2024-01-02T05:13:31.284216",
     "exception": false,
     "start_time": "2024-01-02T05:13:31.277630",
     "status": "completed"
    },
    "tags": []
   },
   "outputs": [],
   "source": []
  }
 ],
 "metadata": {
  "kaggle": {
   "accelerator": "none",
   "dataSources": [
    {
     "datasetId": 4181282,
     "sourceId": 7223499,
     "sourceType": "datasetVersion"
    }
   ],
   "dockerImageVersionId": 30626,
   "isGpuEnabled": false,
   "isInternetEnabled": true,
   "language": "python",
   "sourceType": "notebook"
  },
  "kernelspec": {
   "display_name": "Python 3",
   "language": "python",
   "name": "python3"
  },
  "language_info": {
   "codemirror_mode": {
    "name": "ipython",
    "version": 3
   },
   "file_extension": ".py",
   "mimetype": "text/x-python",
   "name": "python",
   "nbconvert_exporter": "python",
   "pygments_lexer": "ipython3",
   "version": "3.10.12"
  },
  "papermill": {
   "default_parameters": {},
   "duration": 6.456889,
   "end_time": "2024-01-02T05:13:31.913798",
   "environment_variables": {},
   "exception": null,
   "input_path": "__notebook__.ipynb",
   "output_path": "__notebook__.ipynb",
   "parameters": {},
   "start_time": "2024-01-02T05:13:25.456909",
   "version": "2.4.0"
  }
 },
 "nbformat": 4,
 "nbformat_minor": 5
}
