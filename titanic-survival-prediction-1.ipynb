{
 "cells": [
  {
   "cell_type": "markdown",
   "id": "ec8d4119",
   "metadata": {
    "_cell_guid": "b1076dfc-b9ad-4769-8c92-a6c4dae69d19",
    "_uuid": "8f2839f25d086af736a60e9eeb907d3b93b6e0e5",
    "execution": {
     "iopub.execute_input": "2024-04-04T03:07:17.698028Z",
     "iopub.status.busy": "2024-04-04T03:07:17.697455Z",
     "iopub.status.idle": "2024-04-04T03:07:18.806089Z",
     "shell.execute_reply": "2024-04-04T03:07:18.804999Z",
     "shell.execute_reply.started": "2024-04-04T03:07:17.697998Z"
    },
    "papermill": {
     "duration": 0.004235,
     "end_time": "2024-04-06T12:23:59.758406",
     "exception": false,
     "start_time": "2024-04-06T12:23:59.754171",
     "status": "completed"
    },
    "tags": []
   },
   "source": [
    "# Titanic Survival Prediction\n",
    "Given a custom dataset which represents the details of passengers who were in the great 'Titanic' ship.\n",
    "\n",
    "Our task is to find whether a person survived or not after the incident using various models provided by `scikit-learn`.\n",
    "\n",
    "Your aim is to get the predictions using different models by tuning the parameters of your choice."
   ]
  },
  {
   "cell_type": "markdown",
   "id": "1a0ca09e",
   "metadata": {
    "papermill": {
     "duration": 0.00339,
     "end_time": "2024-04-06T12:23:59.765634",
     "exception": false,
     "start_time": "2024-04-06T12:23:59.762244",
     "status": "completed"
    },
    "tags": []
   },
   "source": [
    "# Importing Libraries"
   ]
  },
  {
   "cell_type": "code",
   "execution_count": 1,
   "id": "fc76ddba",
   "metadata": {
    "execution": {
     "iopub.execute_input": "2024-04-06T12:23:59.775602Z",
     "iopub.status.busy": "2024-04-06T12:23:59.774707Z",
     "iopub.status.idle": "2024-04-06T12:24:02.659135Z",
     "shell.execute_reply": "2024-04-06T12:24:02.657830Z"
    },
    "papermill": {
     "duration": 2.8927,
     "end_time": "2024-04-06T12:24:02.662110",
     "exception": false,
     "start_time": "2024-04-06T12:23:59.769410",
     "status": "completed"
    },
    "tags": []
   },
   "outputs": [
    {
     "name": "stdout",
     "output_type": "stream",
     "text": [
      "/kaggle/input/titanic-survival/train.csv\n",
      "/kaggle/input/titanic-survival/test.csv\n"
     ]
    }
   ],
   "source": [
    "# This Python 3 environment comes with many helpful analytics libraries installed\n",
    "# It is defined by the kaggle/python Docker image: https://github.com/kaggle/docker-python\n",
    "# For example, here's several helpful packages to load\n",
    "\n",
    "import numpy as np # linear algebra\n",
    "import pandas as pd # data processing, CSV file I/O (e.g. pd.read_csv)\n",
    "import matplotlib.pyplot as plt #visualization\n",
    "import seaborn as sns\n",
    "import sklearn # machine learninng modelling\n",
    "\n",
    "# Input data files are available in the read-only \"../input/\" directory\n",
    "# For example, running this (by clicking run or pressing Shift+Enter) will list all files under the input directory\n",
    "\n",
    "import os\n",
    "for dirname, _, filenames in os.walk('/kaggle/input'):\n",
    "    for filename in filenames:\n",
    "        print(os.path.join(dirname, filename))\n",
    "\n",
    "# You can write up to 20GB to the current directory (/kaggle/working/) that gets preserved as output when you create a version using \"Save & Run All\" \n",
    "# You can also write temporary files to /kaggle/temp/, but they won't be saved outside of the current session"
   ]
  },
  {
   "cell_type": "markdown",
   "id": "632f572e",
   "metadata": {
    "papermill": {
     "duration": 0.003578,
     "end_time": "2024-04-06T12:24:02.670021",
     "exception": false,
     "start_time": "2024-04-06T12:24:02.666443",
     "status": "completed"
    },
    "tags": []
   },
   "source": [
    "# Reading the Dataset"
   ]
  },
  {
   "cell_type": "code",
   "execution_count": 2,
   "id": "9672af5a",
   "metadata": {
    "execution": {
     "iopub.execute_input": "2024-04-06T12:24:02.680493Z",
     "iopub.status.busy": "2024-04-06T12:24:02.679020Z",
     "iopub.status.idle": "2024-04-06T12:24:02.792085Z",
     "shell.execute_reply": "2024-04-06T12:24:02.790761Z"
    },
    "papermill": {
     "duration": 0.121143,
     "end_time": "2024-04-06T12:24:02.794923",
     "exception": false,
     "start_time": "2024-04-06T12:24:02.673780",
     "status": "completed"
    },
    "tags": []
   },
   "outputs": [],
   "source": [
    "train=pd.read_csv('/kaggle/input/titanic-survival/train.csv')\n",
    "test = pd.read_csv('/kaggle/input/titanic-survival/test.csv')"
   ]
  },
  {
   "cell_type": "code",
   "execution_count": 3,
   "id": "10c04b15",
   "metadata": {
    "execution": {
     "iopub.execute_input": "2024-04-06T12:24:02.804528Z",
     "iopub.status.busy": "2024-04-06T12:24:02.804115Z",
     "iopub.status.idle": "2024-04-06T12:24:02.829035Z",
     "shell.execute_reply": "2024-04-06T12:24:02.827741Z"
    },
    "papermill": {
     "duration": 0.032886,
     "end_time": "2024-04-06T12:24:02.831673",
     "exception": false,
     "start_time": "2024-04-06T12:24:02.798787",
     "status": "completed"
    },
    "tags": []
   },
   "outputs": [
    {
     "data": {
      "text/html": [
       "<div>\n",
       "<style scoped>\n",
       "    .dataframe tbody tr th:only-of-type {\n",
       "        vertical-align: middle;\n",
       "    }\n",
       "\n",
       "    .dataframe tbody tr th {\n",
       "        vertical-align: top;\n",
       "    }\n",
       "\n",
       "    .dataframe thead th {\n",
       "        text-align: right;\n",
       "    }\n",
       "</style>\n",
       "<table border=\"1\" class=\"dataframe\">\n",
       "  <thead>\n",
       "    <tr style=\"text-align: right;\">\n",
       "      <th></th>\n",
       "      <th>PassengerId</th>\n",
       "      <th>Survived</th>\n",
       "      <th>Pclass</th>\n",
       "      <th>Name</th>\n",
       "      <th>Sex</th>\n",
       "      <th>Age</th>\n",
       "      <th>SibSp</th>\n",
       "      <th>Parch</th>\n",
       "      <th>Ticket</th>\n",
       "      <th>Fare</th>\n",
       "      <th>Cabin</th>\n",
       "      <th>Embarked</th>\n",
       "    </tr>\n",
       "  </thead>\n",
       "  <tbody>\n",
       "    <tr>\n",
       "      <th>0</th>\n",
       "      <td>863</td>\n",
       "      <td>1</td>\n",
       "      <td>1</td>\n",
       "      <td>Swift, Mrs. Frederick Joel (Margaret Welles Ba...</td>\n",
       "      <td>female</td>\n",
       "      <td>48.0</td>\n",
       "      <td>0</td>\n",
       "      <td>0</td>\n",
       "      <td>17466</td>\n",
       "      <td>25.9292</td>\n",
       "      <td>D17</td>\n",
       "      <td>S</td>\n",
       "    </tr>\n",
       "    <tr>\n",
       "      <th>1</th>\n",
       "      <td>224</td>\n",
       "      <td>0</td>\n",
       "      <td>3</td>\n",
       "      <td>Nenkoff, Mr. Christo</td>\n",
       "      <td>male</td>\n",
       "      <td>NaN</td>\n",
       "      <td>0</td>\n",
       "      <td>0</td>\n",
       "      <td>349234</td>\n",
       "      <td>7.8958</td>\n",
       "      <td>NaN</td>\n",
       "      <td>S</td>\n",
       "    </tr>\n",
       "    <tr>\n",
       "      <th>2</th>\n",
       "      <td>85</td>\n",
       "      <td>1</td>\n",
       "      <td>2</td>\n",
       "      <td>Ilett, Miss. Bertha</td>\n",
       "      <td>female</td>\n",
       "      <td>17.0</td>\n",
       "      <td>0</td>\n",
       "      <td>0</td>\n",
       "      <td>SO/C 14885</td>\n",
       "      <td>10.5000</td>\n",
       "      <td>NaN</td>\n",
       "      <td>S</td>\n",
       "    </tr>\n",
       "  </tbody>\n",
       "</table>\n",
       "</div>"
      ],
      "text/plain": [
       "   PassengerId  Survived  Pclass  \\\n",
       "0          863         1       1   \n",
       "1          224         0       3   \n",
       "2           85         1       2   \n",
       "\n",
       "                                                Name     Sex   Age  SibSp  \\\n",
       "0  Swift, Mrs. Frederick Joel (Margaret Welles Ba...  female  48.0      0   \n",
       "1                               Nenkoff, Mr. Christo    male   NaN      0   \n",
       "2                                Ilett, Miss. Bertha  female  17.0      0   \n",
       "\n",
       "   Parch      Ticket     Fare Cabin Embarked  \n",
       "0      0       17466  25.9292   D17        S  \n",
       "1      0      349234   7.8958   NaN        S  \n",
       "2      0  SO/C 14885  10.5000   NaN        S  "
      ]
     },
     "execution_count": 3,
     "metadata": {},
     "output_type": "execute_result"
    }
   ],
   "source": [
    "# first three rows of train dataset\n",
    "train.head(3)"
   ]
  },
  {
   "cell_type": "code",
   "execution_count": 4,
   "id": "67ff3a9d",
   "metadata": {
    "execution": {
     "iopub.execute_input": "2024-04-06T12:24:02.842124Z",
     "iopub.status.busy": "2024-04-06T12:24:02.841685Z",
     "iopub.status.idle": "2024-04-06T12:24:02.858524Z",
     "shell.execute_reply": "2024-04-06T12:24:02.857423Z"
    },
    "papermill": {
     "duration": 0.02514,
     "end_time": "2024-04-06T12:24:02.861002",
     "exception": false,
     "start_time": "2024-04-06T12:24:02.835862",
     "status": "completed"
    },
    "tags": []
   },
   "outputs": [
    {
     "data": {
      "text/html": [
       "<div>\n",
       "<style scoped>\n",
       "    .dataframe tbody tr th:only-of-type {\n",
       "        vertical-align: middle;\n",
       "    }\n",
       "\n",
       "    .dataframe tbody tr th {\n",
       "        vertical-align: top;\n",
       "    }\n",
       "\n",
       "    .dataframe thead th {\n",
       "        text-align: right;\n",
       "    }\n",
       "</style>\n",
       "<table border=\"1\" class=\"dataframe\">\n",
       "  <thead>\n",
       "    <tr style=\"text-align: right;\">\n",
       "      <th></th>\n",
       "      <th>PassengerId</th>\n",
       "      <th>Pclass</th>\n",
       "      <th>Name</th>\n",
       "      <th>Sex</th>\n",
       "      <th>Age</th>\n",
       "      <th>SibSp</th>\n",
       "      <th>Parch</th>\n",
       "      <th>Ticket</th>\n",
       "      <th>Fare</th>\n",
       "      <th>Cabin</th>\n",
       "      <th>Embarked</th>\n",
       "    </tr>\n",
       "  </thead>\n",
       "  <tbody>\n",
       "    <tr>\n",
       "      <th>0</th>\n",
       "      <td>8</td>\n",
       "      <td>3</td>\n",
       "      <td>Palsson, Master. Gosta Leonard</td>\n",
       "      <td>male</td>\n",
       "      <td>2.0</td>\n",
       "      <td>3</td>\n",
       "      <td>1</td>\n",
       "      <td>349909</td>\n",
       "      <td>21.075</td>\n",
       "      <td>NaN</td>\n",
       "      <td>S</td>\n",
       "    </tr>\n",
       "    <tr>\n",
       "      <th>1</th>\n",
       "      <td>11</td>\n",
       "      <td>3</td>\n",
       "      <td>Sandstrom, Miss. Marguerite Rut</td>\n",
       "      <td>female</td>\n",
       "      <td>4.0</td>\n",
       "      <td>1</td>\n",
       "      <td>1</td>\n",
       "      <td>PP 9549</td>\n",
       "      <td>16.700</td>\n",
       "      <td>G6</td>\n",
       "      <td>S</td>\n",
       "    </tr>\n",
       "    <tr>\n",
       "      <th>2</th>\n",
       "      <td>16</td>\n",
       "      <td>2</td>\n",
       "      <td>Hewlett, Mrs. (Mary D Kingcome)</td>\n",
       "      <td>female</td>\n",
       "      <td>55.0</td>\n",
       "      <td>0</td>\n",
       "      <td>0</td>\n",
       "      <td>248706</td>\n",
       "      <td>16.000</td>\n",
       "      <td>NaN</td>\n",
       "      <td>S</td>\n",
       "    </tr>\n",
       "  </tbody>\n",
       "</table>\n",
       "</div>"
      ],
      "text/plain": [
       "   PassengerId  Pclass                              Name     Sex   Age  SibSp  \\\n",
       "0            8       3    Palsson, Master. Gosta Leonard    male   2.0      3   \n",
       "1           11       3   Sandstrom, Miss. Marguerite Rut  female   4.0      1   \n",
       "2           16       2  Hewlett, Mrs. (Mary D Kingcome)   female  55.0      0   \n",
       "\n",
       "   Parch   Ticket    Fare Cabin Embarked  \n",
       "0      1   349909  21.075   NaN        S  \n",
       "1      1  PP 9549  16.700    G6        S  \n",
       "2      0   248706  16.000   NaN        S  "
      ]
     },
     "execution_count": 4,
     "metadata": {},
     "output_type": "execute_result"
    }
   ],
   "source": [
    "# first three rows of test dataset\n",
    "test.head(3)"
   ]
  },
  {
   "cell_type": "markdown",
   "id": "97b953c7",
   "metadata": {
    "papermill": {
     "duration": 0.004021,
     "end_time": "2024-04-06T12:24:02.869556",
     "exception": false,
     "start_time": "2024-04-06T12:24:02.865535",
     "status": "completed"
    },
    "tags": []
   },
   "source": [
    "# Exploring the Dataset"
   ]
  }
 ],
 "metadata": {
  "kaggle": {
   "accelerator": "none",
   "dataSources": [
    {
     "datasetId": 4721754,
     "sourceId": 8014528,
     "sourceType": "datasetVersion"
    }
   ],
   "dockerImageVersionId": 30673,
   "isGpuEnabled": false,
   "isInternetEnabled": true,
   "language": "python",
   "sourceType": "notebook"
  },
  "kernelspec": {
   "display_name": "Python 3",
   "language": "python",
   "name": "python3"
  },
  "language_info": {
   "codemirror_mode": {
    "name": "ipython",
    "version": 3
   },
   "file_extension": ".py",
   "mimetype": "text/x-python",
   "name": "python",
   "nbconvert_exporter": "python",
   "pygments_lexer": "ipython3",
   "version": "3.10.13"
  },
  "papermill": {
   "default_parameters": {},
   "duration": 7.023318,
   "end_time": "2024-04-06T12:24:03.496509",
   "environment_variables": {},
   "exception": null,
   "input_path": "__notebook__.ipynb",
   "output_path": "__notebook__.ipynb",
   "parameters": {},
   "start_time": "2024-04-06T12:23:56.473191",
   "version": "2.5.0"
  }
 },
 "nbformat": 4,
 "nbformat_minor": 5
}
