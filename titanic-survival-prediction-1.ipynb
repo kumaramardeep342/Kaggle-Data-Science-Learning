{
 "cells": [
  {
   "cell_type": "markdown",
   "id": "689bfde0",
   "metadata": {
    "_cell_guid": "b1076dfc-b9ad-4769-8c92-a6c4dae69d19",
    "_uuid": "8f2839f25d086af736a60e9eeb907d3b93b6e0e5",
    "execution": {
     "iopub.execute_input": "2024-04-04T03:07:17.698028Z",
     "iopub.status.busy": "2024-04-04T03:07:17.697455Z",
     "iopub.status.idle": "2024-04-04T03:07:18.806089Z",
     "shell.execute_reply": "2024-04-04T03:07:18.804999Z",
     "shell.execute_reply.started": "2024-04-04T03:07:17.697998Z"
    },
    "papermill": {
     "duration": 0.002346,
     "end_time": "2024-04-06T07:43:38.563454",
     "exception": false,
     "start_time": "2024-04-06T07:43:38.561108",
     "status": "completed"
    },
    "tags": []
   },
   "source": [
    "# Titanic Survival Prediction\n",
    "Given a custom dataset which represents the details of passengers who were in the great 'Titanic' ship.\n",
    "\n",
    "Our task is to find whether a person survived or not after the incident using various models provided by `scikit-learn`.\n",
    "\n",
    "Your aim is to get the predictions using different models by tuning the parameters of your choice."
   ]
  },
  {
   "cell_type": "markdown",
   "id": "6dae2cd6",
   "metadata": {
    "papermill": {
     "duration": 0.001453,
     "end_time": "2024-04-06T07:43:38.566900",
     "exception": false,
     "start_time": "2024-04-06T07:43:38.565447",
     "status": "completed"
    },
    "tags": []
   },
   "source": [
    "# Importing Libraries"
   ]
  },
  {
   "cell_type": "code",
   "execution_count": 1,
   "id": "e4997bdd",
   "metadata": {
    "execution": {
     "iopub.execute_input": "2024-04-06T07:43:38.572421Z",
     "iopub.status.busy": "2024-04-06T07:43:38.571726Z",
     "iopub.status.idle": "2024-04-06T07:43:40.752783Z",
     "shell.execute_reply": "2024-04-06T07:43:40.751743Z"
    },
    "papermill": {
     "duration": 2.186604,
     "end_time": "2024-04-06T07:43:40.755152",
     "exception": false,
     "start_time": "2024-04-06T07:43:38.568548",
     "status": "completed"
    },
    "tags": []
   },
   "outputs": [
    {
     "name": "stdout",
     "output_type": "stream",
     "text": [
      "/kaggle/input/titanic-survival/train.csv\n",
      "/kaggle/input/titanic-survival/test.csv\n"
     ]
    }
   ],
   "source": [
    "# This Python 3 environment comes with many helpful analytics libraries installed\n",
    "# It is defined by the kaggle/python Docker image: https://github.com/kaggle/docker-python\n",
    "# For example, here's several helpful packages to load\n",
    "\n",
    "import numpy as np # linear algebra\n",
    "import pandas as pd # data processing, CSV file I/O (e.g. pd.read_csv)\n",
    "import matplotlib.pyplot as plt #visualization\n",
    "import seaborn as sns\n",
    "import sklearn # machine learninng modelling\n",
    "\n",
    "# Input data files are available in the read-only \"../input/\" directory\n",
    "# For example, running this (by clicking run or pressing Shift+Enter) will list all files under the input directory\n",
    "\n",
    "import os\n",
    "for dirname, _, filenames in os.walk('/kaggle/input'):\n",
    "    for filename in filenames:\n",
    "        print(os.path.join(dirname, filename))\n",
    "\n",
    "# You can write up to 20GB to the current directory (/kaggle/working/) that gets preserved as output when you create a version using \"Save & Run All\" \n",
    "# You can also write temporary files to /kaggle/temp/, but they won't be saved outside of the current session"
   ]
  }
 ],
 "metadata": {
  "kaggle": {
   "accelerator": "none",
   "dataSources": [
    {
     "datasetId": 4721754,
     "sourceId": 8014528,
     "sourceType": "datasetVersion"
    }
   ],
   "dockerImageVersionId": 30673,
   "isGpuEnabled": false,
   "isInternetEnabled": true,
   "language": "python",
   "sourceType": "notebook"
  },
  "kernelspec": {
   "display_name": "Python 3",
   "language": "python",
   "name": "python3"
  },
  "language_info": {
   "codemirror_mode": {
    "name": "ipython",
    "version": 3
   },
   "file_extension": ".py",
   "mimetype": "text/x-python",
   "name": "python",
   "nbconvert_exporter": "python",
   "pygments_lexer": "ipython3",
   "version": "3.10.13"
  },
  "papermill": {
   "default_parameters": {},
   "duration": 8.057995,
   "end_time": "2024-04-06T07:43:43.876765",
   "environment_variables": {},
   "exception": null,
   "input_path": "__notebook__.ipynb",
   "output_path": "__notebook__.ipynb",
   "parameters": {},
   "start_time": "2024-04-06T07:43:35.818770",
   "version": "2.5.0"
  }
 },
 "nbformat": 4,
 "nbformat_minor": 5
}
