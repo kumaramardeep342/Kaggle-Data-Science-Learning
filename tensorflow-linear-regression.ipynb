{
 "cells": [
  {
   "cell_type": "markdown",
   "id": "9dcdba58",
   "metadata": {
    "papermill": {
     "duration": 0.005356,
     "end_time": "2024-03-30T11:11:01.341543",
     "exception": false,
     "start_time": "2024-03-30T11:11:01.336187",
     "status": "completed"
    },
    "tags": []
   },
   "source": [
    "Welcome to the second hands-on exercise for Tensorflow. In this exercise , you will be building a linear regression model using tensorflow. \n",
    "You will be given a vector of input and output data, you need to find the linear relationship between these two data which is in the form  $$y = w*x + b$$"
   ]
  },
  {
   "cell_type": "code",
   "execution_count": 1,
   "id": "c9e88162",
   "metadata": {
    "execution": {
     "iopub.execute_input": "2024-03-30T11:11:01.354014Z",
     "iopub.status.busy": "2024-03-30T11:11:01.353135Z",
     "iopub.status.idle": "2024-03-30T11:11:17.987883Z",
     "shell.execute_reply": "2024-03-30T11:11:17.986383Z"
    },
    "papermill": {
     "duration": 16.645593,
     "end_time": "2024-03-30T11:11:17.992243",
     "exception": false,
     "start_time": "2024-03-30T11:11:01.346650",
     "status": "completed"
    },
    "tags": []
   },
   "outputs": [
    {
     "name": "stderr",
     "output_type": "stream",
     "text": [
      "2024-03-30 11:11:04.620167: E external/local_xla/xla/stream_executor/cuda/cuda_dnn.cc:9261] Unable to register cuDNN factory: Attempting to register factory for plugin cuDNN when one has already been registered\n",
      "2024-03-30 11:11:04.620318: E external/local_xla/xla/stream_executor/cuda/cuda_fft.cc:607] Unable to register cuFFT factory: Attempting to register factory for plugin cuFFT when one has already been registered\n",
      "2024-03-30 11:11:04.806598: E external/local_xla/xla/stream_executor/cuda/cuda_blas.cc:1515] Unable to register cuBLAS factory: Attempting to register factory for plugin cuBLAS when one has already been registered\n"
     ]
    }
   ],
   "source": [
    "# This Python 3 environment comes with many helpful analytics libraries installed\n",
    "# It is defined by the kaggle/python Docker image: https://github.com/kaggle/docker-python\n",
    "# For example, here's several helpful packages to load\n",
    "\n",
    "import numpy as np # linear algebra\n",
    "import pandas as pd # data processing, CSV file I/O (e.g. pd.read_csv)\n",
    "#import tensorflow as tf\n",
    "import tensorflow.compat.v1 as tf # this is for TensorFlow 2.x with eager execution disabled,means we can execute TensorFlow 1.x method like Session etc.\n",
    "tf.disable_eager_execution() # disables eager execution, making TensorFlow operate in graph mode.\n",
    "import numpy.random as rand\n",
    "\n",
    "# Input data files are available in the read-only \"../input/\" directory\n",
    "# For example, running this (by clicking run or pressing Shift+Enter) will list all files under the input directory\n",
    "\n",
    "import os\n",
    "for dirname, _, filenames in os.walk('/kaggle/input'):\n",
    "    for filename in filenames:\n",
    "        print(os.path.join(dirname, filename))\n",
    "\n",
    "# You can write up to 20GB to the current directory (/kaggle/working/) that gets preserved as output when you create a version using \"Save & Run All\" \n",
    "# You can also write temporary files to /kaggle/temp/, but they won't be saved outside of the current session"
   ]
  },
  {
   "cell_type": "markdown",
   "id": "ece281a5",
   "metadata": {
    "papermill": {
     "duration": 0.005213,
     "end_time": "2024-03-30T11:11:18.003852",
     "exception": false,
     "start_time": "2024-03-30T11:11:17.998639",
     "status": "completed"
    },
    "tags": []
   },
   "source": [
    "Using numpy initialise training input data \n",
    "**trainX** with values [4.4,7.2,3.712,6.42,4.168,8.79,7.88,7.59,2.167,7.042,10.71,5.33,9.97,5.64,9.27,3.1,3.9]\n",
    "\n",
    "**trainY** with values [2.28644, 3.25412, 2.0486672, 2.984552, 2.2062608, 3.803624 ,3.489128, 3.388904 ,1.5147152, 3.1995152, 4.467176, 2.607848 ,4.211432, 2.714984, 3.969512, 1.83716, 2.11364]"
   ]
  },
  {
   "cell_type": "code",
   "execution_count": 2,
   "id": "ff64f312",
   "metadata": {
    "execution": {
     "iopub.execute_input": "2024-03-30T11:11:18.017109Z",
     "iopub.status.busy": "2024-03-30T11:11:18.016164Z",
     "iopub.status.idle": "2024-03-30T11:11:18.025164Z",
     "shell.execute_reply": "2024-03-30T11:11:18.023699Z"
    },
    "papermill": {
     "duration": 0.018821,
     "end_time": "2024-03-30T11:11:18.028010",
     "exception": false,
     "start_time": "2024-03-30T11:11:18.009189",
     "status": "completed"
    },
    "tags": []
   },
   "outputs": [],
   "source": [
    "## Start Code \n",
    "trainX = np.array([4.4,7.2,3.712,6.42,4.168,8.79,7.88,7.59,2.167,7.042,10.71,5.33,9.97,5.64,9.27,3.1,3.9])\n",
    "                         \n",
    "trainY = np.array([2.28644, 3.25412, 2.0486672, 2.984552, 2.2062608, 3.803624 ,3.489128, 3.388904 ,1.5147152, 3.1995152, 4.467176, 2.607848 ,4.211432, 2.714984, 3.969512, 1.83716, 2.11364])\n",
    "## End Code \n",
    "\n",
    "num_samples = trainX.shape[0]"
   ]
  },
  {
   "cell_type": "markdown",
   "id": "3f2b4931",
   "metadata": {
    "papermill": {
     "duration": 0.004673,
     "end_time": "2024-03-30T11:11:18.037865",
     "exception": false,
     "start_time": "2024-03-30T11:11:18.033192",
     "status": "completed"
    },
    "tags": []
   },
   "source": [
    "Define placeholders for input and output data as **X** and **Y** . Let them be of data type **float32** "
   ]
  },
  {
   "cell_type": "code",
   "execution_count": 3,
   "id": "120450c3",
   "metadata": {
    "execution": {
     "iopub.execute_input": "2024-03-30T11:11:18.050843Z",
     "iopub.status.busy": "2024-03-30T11:11:18.049934Z",
     "iopub.status.idle": "2024-03-30T11:11:18.060515Z",
     "shell.execute_reply": "2024-03-30T11:11:18.059263Z"
    },
    "papermill": {
     "duration": 0.020749,
     "end_time": "2024-03-30T11:11:18.063667",
     "exception": false,
     "start_time": "2024-03-30T11:11:18.042918",
     "status": "completed"
    },
    "tags": []
   },
   "outputs": [],
   "source": [
    "X = tf.placeholder(tf.float32)\n",
    "Y = tf.placeholder(tf.float32)"
   ]
  },
  {
   "cell_type": "markdown",
   "id": "309326b5",
   "metadata": {
    "papermill": {
     "duration": 0.004714,
     "end_time": "2024-03-30T11:11:18.073685",
     "exception": false,
     "start_time": "2024-03-30T11:11:18.068971",
     "status": "completed"
    },
    "tags": []
   },
   "source": [
    "Since this is a **linear regression** problem the output will be in the form of **w * trainX + b** \n",
    "\n",
    "Initialse **w** and **b** with random values using **rand.randn()** function. Make sure you declare them as **tensorflow variables**"
   ]
  },
  {
   "cell_type": "code",
   "execution_count": 4,
   "id": "33923e5d",
   "metadata": {
    "execution": {
     "iopub.execute_input": "2024-03-30T11:11:18.086447Z",
     "iopub.status.busy": "2024-03-30T11:11:18.085628Z",
     "iopub.status.idle": "2024-03-30T11:11:18.107345Z",
     "shell.execute_reply": "2024-03-30T11:11:18.105797Z"
    },
    "papermill": {
     "duration": 0.032118,
     "end_time": "2024-03-30T11:11:18.110848",
     "exception": false,
     "start_time": "2024-03-30T11:11:18.078730",
     "status": "completed"
    },
    "tags": []
   },
   "outputs": [],
   "source": [
    "## Start Code \n",
    "w = tf.Variable(np.random.randn())\n",
    "b = tf.Variable(np.random.randn())\n",
    "## End Code "
   ]
  },
  {
   "cell_type": "markdown",
   "id": "b4ee6e54",
   "metadata": {
    "papermill": {
     "duration": 0.004714,
     "end_time": "2024-03-30T11:11:18.120898",
     "exception": false,
     "start_time": "2024-03-30T11:11:18.116184",
     "status": "completed"
    },
    "tags": []
   },
   "source": [
    "implement **X * W + b** using appropriate tensorflow functions to predict the output **Y**.\n",
    "\n",
    "Train the model using gradient descent to minimize the cost. \n",
    "Initialize the number of iterations and learning rate \n",
    "\n",
    "**TIP:** start with small learning rate and large iteration."
   ]
  },
  {
   "cell_type": "code",
   "execution_count": 5,
   "id": "121310e9",
   "metadata": {
    "execution": {
     "iopub.execute_input": "2024-03-30T11:11:18.133860Z",
     "iopub.status.busy": "2024-03-30T11:11:18.132952Z",
     "iopub.status.idle": "2024-03-30T11:11:18.209409Z",
     "shell.execute_reply": "2024-03-30T11:11:18.207854Z"
    },
    "papermill": {
     "duration": 0.086575,
     "end_time": "2024-03-30T11:11:18.212787",
     "exception": false,
     "start_time": "2024-03-30T11:11:18.126212",
     "status": "completed"
    },
    "tags": []
   },
   "outputs": [],
   "source": [
    "## Start Code \n",
    "\n",
    "num_iter = 10000 \n",
    "learning_rate = 0.01\n",
    "\n",
    "\n",
    "pred = pred=tf.add(tf.multiply(X,w),b)\n",
    "cost = tf.reduce_mean(tf.square(pred - Y))\n",
    "\n",
    "optimizer = tf.train.GradientDescentOptimizer(learning_rate)\n",
    "train = optimizer.minimize(cost)\n",
    "## End Code "
   ]
  },
  {
   "cell_type": "code",
   "execution_count": 6,
   "id": "c3404081",
   "metadata": {
    "execution": {
     "iopub.execute_input": "2024-03-30T11:11:18.226462Z",
     "iopub.status.busy": "2024-03-30T11:11:18.225154Z",
     "iopub.status.idle": "2024-03-30T11:11:22.542810Z",
     "shell.execute_reply": "2024-03-30T11:11:22.541389Z"
    },
    "papermill": {
     "duration": 4.328449,
     "end_time": "2024-03-30T11:11:22.546488",
     "exception": false,
     "start_time": "2024-03-30T11:11:18.218039",
     "status": "completed"
    },
    "tags": []
   },
   "outputs": [],
   "source": [
    "#Execute the below piece of code. \n",
    "text_file = open(\"Output.txt\", \"w\")\n",
    "model = tf.global_variables_initializer()\n",
    "with tf.Session() as session:\n",
    "    session.run(model)\n",
    "    for i in range(num_iter):\n",
    "        session.run(train, feed_dict={X: trainX , Y: trainY})\n",
    "    w = session.run(w)\n",
    "    b = session.run(b)\n",
    "    with open(\"Output.txt\", \"w\") as text_file:\n",
    "        text_file.write(\"w= %f\\n\" % w)\n",
    "        text_file.write(\"b= %f\" % b)"
   ]
  },
  {
   "cell_type": "code",
   "execution_count": 7,
   "id": "77b4f79e",
   "metadata": {
    "execution": {
     "iopub.execute_input": "2024-03-30T11:11:22.558439Z",
     "iopub.status.busy": "2024-03-30T11:11:22.557939Z",
     "iopub.status.idle": "2024-03-30T11:11:22.565336Z",
     "shell.execute_reply": "2024-03-30T11:11:22.564067Z"
    },
    "papermill": {
     "duration": 0.016736,
     "end_time": "2024-03-30T11:11:22.568264",
     "exception": false,
     "start_time": "2024-03-30T11:11:22.551528",
     "status": "completed"
    },
    "tags": []
   },
   "outputs": [],
   "source": [
    "#jupyter nbconvert --to notebook --inplace --execute Linear_Regression_Hands_On.ipynb -- to execute "
   ]
  }
 ],
 "metadata": {
  "kaggle": {
   "accelerator": "none",
   "dataSources": [],
   "dockerImageVersionId": 30673,
   "isGpuEnabled": false,
   "isInternetEnabled": true,
   "language": "python",
   "sourceType": "notebook"
  },
  "kernelspec": {
   "display_name": "Python 3",
   "language": "python",
   "name": "python3"
  },
  "language_info": {
   "codemirror_mode": {
    "name": "ipython",
    "version": 3
   },
   "file_extension": ".py",
   "mimetype": "text/x-python",
   "name": "python",
   "nbconvert_exporter": "python",
   "pygments_lexer": "ipython3",
   "version": "3.10.13"
  },
  "papermill": {
   "default_parameters": {},
   "duration": 27.301342,
   "end_time": "2024-03-30T11:11:25.181319",
   "environment_variables": {},
   "exception": null,
   "input_path": "__notebook__.ipynb",
   "output_path": "__notebook__.ipynb",
   "parameters": {},
   "start_time": "2024-03-30T11:10:57.879977",
   "version": "2.5.0"
  }
 },
 "nbformat": 4,
 "nbformat_minor": 5
}
