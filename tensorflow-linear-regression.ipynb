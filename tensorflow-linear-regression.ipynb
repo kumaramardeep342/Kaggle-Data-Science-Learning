{
 "cells": [
  {
   "cell_type": "markdown",
   "id": "a9dd24a5",
   "metadata": {
    "papermill": {
     "duration": 0.005461,
     "end_time": "2024-04-02T04:15:31.749585",
     "exception": false,
     "start_time": "2024-04-02T04:15:31.744124",
     "status": "completed"
    },
    "tags": []
   },
   "source": [
    "Welcome to the second hands-on exercise for Tensorflow. In this exercise , you will be building a linear regression model using tensorflow. \n",
    "You will be given a vector of input and output data, you need to find the linear relationship between these two data which is in the form  $$y = w*x + b$$"
   ]
  },
  {
   "cell_type": "code",
   "execution_count": 1,
   "id": "8125501b",
   "metadata": {
    "execution": {
     "iopub.execute_input": "2024-04-02T04:15:31.762824Z",
     "iopub.status.busy": "2024-04-02T04:15:31.761390Z",
     "iopub.status.idle": "2024-04-02T04:15:49.502909Z",
     "shell.execute_reply": "2024-04-02T04:15:49.501331Z"
    },
    "papermill": {
     "duration": 17.752092,
     "end_time": "2024-04-02T04:15:49.506817",
     "exception": false,
     "start_time": "2024-04-02T04:15:31.754725",
     "status": "completed"
    },
    "tags": []
   },
   "outputs": [
    {
     "name": "stderr",
     "output_type": "stream",
     "text": [
      "2024-04-02 04:15:35.252143: E external/local_xla/xla/stream_executor/cuda/cuda_dnn.cc:9261] Unable to register cuDNN factory: Attempting to register factory for plugin cuDNN when one has already been registered\n",
      "2024-04-02 04:15:35.252356: E external/local_xla/xla/stream_executor/cuda/cuda_fft.cc:607] Unable to register cuFFT factory: Attempting to register factory for plugin cuFFT when one has already been registered\n",
      "2024-04-02 04:15:35.448404: E external/local_xla/xla/stream_executor/cuda/cuda_blas.cc:1515] Unable to register cuBLAS factory: Attempting to register factory for plugin cuBLAS when one has already been registered\n"
     ]
    }
   ],
   "source": [
    "# This Python 3 environment comes with many helpful analytics libraries installed\n",
    "# It is defined by the kaggle/python Docker image: https://github.com/kaggle/docker-python\n",
    "# For example, here's several helpful packages to load\n",
    "\n",
    "import numpy as np # linear algebra\n",
    "import pandas as pd # data processing, CSV file I/O (e.g. pd.read_csv)\n",
    "#import tensorflow as tf\n",
    "import tensorflow.compat.v1 as tf # this is for TensorFlow 2.x with eager execution disabled,means we can execute TensorFlow 1.x method like Session etc.\n",
    "tf.disable_eager_execution() # disables eager execution, making TensorFlow operate in graph mode.\n",
    "import numpy.random as rand\n",
    "\n",
    "# Input data files are available in the read-only \"../input/\" directory\n",
    "# For example, running this (by clicking run or pressing Shift+Enter) will list all files under the input directory\n",
    "\n",
    "import os\n",
    "for dirname, _, filenames in os.walk('/kaggle/input'):\n",
    "    for filename in filenames:\n",
    "        print(os.path.join(dirname, filename))\n",
    "\n",
    "# You can write up to 20GB to the current directory (/kaggle/working/) that gets preserved as output when you create a version using \"Save & Run All\" \n",
    "# You can also write temporary files to /kaggle/temp/, but they won't be saved outside of the current session"
   ]
  },
  {
   "cell_type": "markdown",
   "id": "f39ee4d7",
   "metadata": {
    "papermill": {
     "duration": 0.005434,
     "end_time": "2024-04-02T04:15:49.518220",
     "exception": false,
     "start_time": "2024-04-02T04:15:49.512786",
     "status": "completed"
    },
    "tags": []
   },
   "source": [
    "Using numpy initialise training input data \n",
    "**trainX** with values [4.4,7.2,3.712,6.42,4.168,8.79,7.88,7.59,2.167,7.042,10.71,5.33,9.97,5.64,9.27,3.1,3.9]\n",
    "\n",
    "**trainY** with values [2.28644, 3.25412, 2.0486672, 2.984552, 2.2062608, 3.803624 ,3.489128, 3.388904 ,1.5147152, 3.1995152, 4.467176, 2.607848 ,4.211432, 2.714984, 3.969512, 1.83716, 2.11364]"
   ]
  },
  {
   "cell_type": "code",
   "execution_count": 2,
   "id": "222996ed",
   "metadata": {
    "execution": {
     "iopub.execute_input": "2024-04-02T04:15:49.532824Z",
     "iopub.status.busy": "2024-04-02T04:15:49.531380Z",
     "iopub.status.idle": "2024-04-02T04:15:49.540829Z",
     "shell.execute_reply": "2024-04-02T04:15:49.539165Z"
    },
    "papermill": {
     "duration": 0.020222,
     "end_time": "2024-04-02T04:15:49.544341",
     "exception": false,
     "start_time": "2024-04-02T04:15:49.524119",
     "status": "completed"
    },
    "tags": []
   },
   "outputs": [],
   "source": [
    "## Start Code \n",
    "trainX = np.array([4.4,7.2,3.712,6.42,4.168,8.79,7.88,7.59,2.167,7.042,10.71,5.33,9.97,5.64,9.27,3.1,3.9])\n",
    "                         \n",
    "trainY = np.array([2.28644, 3.25412, 2.0486672, 2.984552, 2.2062608, 3.803624 ,3.489128, 3.388904 ,1.5147152, 3.1995152, 4.467176, 2.607848 ,4.211432, 2.714984, 3.969512, 1.83716, 2.11364])\n",
    "## End Code \n",
    "\n",
    "num_samples = trainX.shape[0]"
   ]
  },
  {
   "cell_type": "markdown",
   "id": "34311591",
   "metadata": {
    "papermill": {
     "duration": 0.004681,
     "end_time": "2024-04-02T04:15:49.554147",
     "exception": false,
     "start_time": "2024-04-02T04:15:49.549466",
     "status": "completed"
    },
    "tags": []
   },
   "source": [
    "Define placeholders for input and output data as **X** and **Y** . Let them be of data type **float32** "
   ]
  },
  {
   "cell_type": "code",
   "execution_count": 3,
   "id": "df1c7c78",
   "metadata": {
    "execution": {
     "iopub.execute_input": "2024-04-02T04:15:49.566571Z",
     "iopub.status.busy": "2024-04-02T04:15:49.566082Z",
     "iopub.status.idle": "2024-04-02T04:15:49.577379Z",
     "shell.execute_reply": "2024-04-02T04:15:49.576243Z"
    },
    "papermill": {
     "duration": 0.021233,
     "end_time": "2024-04-02T04:15:49.580396",
     "exception": false,
     "start_time": "2024-04-02T04:15:49.559163",
     "status": "completed"
    },
    "tags": []
   },
   "outputs": [],
   "source": [
    "X = tf.placeholder(tf.float32)\n",
    "Y = tf.placeholder(tf.float32)"
   ]
  },
  {
   "cell_type": "markdown",
   "id": "b853806f",
   "metadata": {
    "papermill": {
     "duration": 0.004712,
     "end_time": "2024-04-02T04:15:49.590318",
     "exception": false,
     "start_time": "2024-04-02T04:15:49.585606",
     "status": "completed"
    },
    "tags": []
   },
   "source": [
    "Since this is a **linear regression** problem the output will be in the form of **w * trainX + b** \n",
    "\n",
    "Initialse **w** and **b** with random values using **rand.randn()** function. Make sure you declare them as **tensorflow variables**"
   ]
  },
  {
   "cell_type": "code",
   "execution_count": 4,
   "id": "582b347d",
   "metadata": {
    "execution": {
     "iopub.execute_input": "2024-04-02T04:15:49.603397Z",
     "iopub.status.busy": "2024-04-02T04:15:49.602385Z",
     "iopub.status.idle": "2024-04-02T04:15:49.623933Z",
     "shell.execute_reply": "2024-04-02T04:15:49.622737Z"
    },
    "papermill": {
     "duration": 0.032066,
     "end_time": "2024-04-02T04:15:49.627507",
     "exception": false,
     "start_time": "2024-04-02T04:15:49.595441",
     "status": "completed"
    },
    "tags": []
   },
   "outputs": [],
   "source": [
    "## Start Code \n",
    "w = tf.Variable(np.random.randn())\n",
    "b = tf.Variable(np.random.randn())\n",
    "## End Code "
   ]
  },
  {
   "cell_type": "markdown",
   "id": "eaf62fcd",
   "metadata": {
    "papermill": {
     "duration": 0.004698,
     "end_time": "2024-04-02T04:15:49.637705",
     "exception": false,
     "start_time": "2024-04-02T04:15:49.633007",
     "status": "completed"
    },
    "tags": []
   },
   "source": [
    "implement **X * W + b** using appropriate tensorflow functions to predict the output **Y**.\n",
    "\n",
    "Train the model using gradient descent to minimize the cost. \n",
    "Initialize the number of iterations and learning rate \n",
    "\n",
    "**TIP:** start with small learning rate and large iteration."
   ]
  },
  {
   "cell_type": "code",
   "execution_count": 5,
   "id": "34df64ab",
   "metadata": {
    "execution": {
     "iopub.execute_input": "2024-04-02T04:15:49.651273Z",
     "iopub.status.busy": "2024-04-02T04:15:49.650202Z",
     "iopub.status.idle": "2024-04-02T04:15:49.735025Z",
     "shell.execute_reply": "2024-04-02T04:15:49.733669Z"
    },
    "papermill": {
     "duration": 0.095157,
     "end_time": "2024-04-02T04:15:49.738236",
     "exception": false,
     "start_time": "2024-04-02T04:15:49.643079",
     "status": "completed"
    },
    "tags": []
   },
   "outputs": [],
   "source": [
    "## Start Code \n",
    "\n",
    "num_iter = 10000 \n",
    "learning_rate = 0.01\n",
    "\n",
    "\n",
    "pred = pred=tf.add(tf.multiply(X,w),b)\n",
    "cost = tf.reduce_mean(tf.square(pred - Y))\n",
    "\n",
    "optimizer = tf.train.GradientDescentOptimizer(learning_rate)\n",
    "train = optimizer.minimize(cost)\n",
    "## End Code "
   ]
  },
  {
   "cell_type": "code",
   "execution_count": 6,
   "id": "67ed8580",
   "metadata": {
    "execution": {
     "iopub.execute_input": "2024-04-02T04:15:49.751301Z",
     "iopub.status.busy": "2024-04-02T04:15:49.750395Z",
     "iopub.status.idle": "2024-04-02T04:15:54.746942Z",
     "shell.execute_reply": "2024-04-02T04:15:54.745223Z"
    },
    "papermill": {
     "duration": 5.006855,
     "end_time": "2024-04-02T04:15:54.750172",
     "exception": false,
     "start_time": "2024-04-02T04:15:49.743317",
     "status": "completed"
    },
    "tags": []
   },
   "outputs": [],
   "source": [
    "#Execute the below piece of code. \n",
    "text_file = open(\"Output.txt\", \"w\")\n",
    "model = tf.global_variables_initializer()\n",
    "with tf.Session() as session:\n",
    "    session.run(model)\n",
    "    for i in range(num_iter):\n",
    "        session.run(train, feed_dict={X: trainX , Y: trainY})\n",
    "    w = session.run(w)\n",
    "    b = session.run(b)\n",
    "    with open(\"Output.txt\", \"w\") as text_file:\n",
    "        text_file.write(\"w= %f\\n\" % w)\n",
    "        text_file.write(\"b= %f\" % b)"
   ]
  },
  {
   "cell_type": "code",
   "execution_count": 7,
   "id": "36fb6861",
   "metadata": {
    "execution": {
     "iopub.execute_input": "2024-04-02T04:15:54.761450Z",
     "iopub.status.busy": "2024-04-02T04:15:54.761045Z",
     "iopub.status.idle": "2024-04-02T04:15:54.766533Z",
     "shell.execute_reply": "2024-04-02T04:15:54.765096Z"
    },
    "papermill": {
     "duration": 0.014614,
     "end_time": "2024-04-02T04:15:54.769645",
     "exception": false,
     "start_time": "2024-04-02T04:15:54.755031",
     "status": "completed"
    },
    "tags": []
   },
   "outputs": [],
   "source": [
    "#jupyter nbconvert --to notebook --inplace --execute Linear_Regression_Hands_On.ipynb -- to execute "
   ]
  }
 ],
 "metadata": {
  "kaggle": {
   "accelerator": "none",
   "dataSources": [],
   "dockerImageVersionId": 30673,
   "isGpuEnabled": false,
   "isInternetEnabled": true,
   "language": "python",
   "sourceType": "notebook"
  },
  "kernelspec": {
   "display_name": "Python 3",
   "language": "python",
   "name": "python3"
  },
  "language_info": {
   "codemirror_mode": {
    "name": "ipython",
    "version": 3
   },
   "file_extension": ".py",
   "mimetype": "text/x-python",
   "name": "python",
   "nbconvert_exporter": "python",
   "pygments_lexer": "ipython3",
   "version": "3.10.13"
  },
  "papermill": {
   "default_parameters": {},
   "duration": 29.411965,
   "end_time": "2024-04-02T04:15:57.459357",
   "environment_variables": {},
   "exception": null,
   "input_path": "__notebook__.ipynb",
   "output_path": "__notebook__.ipynb",
   "parameters": {},
   "start_time": "2024-04-02T04:15:28.047392",
   "version": "2.5.0"
  }
 },
 "nbformat": 4,
 "nbformat_minor": 5
}
